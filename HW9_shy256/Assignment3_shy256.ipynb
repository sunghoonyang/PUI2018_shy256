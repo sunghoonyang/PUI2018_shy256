{
 "cells": [
  {
   "cell_type": "markdown",
   "metadata": {
    "run_control": {
     "frozen": false,
     "read_only": false
    },
    "toc": "true"
   },
   "source": [
    "# Table of Contents\n",
    " <p><div class=\"lev1 toc-item\"><a href=\"#DATA:\" data-toc-modified-id=\"DATA:-1\"><span class=\"toc-item-num\">1&nbsp;&nbsp;</span>DATA:</a></div><div class=\"lev1 toc-item\"><a href=\"#exploration\" data-toc-modified-id=\"exploration-2\"><span class=\"toc-item-num\">2&nbsp;&nbsp;</span>exploration</a></div><div class=\"lev2 toc-item\"><a href=\"#plot-mass-shooting-vs-gdp-in-absolute-numbers,-and-per-person.-Show-the-errorbars-(y-errors)\" data-toc-modified-id=\"plot-mass-shooting-vs-gdp-in-absolute-numbers,-and-per-person.-Show-the-errorbars-(y-errors)-21\"><span class=\"toc-item-num\">2.1&nbsp;&nbsp;</span>plot mass shooting vs gdp in absolute numbers, and per person. Show the errorbars (y errors)</a></div><div class=\"lev2 toc-item\"><a href=\"#plot-the-average-number-of-civilian-fire-arms-per-person\" data-toc-modified-id=\"plot-the-average-number-of-civilian-fire-arms-per-person-22\"><span class=\"toc-item-num\">2.2&nbsp;&nbsp;</span>plot the average number of civilian fire arms per person</a></div><div class=\"lev2 toc-item\"><a href=\"#plot-the-average-number-of-homicide-by-fire-arms-per-person\" data-toc-modified-id=\"plot-the-average-number-of-homicide-by-fire-arms-per-person-23\"><span class=\"toc-item-num\">2.3&nbsp;&nbsp;</span>plot the average number of homicide by fire arms per person</a></div><div class=\"lev2 toc-item\"><a href=\"#plot-the-number-of--homicides-by-fire-arm-against-the-number-of-civilian-firearms.-plot-the--US-in-a-different-color\" data-toc-modified-id=\"plot-the-number-of--homicides-by-fire-arm-against-the-number-of-civilian-firearms.-plot-the--US-in-a-different-color-24\"><span class=\"toc-item-num\">2.4&nbsp;&nbsp;</span>plot the number of  homicides by fire arm against the number of civilian firearms. plot the  US in a different color</a></div><div class=\"lev2 toc-item\"><a href=\"#plot-the-number-of--mass-shootings-against-the-number-of-civilian-firearms.-plot-the--US-in-a-different-color\" data-toc-modified-id=\"plot-the-number-of--mass-shootings-against-the-number-of-civilian-firearms.-plot-the--US-in-a-different-color-25\"><span class=\"toc-item-num\">2.5&nbsp;&nbsp;</span>plot the number of  mass shootings against the number of civilian firearms. plot the  US in a different color</a></div><div class=\"lev1 toc-item\"><a href=\"#Modeling\" data-toc-modified-id=\"Modeling-3\"><span class=\"toc-item-num\">3&nbsp;&nbsp;</span>Modeling</a></div><div class=\"lev2 toc-item\"><a href=\"#fit-a-line-to-the-Number-of-mass-shootings--per-person-as-a-function-of-Average-total-all-civilian-firearms-per-person.\" data-toc-modified-id=\"fit-a-line-to-the-Number-of-mass-shootings--per-person-as-a-function-of-Average-total-all-civilian-firearms-per-person.-31\"><span class=\"toc-item-num\">3.1&nbsp;&nbsp;</span>fit a line to the Number of mass shootings  per person as a function of Average total all civilian firearms per person.</a></div><div class=\"lev2 toc-item\"><a href=\"#Outlier-removal:\" data-toc-modified-id=\"Outlier-removal:-32\"><span class=\"toc-item-num\">3.2&nbsp;&nbsp;</span>Outlier removal:</a></div><div class=\"lev2 toc-item\"><a href=\"#Extra-credit:-calculate-the-confidence-interval-by-hand-and-also-plot-them\" data-toc-modified-id=\"Extra-credit:-calculate-the-confidence-interval-by-hand-and-also-plot-them-33\"><span class=\"toc-item-num\">3.3&nbsp;&nbsp;</span>Extra credit: calculate the confidence interval by hand and also plot them</a></div><div class=\"lev2 toc-item\"><a href=\"#Use-the-stsatsmodels.gaphics-package-to-plot-the-influence-plot.\" data-toc-modified-id=\"Use-the-stsatsmodels.gaphics-package-to-plot-the-influence-plot.-34\"><span class=\"toc-item-num\">3.4&nbsp;&nbsp;</span>Use the stsatsmodels.gaphics package to plot the influence plot.</a></div><div class=\"lev2 toc-item\"><a href=\"#Extra-credit:-calculate-from-scratch-the-stanrdardized-residuals-and-the-H-leverage-for-the-WLS-model-and-discuss-if-there-are-any-differences\" data-toc-modified-id=\"Extra-credit:-calculate-from-scratch-the-stanrdardized-residuals-and-the-H-leverage-for-the-WLS-model-and-discuss-if-there-are-any-differences-35\"><span class=\"toc-item-num\">3.5&nbsp;&nbsp;</span>Extra credit: calculate from scratch the stanrdardized residuals and the H leverage for the WLS model and discuss if there are any differences</a></div><div class=\"lev2 toc-item\"><a href=\"#Discuss-your-findings\" data-toc-modified-id=\"Discuss-your-findings-36\"><span class=\"toc-item-num\">3.6&nbsp;&nbsp;</span>Discuss your findings</a></div>"
   ]
  },
  {
   "cell_type": "markdown",
   "metadata": {
    "run_control": {
     "frozen": false,
     "read_only": false
    }
   },
   "source": [
    "**regression exercise**\n",
    "\n",
    "**written by Federica B Bianco CUSP 2017**\n",
    "\n",
    "**for PUI lecture on models and linear regression**"
   ]
  },
  {
   "cell_type": "markdown",
   "metadata": {
    "run_control": {
     "frozen": false,
     "read_only": false
    }
   },
   "source": [
    "**investigate linear relationships between fire arm possession, homicides by fire arms, and mass shootings for different countries, considering also the country GDP**"
   ]
  },
  {
   "cell_type": "markdown",
   "metadata": {
    "run_control": {
     "frozen": false,
     "read_only": false
    }
   },
   "source": [
    "# DATA: \n",
    "\n",
    "The Guardian firearms murders and ownership data. The relevans sheet is uploaded in the github repository as a csv file. Download it from there. Note: this dataset is from 2012.\n",
    "\n",
    "**Extra credit**: download directly from google docs with a google API\n",
    "\n",
    "https://docs.google.com/spreadsheets/d/1chqUZHuY6cXYrRYkuE0uwXisGaYvr7durZHJhpLGycs/edit#gid=0\n",
    "\n",
    "Number of mass shootings: find the link here https://datawrapper.dwcdn.net/pvLFI/4/\n",
    "\n",
    "The world population by country find the download link here :\n",
    "https://data.worldbank.org/indicator/SP.POP.TOTL\n",
    "\n",
    "Remember that all read or downloads have to me reproducible.\n",
    "\n",
    "Merge all datasets. After throwing away the irrelevant data it should look something like this (I renamed the GDP and the population as gdp\" and \"pop\")\n",
    "\n",
    "Throughout, when I ask you to include errors in plots or models, use Poisson statistics: the error is the square root of the number you are considering (e.g. this country has N fire arms +/- square root of N, or this country has Np [= N/population +/- (square root of N) / population] fire arms per person)."
   ]
  },
  {
   "cell_type": "markdown",
   "metadata": {},
   "source": [
    "#### Trying to get Google API working"
   ]
  },
  {
   "cell_type": "code",
   "execution_count": 12,
   "metadata": {},
   "outputs": [],
   "source": [
    "from googleapiclient.discovery import build\n",
    "from httplib2 import Http\n",
    "from oauth2client import file, client, tools"
   ]
  },
  {
   "cell_type": "code",
   "execution_count": 11,
   "metadata": {},
   "outputs": [
    {
     "data": {
      "text/plain": [
       "{'installed': {'auth_provider_x509_cert_url': 'https://www.googleapis.com/oauth2/v1/certs',\n",
       "  'auth_uri': 'https://accounts.google.com/o/oauth2/auth',\n",
       "  'client_id': '565675958472-gqp4bdmc1mc7ecu5hrsak6gdeijbarsa.apps.googleusercontent.com',\n",
       "  'client_secret': '6biEpnLjdohvcGilHMcFLONZ',\n",
       "  'project_id': 'hip-phoenix-166712',\n",
       "  'redirect_uris': ['urn:ietf:wg:oauth:2.0:oob', 'http://localhost'],\n",
       "  'token_uri': 'https://www.googleapis.com/oauth2/v3/token'}}"
      ]
     },
     "execution_count": 11,
     "metadata": {},
     "output_type": "execute_result"
    }
   ],
   "source": [
    "import pickle\n",
    "import gzip\n",
    "import json\n",
    "from pprint import pprint\n",
    "\n",
    "# returns my GOOGLE API keys\n",
    "with gzip.open('/nfshome/shy256/fall18/PUI/PUI2018/HW9_shy256/.google_api_cli_key.bin', 'rb') as f:\n",
    "    __GOOGLE_API_CLI__ = json.loads(pickle.load(f))\n",
    "\n",
    "__GOOGLE_API_CLI__"
   ]
  },
  {
   "cell_type": "code",
   "execution_count": 15,
   "metadata": {},
   "outputs": [
    {
     "name": "stderr",
     "output_type": "stream",
     "text": [
      "usage: ipykernel_launcher.py [--auth_host_name AUTH_HOST_NAME]\n",
      "                             [--noauth_local_webserver]\n",
      "                             [--auth_host_port [AUTH_HOST_PORT [AUTH_HOST_PORT ...]]]\n",
      "                             [--logging_level {DEBUG,INFO,WARNING,ERROR,CRITICAL}]\n",
      "ipykernel_launcher.py: error: unrecognized arguments: -f /nfshome/shy256/.local/share/jupyter/runtime/kernel-215fe87c-9629-4439-a41d-40528fb82fd2.json\n"
     ]
    },
    {
     "ename": "SystemExit",
     "evalue": "2",
     "output_type": "error",
     "traceback": [
      "An exception has occurred, use %tb to see the full traceback.\n",
      "\u001b[0;31mSystemExit\u001b[0m\u001b[0;31m:\u001b[0m 2\n"
     ]
    },
    {
     "name": "stderr",
     "output_type": "stream",
     "text": [
      "/nfshome/shy256/.conda/envs/tf/lib/python3.5/site-packages/IPython/core/interactiveshell.py:3273: UserWarning: To exit: use 'exit', 'quit', or Ctrl-D.\n",
      "  warn(\"To exit: use 'exit', 'quit', or Ctrl-D.\", stacklevel=1)\n"
     ]
    }
   ],
   "source": [
    "# If modifying these scopes, delete the file token.json.\n",
    "SCOPES = 'https://www.googleapis.com/auth/drive.metadata.readonly'\n",
    "\n",
    "\"\"\"Shows basic usage of the Drive v3 API.\n",
    "Prints the names and ids of the first 10 files the user has access to.\n",
    "\"\"\"\n",
    "# The file token.json stores the user's access and refresh tokens, and is\n",
    "# created automatically when the authorization flow completes for the first\n",
    "# time.\n",
    "store = file.Storage('token.json')\n",
    "creds = store.get()\n",
    "if not creds or creds.invalid:\n",
    "    flow = client.flow_from_clientsecrets('credential.json', SCOPES)\n",
    "    creds = tools.run_flow(flow, store)\n",
    "service = build('drive', 'v3', http=creds.authorize(Http()))\n",
    "\n",
    "# Call the Drive v3 API\n",
    "results = service.files().list(\n",
    "    pageSize=10, fields=\"nextPageToken, files(id, name)\").execute()\n",
    "items = results.get('files', [])\n",
    "\n",
    "if not items:\n",
    "    print('No files found.')\n",
    "else:\n",
    "    print('Files:')\n",
    "    for item in items:\n",
    "        print(u'{0} ({1})'.format(item['name'], item['id']))\n"
   ]
  },
  {
   "cell_type": "code",
   "execution_count": 7,
   "metadata": {},
   "outputs": [
    {
     "name": "stdout",
     "output_type": "stream",
     "text": [
      "{\n",
      " \"error\": {\n",
      "  \"errors\": [\n",
      "   {\n",
      "    \"domain\": \"usageLimits\",\n",
      "    \"reason\": \"dailyLimitExceededUnreg\",\n",
      "    \"message\": \"Daily Limit for Unauthenticated Use Exceeded. Continued use requires signup.\",\n",
      "    \"extendedHelp\": \"https://code.google.com/apis/console\"\n",
      "   }\n",
      "  ],\n",
      "  \"code\": 403,\n",
      "  \"message\": \"Daily Limit for Unauthenticated Use Exceeded. Continued use requires signup.\"\n",
      " }\n",
      "}\n"
     ]
    }
   ],
   "source": [
    "file_id = '1chqUZHuY6cXYrRYkuE0uwXisGaYvr7durZHJhpLGycs'\n",
    "request = drive_service.files().get_media(fileId=file_id)\n",
    "fh = io.BytesIO()\n",
    "downloader = MediaIoBaseDownload(fh, request)\n",
    "done = False\n",
    "while done is False:\n",
    "    status, done = downloader.next_chunk()\n",
    "    print \"Download %d%%.\" % int(status.progress() * 100)"
   ]
  },
  {
   "cell_type": "code",
   "execution_count": 212,
   "metadata": {},
   "outputs": [],
   "source": [
    "from __future__ import print_function\n",
    "# this is me\n",
    "__author__ = \"Sung Hoon Yang, CUSP NYU 2018\"\n",
    "\n",
    "# limit the number of same warnings to once\n",
    "import warnings\n",
    "warnings.filterwarnings(action='once')\n",
    "\n",
    "## bread and butter\n",
    "import sys\n",
    "import numpy as np\n",
    "import pandas as pd\n",
    "import matplotlib\n",
    "font = {'weight' : 'bold',\n",
    "        'size'   : 88}\n",
    "\n",
    "matplotlib.rc('font', **font)\n",
    "import matplotlib.pyplot as plt\n",
    "import pylab as pl\n",
    "import seaborn as sns\n",
    "import os\n",
    "\"\"\"\n",
    "Set up PUIDATA env var\n",
    "\"\"\"\n",
    "os.environ[\"PUIDATA\"] = \"%s/fall18/PUI/PUIDATA\"% os.getenv(\"HOME\")\n",
    "os.environ[\"PUI2018\"] = \"%s/fall18/PUI/PUI2018\"% os.getenv(\"HOME\")\n",
    "%matplotlib inline\n",
    "np.random.seed(999)\n",
    "\n",
    "# Utilities\n",
    "sys.path.insert(0, '/nfshome/shy256/util')\n",
    "from puma_to_name import PUMA_TO_NAME\n",
    "from pprint import pprint\n",
    "import re\n",
    "from datetime import datetime, timedelta\n",
    "from dateutil.relativedelta import relativedelta\n",
    "from copy import deepcopy\n",
    "import geopandas as gpd"
   ]
  },
  {
   "cell_type": "code",
   "execution_count": 20,
   "metadata": {},
   "outputs": [
    {
     "name": "stdout",
     "output_type": "stream",
     "text": [
      "Country/Territory,ISO code,Source,% of homicides by firearm,Number of homicides by firearm,\"Homicide by firearm rate per 100,000 pop\",Rank by rate of ownership,Average firearms per 100 people,Average total all civilian firearms\n",
      "Albania,AL,CTS,65.9,56,1.76,70,8.6,270000\n",
      "Algeria,DZ,CTS,4.8,20,0.06,78,7.6,1900000\n",
      "Angola,AO,,,,,34,17.3,2800000\n",
      "Anguilla,AI,WHO-MDB,24,1,7.14,,,\n",
      "Argentina,AR,Ministry of Justice,52,1198,3.02,62,10.2,3950000\n",
      "Armenia,AM,CTS,13,9,0.29,52,12.5,380000\n",
      "Australia,AU,NSO,11.5,30,0.14,42,15,3050000\n",
      "Austria,AT,CTS,29.5,18,0.22,14,30.4,2500000\n",
      "Azerbaijan,AZ,CTS,6.5,11,0.12,115,3.5,290000\n"
     ]
    }
   ],
   "source": [
    "!head \"$fp\""
   ]
  },
  {
   "cell_type": "code",
   "execution_count": 60,
   "metadata": {},
   "outputs": [
    {
     "data": {
      "text/html": [
       "<div>\n",
       "<style scoped>\n",
       "    .dataframe tbody tr th:only-of-type {\n",
       "        vertical-align: middle;\n",
       "    }\n",
       "\n",
       "    .dataframe tbody tr th {\n",
       "        vertical-align: top;\n",
       "    }\n",
       "\n",
       "    .dataframe thead th {\n",
       "        text-align: right;\n",
       "    }\n",
       "</style>\n",
       "<table border=\"1\" class=\"dataframe\">\n",
       "  <thead>\n",
       "    <tr style=\"text-align: right;\">\n",
       "      <th></th>\n",
       "      <th>Country/Territory</th>\n",
       "      <th>ISO code</th>\n",
       "      <th>Source</th>\n",
       "      <th>% of homicides by firearm</th>\n",
       "      <th>Number of homicides by firearm</th>\n",
       "      <th>Homicide by firearm rate per 100,000 pop</th>\n",
       "      <th>Rank by rate of ownership</th>\n",
       "      <th>Average firearms per 100 people</th>\n",
       "      <th>Average total all civilian firearms</th>\n",
       "    </tr>\n",
       "  </thead>\n",
       "  <tbody>\n",
       "    <tr>\n",
       "      <th>0</th>\n",
       "      <td>Albania</td>\n",
       "      <td>AL</td>\n",
       "      <td>CTS</td>\n",
       "      <td>65.9</td>\n",
       "      <td>56.0</td>\n",
       "      <td>1.76</td>\n",
       "      <td>70.0</td>\n",
       "      <td>8.6</td>\n",
       "      <td>270000.0</td>\n",
       "    </tr>\n",
       "    <tr>\n",
       "      <th>1</th>\n",
       "      <td>Algeria</td>\n",
       "      <td>DZ</td>\n",
       "      <td>CTS</td>\n",
       "      <td>4.8</td>\n",
       "      <td>20.0</td>\n",
       "      <td>0.06</td>\n",
       "      <td>78.0</td>\n",
       "      <td>7.6</td>\n",
       "      <td>1900000.0</td>\n",
       "    </tr>\n",
       "    <tr>\n",
       "      <th>2</th>\n",
       "      <td>Angola</td>\n",
       "      <td>AO</td>\n",
       "      <td>NaN</td>\n",
       "      <td>NaN</td>\n",
       "      <td>NaN</td>\n",
       "      <td>NaN</td>\n",
       "      <td>34.0</td>\n",
       "      <td>17.3</td>\n",
       "      <td>2800000.0</td>\n",
       "    </tr>\n",
       "    <tr>\n",
       "      <th>3</th>\n",
       "      <td>Anguilla</td>\n",
       "      <td>AI</td>\n",
       "      <td>WHO-MDB</td>\n",
       "      <td>24.0</td>\n",
       "      <td>1.0</td>\n",
       "      <td>7.14</td>\n",
       "      <td>NaN</td>\n",
       "      <td>NaN</td>\n",
       "      <td>NaN</td>\n",
       "    </tr>\n",
       "    <tr>\n",
       "      <th>4</th>\n",
       "      <td>Argentina</td>\n",
       "      <td>AR</td>\n",
       "      <td>Ministry of Justice</td>\n",
       "      <td>52.0</td>\n",
       "      <td>1198.0</td>\n",
       "      <td>3.02</td>\n",
       "      <td>62.0</td>\n",
       "      <td>10.2</td>\n",
       "      <td>3950000.0</td>\n",
       "    </tr>\n",
       "  </tbody>\n",
       "</table>\n",
       "</div>"
      ],
      "text/plain": [
       "  Country/Territory ISO code               Source  % of homicides by firearm  \\\n",
       "0           Albania       AL                  CTS                       65.9   \n",
       "1           Algeria       DZ                  CTS                        4.8   \n",
       "2            Angola       AO                  NaN                        NaN   \n",
       "3          Anguilla       AI              WHO-MDB                       24.0   \n",
       "4         Argentina       AR  Ministry of Justice                       52.0   \n",
       "\n",
       "   Number of homicides by firearm  Homicide by firearm rate per 100,000 pop  \\\n",
       "0                            56.0                                      1.76   \n",
       "1                            20.0                                      0.06   \n",
       "2                             NaN                                       NaN   \n",
       "3                             1.0                                      7.14   \n",
       "4                          1198.0                                      3.02   \n",
       "\n",
       "   Rank by rate of ownership  Average firearms per 100 people  \\\n",
       "0                       70.0                              8.6   \n",
       "1                       78.0                              7.6   \n",
       "2                       34.0                             17.3   \n",
       "3                        NaN                              NaN   \n",
       "4                       62.0                             10.2   \n",
       "\n",
       "   Average total all civilian firearms  \n",
       "0                             270000.0  \n",
       "1                            1900000.0  \n",
       "2                            2800000.0  \n",
       "3                                  NaN  \n",
       "4                            3950000.0  "
      ]
     },
     "execution_count": 60,
     "metadata": {},
     "output_type": "execute_result"
    }
   ],
   "source": [
    "#### get data from ftp-ed file\n",
    "__HW_DIR__ = os.path.join(os.getenv(\"PUIDATA\"), 'HW9')\n",
    "wfmao_fp = os.path.join(__HW_DIR__, 'wfmao.csv')\n",
    "wfmao_df = pd.read_csv(wfmao_fp, sep=',')\n",
    "wfmao_df.head()"
   ]
  },
  {
   "cell_type": "markdown",
   "metadata": {},
   "source": [
    "#### Acquiring Data; Number of mass shootings"
   ]
  },
  {
   "cell_type": "code",
   "execution_count": 57,
   "metadata": {},
   "outputs": [],
   "source": [
    "_fp = \"data:application/octet-stream;charset=utf-8,Country%2CGuns%20per%20100%20inhabitants%2CNumber%20of%20mass%20shootings%20(1983-2013)%0AAustralia%2C15%2C4%0AAustria%2C30.4%2C1%0ABelgium%2C17.2%2C2%0ACanada%2C30.8%2C4%0ADenmark%2C12%2C0%0AFinland%2C45.3%2C2%0AFrance%2C31.2%2C6%0AGermany%2C30.3%2C7%0AGreece%2C22.5%2C0%0AHolland%2C3.9%2C2%0AHungary%2C5.5%2C0%0AIceland%2C30.3%2C0%0AIreland%2C8.6%2C0%0AItaly%2C11.9%2C0%0AJapan%2C0.6%2C0%0ALuxembourg%2C15.3%2C0%0ANew%20Zealand%2C22.6%2C3%0ANorway%2C31.3%2C1%0APoland%2C1.3%2C0%0APortugal%2C8.5%2C1%0ASpain%2C10.4%2C1%0ASweden%2C31.6%2C2%0ASwitzerland%2C45.7%2C2%0AUnited%20Kingdom%2C6.2%2C3%0AUnited%20States%2C88.8%2C78\""
   ]
  },
  {
   "cell_type": "code",
   "execution_count": 58,
   "metadata": {},
   "outputs": [
    {
     "name": "stdout",
     "output_type": "stream",
     "text": [
      "curl: (1) Protocol \"data\" not supported or disabled in libcurl\n",
      "Assignment2_inst.ipynb\t  Assignment3_instructions-Copy1.ipynb\tcredential.json\n",
      "Assignment2_shy256.ipynb  Assignment3_shy256.ipynb\t\tREADME.md\n"
     ]
    }
   ],
   "source": [
    "!curl -i -X GET \"$_fp\"; ls\n"
   ]
  },
  {
   "cell_type": "code",
   "execution_count": 48,
   "metadata": {},
   "outputs": [
    {
     "name": "stdout",
     "output_type": "stream",
     "text": [
      "curl: (6) Could not resolve host: data\n",
      "Assignment2_inst.ipynb\t  Assignment3_instructions-Copy1.ipynb\tcredential.json\n",
      "Assignment2_shy256.ipynb  Assignment3_shy256.ipynb\t\tREADME.md\n"
     ]
    }
   ],
   "source": [
    "!curl \"$_fp\"; ls"
   ]
  },
  {
   "cell_type": "code",
   "execution_count": 41,
   "metadata": {},
   "outputs": [
    {
     "name": "stdout",
     "output_type": "stream",
     "text": [
      "API_SP.POP.TOTL_DS2_en_csv_v2_10203548.csv\n",
      "Metadata_Country_API_SP.POP.TOTL_DS2_en_csv_v2_10203548.csv\n",
      "Metadata_Indicator_API_SP.POP.TOTL_DS2_en_csv_v2_10203548.csv\n",
      "pop_by_country.zip\n"
     ]
    }
   ],
   "source": [
    "!cd \"$__HW_DIR__\"/pop_by_country; mkdir mass_shooting; cd mass_shooting; wget -O mass_shooting"
   ]
  },
  {
   "cell_type": "code",
   "execution_count": 59,
   "metadata": {},
   "outputs": [
    {
     "data": {
      "text/html": [
       "<div>\n",
       "<style scoped>\n",
       "    .dataframe tbody tr th:only-of-type {\n",
       "        vertical-align: middle;\n",
       "    }\n",
       "\n",
       "    .dataframe tbody tr th {\n",
       "        vertical-align: top;\n",
       "    }\n",
       "\n",
       "    .dataframe thead th {\n",
       "        text-align: right;\n",
       "    }\n",
       "</style>\n",
       "<table border=\"1\" class=\"dataframe\">\n",
       "  <thead>\n",
       "    <tr style=\"text-align: right;\">\n",
       "      <th></th>\n",
       "      <th>Country</th>\n",
       "      <th>Guns per 100 inhabitants</th>\n",
       "      <th>Number of mass shootings (1983-2013)</th>\n",
       "    </tr>\n",
       "  </thead>\n",
       "  <tbody>\n",
       "    <tr>\n",
       "      <th>0</th>\n",
       "      <td>Australia</td>\n",
       "      <td>15.0</td>\n",
       "      <td>4</td>\n",
       "    </tr>\n",
       "    <tr>\n",
       "      <th>1</th>\n",
       "      <td>Austria</td>\n",
       "      <td>30.4</td>\n",
       "      <td>1</td>\n",
       "    </tr>\n",
       "    <tr>\n",
       "      <th>2</th>\n",
       "      <td>Belgium</td>\n",
       "      <td>17.2</td>\n",
       "      <td>2</td>\n",
       "    </tr>\n",
       "    <tr>\n",
       "      <th>3</th>\n",
       "      <td>Canada</td>\n",
       "      <td>30.8</td>\n",
       "      <td>4</td>\n",
       "    </tr>\n",
       "    <tr>\n",
       "      <th>4</th>\n",
       "      <td>Denmark</td>\n",
       "      <td>12.0</td>\n",
       "      <td>0</td>\n",
       "    </tr>\n",
       "  </tbody>\n",
       "</table>\n",
       "</div>"
      ],
      "text/plain": [
       "     Country  Guns per 100 inhabitants  Number of mass shootings (1983-2013)\n",
       "0  Australia                      15.0                                     4\n",
       "1    Austria                      30.4                                     1\n",
       "2    Belgium                      17.2                                     2\n",
       "3     Canada                      30.8                                     4\n",
       "4    Denmark                      12.0                                     0"
      ]
     },
     "execution_count": 59,
     "metadata": {},
     "output_type": "execute_result"
    }
   ],
   "source": [
    "#### get data from ftp-ed file\n",
    "__HW_DIR__ = os.path.join(os.getenv(\"PUIDATA\"), 'HW9')\n",
    "pvLFI_fp = os.path.join(__HW_DIR__, 'data-pvLFI.csv')\n",
    "pvLFI_df = pd.read_csv(pvLFI_fp)\n",
    "pvLFI_df.head()"
   ]
  },
  {
   "cell_type": "markdown",
   "metadata": {},
   "source": [
    "#### Population by Country"
   ]
  },
  {
   "cell_type": "code",
   "execution_count": 40,
   "metadata": {},
   "outputs": [
    {
     "name": "stdout",
     "output_type": "stream",
     "text": [
      "--2018-11-13 22:31:25--  http://api.worldbank.org/v2/en/indicator/SP.POP.TOTL?downloadformat=csv\n",
      "Resolving api.worldbank.org (api.worldbank.org)... 52.202.62.36\n",
      "Connecting to api.worldbank.org (api.worldbank.org)|52.202.62.36|:80... connected.\n",
      "HTTP request sent, awaiting response... 200 OK\n",
      "Length: 79717 (78K) [application/zip]\n",
      "Saving to: ‘pop_by_country.zip’\n",
      "\n",
      "pop_by_country.zip  100%[===================>]  77.85K  --.-KB/s    in 0.01s   \n",
      "\n",
      "2018-11-13 22:31:25 (5.74 MB/s) - ‘pop_by_country.zip’ saved [79717/79717]\n",
      "\n",
      "Archive:  pop_by_country.zip\n",
      "  inflating: Metadata_Indicator_API_SP.POP.TOTL_DS2_en_csv_v2_10203548.csv  \n",
      "  inflating: API_SP.POP.TOTL_DS2_en_csv_v2_10203548.csv  \n",
      "  inflating: Metadata_Country_API_SP.POP.TOTL_DS2_en_csv_v2_10203548.csv  \n"
     ]
    }
   ],
   "source": [
    "!cd \"$__HW_DIR__\"; mkdir pop_by_country; cd pop_by_country; wget -O pop_by_country.zip http://api.worldbank.org/v2/en/indicator/SP.POP.TOTL?downloadformat=csv; unzip pop_by_country.zip;"
   ]
  },
  {
   "cell_type": "code",
   "execution_count": 41,
   "metadata": {},
   "outputs": [
    {
     "name": "stdout",
     "output_type": "stream",
     "text": [
      "API_SP.POP.TOTL_DS2_en_csv_v2_10203548.csv\n",
      "Metadata_Country_API_SP.POP.TOTL_DS2_en_csv_v2_10203548.csv\n",
      "Metadata_Indicator_API_SP.POP.TOTL_DS2_en_csv_v2_10203548.csv\n",
      "pop_by_country.zip\n"
     ]
    }
   ],
   "source": [
    "!cd \"$__HW_DIR__\"/pop_by_country; ls"
   ]
  },
  {
   "cell_type": "code",
   "execution_count": 43,
   "metadata": {},
   "outputs": [
    {
     "name": "stdout",
     "output_type": "stream",
     "text": [
      "﻿\"Data Source\",\"World Development Indicators\",\n",
      "\n",
      "\"Last Updated Date\",\"2018-10-18\",\n",
      "\n",
      "\"Country Name\",\"Country Code\",\"Indicator Name\",\"Indicator Code\",\"1960\",\"1961\",\"1962\",\"1963\",\"1964\",\"1965\",\"1966\",\"1967\",\"1968\",\"1969\",\"1970\",\"1971\",\"1972\",\"1973\",\"1974\",\"1975\",\"1976\",\"1977\",\"1978\",\"1979\",\"1980\",\"1981\",\"1982\",\"1983\",\"1984\",\"1985\",\"1986\",\"1987\",\"1988\",\"1989\",\"1990\",\"1991\",\"1992\",\"1993\",\"1994\",\"1995\",\"1996\",\"1997\",\"1998\",\"1999\",\"2000\",\"2001\",\"2002\",\"2003\",\"2004\",\"2005\",\"2006\",\"2007\",\"2008\",\"2009\",\"2010\",\"2011\",\"2012\",\"2013\",\"2014\",\"2015\",\"2016\",\"2017\",\n",
      "\"Aruba\",\"ABW\",\"Population, total\",\"SP.POP.TOTL\",\"54211\",\"55438\",\"56225\",\"56695\",\"57032\",\"57360\",\"57715\",\"58055\",\"58386\",\"58726\",\"59063\",\"59440\",\"59840\",\"60243\",\"60528\",\"60657\",\"60586\",\"60366\",\"60103\",\"59980\",\"60096\",\"60567\",\"61345\",\"62201\",\"62836\",\"63026\",\"62644\",\"61833\",\"61079\",\"61032\",\"62149\",\"64622\",\"68235\",\"72504\",\"76700\",\"80324\",\"83200\",\"85451\",\"87277\",\"89005\",\"90853\",\"92898\",\"94992\",\"97017\",\"98737\",\"100031\",\"100832\",\"101220\",\"101353\",\"101453\",\"101669\",\"102053\",\"102577\",\"103187\",\"103795\",\"104341\",\"104822\",\"105264\",\n",
      "\"Afghanistan\",\"AFG\",\"Population, total\",\"SP.POP.TOTL\",\"8996351\",\"9166764\",\"9345868\",\"9533954\",\"9731361\",\"9938414\",\"10152331\",\"10372630\",\"10604346\",\"10854428\",\"11126123\",\"11417825\",\"11721940\",\"12027822\",\"12321541\",\"12590286\",\"12840299\",\"13067538\",\"13237734\",\"13306695\",\"13248370\",\"13053954\",\"12749645\",\"12389269\",\"12047115\",\"11783050\",\"11601041\",\"11502761\",\"11540888\",\"11777609\",\"12249114\",\"12993657\",\"13981231\",\"15095099\",\"16172719\",\"17099541\",\"17822884\",\"18381605\",\"18863999\",\"19403676\",\"20093756\",\"20966463\",\"21979923\",\"23064851\",\"24118979\",\"25070798\",\"25893450\",\"26616792\",\"27294031\",\"28004331\",\"28803167\",\"29708599\",\"30696958\",\"31731688\",\"32758020\",\"33736494\",\"34656032\",\"35530081\",\n",
      "\"Angola\",\"AGO\",\"Population, total\",\"SP.POP.TOTL\",\"5643182\",\"5753024\",\"5866061\",\"5980417\",\"6093321\",\"6203299\",\"6309770\",\"6414995\",\"6523791\",\"6642632\",\"6776381\",\"6927269\",\"7094834\",\"7277960\",\"7474338\",\"7682479\",\"7900997\",\"8130988\",\"8376147\",\"8641521\",\"8929900\",\"9244507\",\"9582156\",\"9931562\",\"10277321\",\"10609042\",\"10921037\",\"11218268\",\"11513968\",\"11827237\",\"12171441\",\"12553446\",\"12968345\",\"13403734\",\"13841301\",\"14268994\",\"14682284\",\"15088981\",\"15504318\",\"15949766\",\"16440924\",\"16983266\",\"17572649\",\"18203369\",\"18865716\",\"19552542\",\"20262399\",\"20997687\",\"21759420\",\"22549547\",\"23369131\",\"24218565\",\"25096150\",\"25998340\",\"26920466\",\"27859305\",\"28813463\",\"29784193\",\n",
      "\"Albania\",\"ALB\",\"Population, total\",\"SP.POP.TOTL\",\"1608800\",\"1659800\",\"1711319\",\"1762621\",\"1814135\",\"1864791\",\"1914573\",\"1965598\",\"2022272\",\"2081695\",\"2135479\",\"2187853\",\"2243126\",\"2296752\",\"2350124\",\"2404831\",\"2458526\",\"2513546\",\"2566266\",\"2617832\",\"2671997\",\"2726056\",\"2784278\",\"2843960\",\"2904429\",\"2964762\",\"3022635\",\"3083605\",\"3142336\",\"3227943\",\"3286542\",\"3266790\",\"3247039\",\"3227287\",\"3207536\",\"3187784\",\"3168033\",\"3148281\",\"3128530\",\"3108778\",\"3089027\",\"3060173\",\"3051010\",\"3039616\",\"3026939\",\"3011487\",\"2992547\",\"2970017\",\"2947314\",\"2927519\",\"2913021\",\"2905195\",\"2900401\",\"2895092\",\"2889104\",\"2880703\",\"2876101\",\"2873457\",\n",
      "\"Andorra\",\"AND\",\"Population, total\",\"SP.POP.TOTL\",\"13411\",\"14375\",\"15370\",\"16412\",\"17469\",\"18549\",\"19647\",\"20758\",\"21890\",\"23058\",\"24276\",\"25559\",\"26892\",\"28232\",\"29520\",\"30705\",\"31777\",\"32771\",\"33737\",\"34818\",\"36067\",\"37500\",\"39114\",\"40867\",\"42706\",\"44600\",\"46517\",\"48455\",\"50434\",\"52448\",\"54509\",\"56671\",\"58888\",\"60971\",\"62677\",\"63850\",\"64360\",\"64327\",\"64142\",\"64370\",\"65390\",\"67341\",\"70049\",\"73182\",\"76244\",\"78867\",\"80991\",\"82683\",\"83861\",\"84462\",\"84449\",\"83751\",\"82431\",\"80788\",\"79223\",\"78014\",\"77281\",\"76965\",\n"
     ]
    }
   ],
   "source": [
    "!cd \"$__HW_DIR__\"/pop_by_country;head \"API_SP.POP.TOTL_DS2_en_csv_v2_10203548.csv\""
   ]
  },
  {
   "cell_type": "code",
   "execution_count": 44,
   "metadata": {},
   "outputs": [
    {
     "name": "stdout",
     "output_type": "stream",
     "text": [
      "﻿\"Country Code\",\"Region\",\"IncomeGroup\",\"SpecialNotes\",\"TableName\",\n",
      "\"ABW\",\"Latin America & Caribbean\",\"High income\",\"SNA data for 2000-2011 are updated from official government statistics; 1994-1999 from UN databases. Base year has changed from 1995 to 2000.\",\"Aruba\",\n",
      "\"AFG\",\"South Asia\",\"Low income\",\"Fiscal year end: March 20; reporting period for national accounts data is calendar year, estimated to insure consistency between national accounts and fiscal data. National accounts data are sourced from the IMF and differ from the Central Statistics Organization numbers due to exclusion of the opium economy.\",\"Afghanistan\",\n",
      "\"AGO\",\"Sub-Saharan Africa\",\"Lower middle income\",\"\",\"Angola\",\n",
      "\"ALB\",\"Europe & Central Asia\",\"Upper middle income\",\"\",\"Albania\",\n",
      "\"AND\",\"Europe & Central Asia\",\"High income\",\"WB-3 code changed from ADO to AND to align with ISO code.\",\"Andorra\",\n",
      "\"ARB\",\"\",\"\",\"Arab World aggregate. Arab World is composed of members of the League of Arab States.\",\"Arab World\",\n",
      "\"ARE\",\"Middle East & North Africa\",\"High income\",\"\",\"United Arab Emirates\",\n",
      "\"ARG\",\"Latin America & Caribbean\",\"High income\",\"National Institute of Statistics and Census revised national accounts from 2004-2015. Argentina, which was temporarily unclassified in July 2016 pending release of revised national accounts statistics, is classified as upper middle income for FY17 as of September 29, 2016.\n",
      "\n"
     ]
    }
   ],
   "source": [
    "!cd \"$__HW_DIR__\"/pop_by_country;head \"Metadata_Country_API_SP.POP.TOTL_DS2_en_csv_v2_10203548.csv\""
   ]
  },
  {
   "cell_type": "code",
   "execution_count": 45,
   "metadata": {},
   "outputs": [
    {
     "name": "stdout",
     "output_type": "stream",
     "text": [
      "﻿\"INDICATOR_CODE\",\"INDICATOR_NAME\",\"SOURCE_NOTE\",\"SOURCE_ORGANIZATION\",\n",
      "\"SP.POP.TOTL\",\"Population, total\",\"Total population is based on the de facto definition of population, which counts all residents regardless of legal status or citizenship. The values shown are midyear estimates.\",\"(1) United Nations Population Division. World Population Prospects: 2017 Revision. (2) Census reports and other statistical publications from national statistical offices, (3) Eurostat: Demographic Statistics, (4) United Nations Statistical Division. Population and Vital Statistics Reprot (various years), (5) U.S. Census Bureau: International Database, and (6) Secretariat of the Pacific Community: Statistics and Demography Programme.\",\n"
     ]
    }
   ],
   "source": [
    "!cd \"$__HW_DIR__\"/pop_by_country;head \"Metadata_Indicator_API_SP.POP.TOTL_DS2_en_csv_v2_10203548.csv\""
   ]
  },
  {
   "cell_type": "code",
   "execution_count": 64,
   "metadata": {},
   "outputs": [
    {
     "data": {
      "text/html": [
       "<div>\n",
       "<style scoped>\n",
       "    .dataframe tbody tr th:only-of-type {\n",
       "        vertical-align: middle;\n",
       "    }\n",
       "\n",
       "    .dataframe tbody tr th {\n",
       "        vertical-align: top;\n",
       "    }\n",
       "\n",
       "    .dataframe thead th {\n",
       "        text-align: right;\n",
       "    }\n",
       "</style>\n",
       "<table border=\"1\" class=\"dataframe\">\n",
       "  <thead>\n",
       "    <tr style=\"text-align: right;\">\n",
       "      <th></th>\n",
       "      <th>Country Name</th>\n",
       "      <th>Country Code</th>\n",
       "      <th>Indicator Name</th>\n",
       "      <th>Indicator Code</th>\n",
       "      <th>1960</th>\n",
       "      <th>1961</th>\n",
       "      <th>1962</th>\n",
       "      <th>1963</th>\n",
       "      <th>1964</th>\n",
       "      <th>1965</th>\n",
       "      <th>...</th>\n",
       "      <th>2009</th>\n",
       "      <th>2010</th>\n",
       "      <th>2011</th>\n",
       "      <th>2012</th>\n",
       "      <th>2013</th>\n",
       "      <th>2014</th>\n",
       "      <th>2015</th>\n",
       "      <th>2016</th>\n",
       "      <th>2017</th>\n",
       "      <th>Unnamed: 62</th>\n",
       "    </tr>\n",
       "  </thead>\n",
       "  <tbody>\n",
       "    <tr>\n",
       "      <th>0</th>\n",
       "      <td>Aruba</td>\n",
       "      <td>ABW</td>\n",
       "      <td>Population, total</td>\n",
       "      <td>SP.POP.TOTL</td>\n",
       "      <td>54211.0</td>\n",
       "      <td>55438.0</td>\n",
       "      <td>56225.0</td>\n",
       "      <td>56695.0</td>\n",
       "      <td>57032.0</td>\n",
       "      <td>57360.0</td>\n",
       "      <td>...</td>\n",
       "      <td>101453.0</td>\n",
       "      <td>101669.0</td>\n",
       "      <td>102053.0</td>\n",
       "      <td>102577.0</td>\n",
       "      <td>103187.0</td>\n",
       "      <td>103795.0</td>\n",
       "      <td>104341.0</td>\n",
       "      <td>104822.0</td>\n",
       "      <td>105264.0</td>\n",
       "      <td>NaN</td>\n",
       "    </tr>\n",
       "    <tr>\n",
       "      <th>1</th>\n",
       "      <td>Afghanistan</td>\n",
       "      <td>AFG</td>\n",
       "      <td>Population, total</td>\n",
       "      <td>SP.POP.TOTL</td>\n",
       "      <td>8996351.0</td>\n",
       "      <td>9166764.0</td>\n",
       "      <td>9345868.0</td>\n",
       "      <td>9533954.0</td>\n",
       "      <td>9731361.0</td>\n",
       "      <td>9938414.0</td>\n",
       "      <td>...</td>\n",
       "      <td>28004331.0</td>\n",
       "      <td>28803167.0</td>\n",
       "      <td>29708599.0</td>\n",
       "      <td>30696958.0</td>\n",
       "      <td>31731688.0</td>\n",
       "      <td>32758020.0</td>\n",
       "      <td>33736494.0</td>\n",
       "      <td>34656032.0</td>\n",
       "      <td>35530081.0</td>\n",
       "      <td>NaN</td>\n",
       "    </tr>\n",
       "    <tr>\n",
       "      <th>2</th>\n",
       "      <td>Angola</td>\n",
       "      <td>AGO</td>\n",
       "      <td>Population, total</td>\n",
       "      <td>SP.POP.TOTL</td>\n",
       "      <td>5643182.0</td>\n",
       "      <td>5753024.0</td>\n",
       "      <td>5866061.0</td>\n",
       "      <td>5980417.0</td>\n",
       "      <td>6093321.0</td>\n",
       "      <td>6203299.0</td>\n",
       "      <td>...</td>\n",
       "      <td>22549547.0</td>\n",
       "      <td>23369131.0</td>\n",
       "      <td>24218565.0</td>\n",
       "      <td>25096150.0</td>\n",
       "      <td>25998340.0</td>\n",
       "      <td>26920466.0</td>\n",
       "      <td>27859305.0</td>\n",
       "      <td>28813463.0</td>\n",
       "      <td>29784193.0</td>\n",
       "      <td>NaN</td>\n",
       "    </tr>\n",
       "    <tr>\n",
       "      <th>3</th>\n",
       "      <td>Albania</td>\n",
       "      <td>ALB</td>\n",
       "      <td>Population, total</td>\n",
       "      <td>SP.POP.TOTL</td>\n",
       "      <td>1608800.0</td>\n",
       "      <td>1659800.0</td>\n",
       "      <td>1711319.0</td>\n",
       "      <td>1762621.0</td>\n",
       "      <td>1814135.0</td>\n",
       "      <td>1864791.0</td>\n",
       "      <td>...</td>\n",
       "      <td>2927519.0</td>\n",
       "      <td>2913021.0</td>\n",
       "      <td>2905195.0</td>\n",
       "      <td>2900401.0</td>\n",
       "      <td>2895092.0</td>\n",
       "      <td>2889104.0</td>\n",
       "      <td>2880703.0</td>\n",
       "      <td>2876101.0</td>\n",
       "      <td>2873457.0</td>\n",
       "      <td>NaN</td>\n",
       "    </tr>\n",
       "    <tr>\n",
       "      <th>4</th>\n",
       "      <td>Andorra</td>\n",
       "      <td>AND</td>\n",
       "      <td>Population, total</td>\n",
       "      <td>SP.POP.TOTL</td>\n",
       "      <td>13411.0</td>\n",
       "      <td>14375.0</td>\n",
       "      <td>15370.0</td>\n",
       "      <td>16412.0</td>\n",
       "      <td>17469.0</td>\n",
       "      <td>18549.0</td>\n",
       "      <td>...</td>\n",
       "      <td>84462.0</td>\n",
       "      <td>84449.0</td>\n",
       "      <td>83751.0</td>\n",
       "      <td>82431.0</td>\n",
       "      <td>80788.0</td>\n",
       "      <td>79223.0</td>\n",
       "      <td>78014.0</td>\n",
       "      <td>77281.0</td>\n",
       "      <td>76965.0</td>\n",
       "      <td>NaN</td>\n",
       "    </tr>\n",
       "  </tbody>\n",
       "</table>\n",
       "<p>5 rows × 63 columns</p>\n",
       "</div>"
      ],
      "text/plain": [
       "  Country Name Country Code     Indicator Name Indicator Code       1960  \\\n",
       "0        Aruba          ABW  Population, total    SP.POP.TOTL    54211.0   \n",
       "1  Afghanistan          AFG  Population, total    SP.POP.TOTL  8996351.0   \n",
       "2       Angola          AGO  Population, total    SP.POP.TOTL  5643182.0   \n",
       "3      Albania          ALB  Population, total    SP.POP.TOTL  1608800.0   \n",
       "4      Andorra          AND  Population, total    SP.POP.TOTL    13411.0   \n",
       "\n",
       "        1961       1962       1963       1964       1965     ...       \\\n",
       "0    55438.0    56225.0    56695.0    57032.0    57360.0     ...        \n",
       "1  9166764.0  9345868.0  9533954.0  9731361.0  9938414.0     ...        \n",
       "2  5753024.0  5866061.0  5980417.0  6093321.0  6203299.0     ...        \n",
       "3  1659800.0  1711319.0  1762621.0  1814135.0  1864791.0     ...        \n",
       "4    14375.0    15370.0    16412.0    17469.0    18549.0     ...        \n",
       "\n",
       "         2009        2010        2011        2012        2013        2014  \\\n",
       "0    101453.0    101669.0    102053.0    102577.0    103187.0    103795.0   \n",
       "1  28004331.0  28803167.0  29708599.0  30696958.0  31731688.0  32758020.0   \n",
       "2  22549547.0  23369131.0  24218565.0  25096150.0  25998340.0  26920466.0   \n",
       "3   2927519.0   2913021.0   2905195.0   2900401.0   2895092.0   2889104.0   \n",
       "4     84462.0     84449.0     83751.0     82431.0     80788.0     79223.0   \n",
       "\n",
       "         2015        2016        2017  Unnamed: 62  \n",
       "0    104341.0    104822.0    105264.0          NaN  \n",
       "1  33736494.0  34656032.0  35530081.0          NaN  \n",
       "2  27859305.0  28813463.0  29784193.0          NaN  \n",
       "3   2880703.0   2876101.0   2873457.0          NaN  \n",
       "4     78014.0     77281.0     76965.0          NaN  \n",
       "\n",
       "[5 rows x 63 columns]"
      ]
     },
     "execution_count": 64,
     "metadata": {},
     "output_type": "execute_result"
    }
   ],
   "source": [
    "#### get data from ftp-ed file\n",
    "API_SP_fp = os.path.join(__HW_DIR__, 'pop_by_country', r'API_SP.POP.TOTL_DS2_en_csv_v2_10203548.csv')\n",
    "# Metadata_Country_API_SP_fp = os.path.join(__HW_DIR__, r'Metadata_Country_API_SP.POP.TOTL_DS2_en_csv_v2_10203548.csv')\n",
    "# Metadata_Indicator_API_SP_fp = os.path.join(__HW_DIR__, 'Metadata_Indicator_API_SP.POP.TOTL_DS2_en_csv_v2_10203548.csv')\n",
    "\n",
    "API_SP_df = pd.read_csv(API_SP_fp, header=2)\n",
    "# Metadata_Country_API_SP_df = pd.read_csv(Metadata_Country_API_SP_fp, header=4)\n",
    "# Metadata_Indicator_API_SP_df = pd.read_csv(Metadata_Indicator_API_SP_fp)\n",
    "\n",
    "API_SP_df.head()"
   ]
  },
  {
   "cell_type": "code",
   "execution_count": 91,
   "metadata": {},
   "outputs": [
    {
     "name": "stdout",
     "output_type": "stream",
     "text": [
      "--2018-11-13 23:32:12--  http://api.worldbank.org/v2/en/indicator/NY.GDP.MKTP.CD?downloadformat=csv\n",
      "Resolving api.worldbank.org (api.worldbank.org)... 52.202.62.36\n",
      "Connecting to api.worldbank.org (api.worldbank.org)|52.202.62.36|:80... connected.\n",
      "HTTP request sent, awaiting response... 200 OK\n",
      "Length: 116071 (113K) [application/zip]\n",
      "Saving to: ‘gdp_by_country.zip’\n",
      "\n",
      "gdp_by_country.zip  100%[===================>] 113.35K  --.-KB/s    in 0.04s   \n",
      "\n",
      "2018-11-13 23:32:12 (2.72 MB/s) - ‘gdp_by_country.zip’ saved [116071/116071]\n",
      "\n",
      "Archive:  gdp_by_country.zip\n",
      "  inflating: Metadata_Indicator_API_NY.GDP.MKTP.CD_DS2_en_csv_v2_10203569.csv  \n",
      "  inflating: API_NY.GDP.MKTP.CD_DS2_en_csv_v2_10203569.csv  \n",
      "  inflating: Metadata_Country_API_NY.GDP.MKTP.CD_DS2_en_csv_v2_10203569.csv  \n",
      "API_NY.GDP.MKTP.CD_DS2_en_csv_v2_10203569.csv\n",
      "gdp_by_country.zip\n",
      "Metadata_Country_API_NY.GDP.MKTP.CD_DS2_en_csv_v2_10203569.csv\n",
      "Metadata_Indicator_API_NY.GDP.MKTP.CD_DS2_en_csv_v2_10203569.csv\n"
     ]
    }
   ],
   "source": [
    "!cd \"$__HW_DIR__\"; mkdir gdp_by_country; cd gdp_by_country; wget -O gdp_by_country.zip http://api.worldbank.org/v2/en/indicator/NY.GDP.MKTP.CD?downloadformat=csv; unzip gdp_by_country.zip; ls;"
   ]
  },
  {
   "cell_type": "code",
   "execution_count": 92,
   "metadata": {},
   "outputs": [
    {
     "data": {
      "text/html": [
       "<div>\n",
       "<style scoped>\n",
       "    .dataframe tbody tr th:only-of-type {\n",
       "        vertical-align: middle;\n",
       "    }\n",
       "\n",
       "    .dataframe tbody tr th {\n",
       "        vertical-align: top;\n",
       "    }\n",
       "\n",
       "    .dataframe thead th {\n",
       "        text-align: right;\n",
       "    }\n",
       "</style>\n",
       "<table border=\"1\" class=\"dataframe\">\n",
       "  <thead>\n",
       "    <tr style=\"text-align: right;\">\n",
       "      <th></th>\n",
       "      <th>Country Name</th>\n",
       "      <th>Country Code</th>\n",
       "      <th>Indicator Name</th>\n",
       "      <th>Indicator Code</th>\n",
       "      <th>1960</th>\n",
       "      <th>1961</th>\n",
       "      <th>1962</th>\n",
       "      <th>1963</th>\n",
       "      <th>1964</th>\n",
       "      <th>1965</th>\n",
       "      <th>...</th>\n",
       "      <th>2009</th>\n",
       "      <th>2010</th>\n",
       "      <th>2011</th>\n",
       "      <th>2012</th>\n",
       "      <th>2013</th>\n",
       "      <th>2014</th>\n",
       "      <th>2015</th>\n",
       "      <th>2016</th>\n",
       "      <th>2017</th>\n",
       "      <th>Unnamed: 62</th>\n",
       "    </tr>\n",
       "  </thead>\n",
       "  <tbody>\n",
       "    <tr>\n",
       "      <th>0</th>\n",
       "      <td>Aruba</td>\n",
       "      <td>ABW</td>\n",
       "      <td>GDP (current US$)</td>\n",
       "      <td>NY.GDP.MKTP.CD</td>\n",
       "      <td>NaN</td>\n",
       "      <td>NaN</td>\n",
       "      <td>NaN</td>\n",
       "      <td>NaN</td>\n",
       "      <td>NaN</td>\n",
       "      <td>NaN</td>\n",
       "      <td>...</td>\n",
       "      <td>2.498933e+09</td>\n",
       "      <td>2.467704e+09</td>\n",
       "      <td>2.584464e+09</td>\n",
       "      <td>NaN</td>\n",
       "      <td>NaN</td>\n",
       "      <td>NaN</td>\n",
       "      <td>NaN</td>\n",
       "      <td>NaN</td>\n",
       "      <td>NaN</td>\n",
       "      <td>NaN</td>\n",
       "    </tr>\n",
       "    <tr>\n",
       "      <th>1</th>\n",
       "      <td>Afghanistan</td>\n",
       "      <td>AFG</td>\n",
       "      <td>GDP (current US$)</td>\n",
       "      <td>NY.GDP.MKTP.CD</td>\n",
       "      <td>5.377778e+08</td>\n",
       "      <td>5.488889e+08</td>\n",
       "      <td>5.466667e+08</td>\n",
       "      <td>7.511112e+08</td>\n",
       "      <td>8.000000e+08</td>\n",
       "      <td>1.006667e+09</td>\n",
       "      <td>...</td>\n",
       "      <td>1.248694e+10</td>\n",
       "      <td>1.593680e+10</td>\n",
       "      <td>1.793024e+10</td>\n",
       "      <td>2.053654e+10</td>\n",
       "      <td>2.026425e+10</td>\n",
       "      <td>2.061610e+10</td>\n",
       "      <td>1.921556e+10</td>\n",
       "      <td>1.946902e+10</td>\n",
       "      <td>2.081530e+10</td>\n",
       "      <td>NaN</td>\n",
       "    </tr>\n",
       "    <tr>\n",
       "      <th>2</th>\n",
       "      <td>Angola</td>\n",
       "      <td>AGO</td>\n",
       "      <td>GDP (current US$)</td>\n",
       "      <td>NY.GDP.MKTP.CD</td>\n",
       "      <td>NaN</td>\n",
       "      <td>NaN</td>\n",
       "      <td>NaN</td>\n",
       "      <td>NaN</td>\n",
       "      <td>NaN</td>\n",
       "      <td>NaN</td>\n",
       "      <td>...</td>\n",
       "      <td>7.549239e+10</td>\n",
       "      <td>8.252614e+10</td>\n",
       "      <td>1.041158e+11</td>\n",
       "      <td>1.139232e+11</td>\n",
       "      <td>1.249125e+11</td>\n",
       "      <td>1.267302e+11</td>\n",
       "      <td>1.026212e+11</td>\n",
       "      <td>9.533720e+10</td>\n",
       "      <td>1.242094e+11</td>\n",
       "      <td>NaN</td>\n",
       "    </tr>\n",
       "    <tr>\n",
       "      <th>3</th>\n",
       "      <td>Albania</td>\n",
       "      <td>ALB</td>\n",
       "      <td>GDP (current US$)</td>\n",
       "      <td>NY.GDP.MKTP.CD</td>\n",
       "      <td>NaN</td>\n",
       "      <td>NaN</td>\n",
       "      <td>NaN</td>\n",
       "      <td>NaN</td>\n",
       "      <td>NaN</td>\n",
       "      <td>NaN</td>\n",
       "      <td>...</td>\n",
       "      <td>1.204421e+10</td>\n",
       "      <td>1.192695e+10</td>\n",
       "      <td>1.289087e+10</td>\n",
       "      <td>1.231978e+10</td>\n",
       "      <td>1.277628e+10</td>\n",
       "      <td>1.322824e+10</td>\n",
       "      <td>1.138693e+10</td>\n",
       "      <td>1.188368e+10</td>\n",
       "      <td>1.303935e+10</td>\n",
       "      <td>NaN</td>\n",
       "    </tr>\n",
       "    <tr>\n",
       "      <th>4</th>\n",
       "      <td>Andorra</td>\n",
       "      <td>AND</td>\n",
       "      <td>GDP (current US$)</td>\n",
       "      <td>NY.GDP.MKTP.CD</td>\n",
       "      <td>NaN</td>\n",
       "      <td>NaN</td>\n",
       "      <td>NaN</td>\n",
       "      <td>NaN</td>\n",
       "      <td>NaN</td>\n",
       "      <td>NaN</td>\n",
       "      <td>...</td>\n",
       "      <td>3.660531e+09</td>\n",
       "      <td>3.355695e+09</td>\n",
       "      <td>3.442063e+09</td>\n",
       "      <td>3.164615e+09</td>\n",
       "      <td>3.281585e+09</td>\n",
       "      <td>3.350736e+09</td>\n",
       "      <td>2.811489e+09</td>\n",
       "      <td>2.877312e+09</td>\n",
       "      <td>3.012914e+09</td>\n",
       "      <td>NaN</td>\n",
       "    </tr>\n",
       "  </tbody>\n",
       "</table>\n",
       "<p>5 rows × 63 columns</p>\n",
       "</div>"
      ],
      "text/plain": [
       "  Country Name Country Code     Indicator Name  Indicator Code          1960  \\\n",
       "0        Aruba          ABW  GDP (current US$)  NY.GDP.MKTP.CD           NaN   \n",
       "1  Afghanistan          AFG  GDP (current US$)  NY.GDP.MKTP.CD  5.377778e+08   \n",
       "2       Angola          AGO  GDP (current US$)  NY.GDP.MKTP.CD           NaN   \n",
       "3      Albania          ALB  GDP (current US$)  NY.GDP.MKTP.CD           NaN   \n",
       "4      Andorra          AND  GDP (current US$)  NY.GDP.MKTP.CD           NaN   \n",
       "\n",
       "           1961          1962          1963          1964          1965  \\\n",
       "0           NaN           NaN           NaN           NaN           NaN   \n",
       "1  5.488889e+08  5.466667e+08  7.511112e+08  8.000000e+08  1.006667e+09   \n",
       "2           NaN           NaN           NaN           NaN           NaN   \n",
       "3           NaN           NaN           NaN           NaN           NaN   \n",
       "4           NaN           NaN           NaN           NaN           NaN   \n",
       "\n",
       "      ...               2009          2010          2011          2012  \\\n",
       "0     ...       2.498933e+09  2.467704e+09  2.584464e+09           NaN   \n",
       "1     ...       1.248694e+10  1.593680e+10  1.793024e+10  2.053654e+10   \n",
       "2     ...       7.549239e+10  8.252614e+10  1.041158e+11  1.139232e+11   \n",
       "3     ...       1.204421e+10  1.192695e+10  1.289087e+10  1.231978e+10   \n",
       "4     ...       3.660531e+09  3.355695e+09  3.442063e+09  3.164615e+09   \n",
       "\n",
       "           2013          2014          2015          2016          2017  \\\n",
       "0           NaN           NaN           NaN           NaN           NaN   \n",
       "1  2.026425e+10  2.061610e+10  1.921556e+10  1.946902e+10  2.081530e+10   \n",
       "2  1.249125e+11  1.267302e+11  1.026212e+11  9.533720e+10  1.242094e+11   \n",
       "3  1.277628e+10  1.322824e+10  1.138693e+10  1.188368e+10  1.303935e+10   \n",
       "4  3.281585e+09  3.350736e+09  2.811489e+09  2.877312e+09  3.012914e+09   \n",
       "\n",
       "   Unnamed: 62  \n",
       "0          NaN  \n",
       "1          NaN  \n",
       "2          NaN  \n",
       "3          NaN  \n",
       "4          NaN  \n",
       "\n",
       "[5 rows x 63 columns]"
      ]
     },
     "execution_count": 92,
     "metadata": {},
     "output_type": "execute_result"
    }
   ],
   "source": [
    "#### get data from ftp-ed file\n",
    "API_NY_fp = os.path.join(__HW_DIR__, 'gdp_by_country', r'API_NY.GDP.MKTP.CD_DS2_en_csv_v2_10203569.csv')\n",
    "# Metadata_Country_API_SP_fp = os.path.join(__HW_DIR__, r'Metadata_Country_API_SP.POP.TOTL_DS2_en_csv_v2_10203548.csv')\n",
    "# Metadata_Indicator_API_SP_fp = os.path.join(__HW_DIR__, 'Metadata_Indicator_API_SP.POP.TOTL_DS2_en_csv_v2_10203548.csv')\n",
    "\n",
    "API_NY_fp = pd.read_csv(API_NY_fp, header=2)\n",
    "# Metadata_Country_API_SP_df = pd.read_csv(Metadata_Country_API_SP_fp, header=4)\n",
    "# Metadata_Indicator_API_SP_df = pd.read_csv(Metadata_Indicator_API_SP_fp)\n",
    "\n",
    "API_NY_fp.head()"
   ]
  },
  {
   "cell_type": "code",
   "execution_count": 101,
   "metadata": {},
   "outputs": [],
   "source": [
    "df_ = wfmao_df.merge(API_SP_df, right_on=\"Country Name\", left_on=\"Country/Territory\")\n",
    "df_ = df_.merge(API_NY_fp, right_on=\"Country Name\", left_on=\"Country/Territory\", suffixes=['', '_gdp'])\n",
    "ms = pvLFI_df"
   ]
  },
  {
   "cell_type": "code",
   "execution_count": 102,
   "metadata": {
    "ExecuteTime": {
     "end_time": "2017-10-12T11:18:40.575581",
     "start_time": "2017-10-12T11:18:40.446116"
    },
    "run_control": {
     "frozen": false,
     "read_only": false
    }
   },
   "outputs": [
    {
     "data": {
      "text/html": [
       "<div>\n",
       "<style scoped>\n",
       "    .dataframe tbody tr th:only-of-type {\n",
       "        vertical-align: middle;\n",
       "    }\n",
       "\n",
       "    .dataframe tbody tr th {\n",
       "        vertical-align: top;\n",
       "    }\n",
       "\n",
       "    .dataframe thead th {\n",
       "        text-align: right;\n",
       "    }\n",
       "</style>\n",
       "<table border=\"1\" class=\"dataframe\">\n",
       "  <thead>\n",
       "    <tr style=\"text-align: right;\">\n",
       "      <th></th>\n",
       "      <th>Country/Territory</th>\n",
       "      <th>ISO code</th>\n",
       "      <th>Source</th>\n",
       "      <th>% of homicides by firearm</th>\n",
       "      <th>Number of homicides by firearm</th>\n",
       "      <th>Homicide by firearm rate per 100,000 pop</th>\n",
       "      <th>Rank by rate of ownership</th>\n",
       "      <th>Average firearms per 100 people</th>\n",
       "      <th>Average total all civilian firearms</th>\n",
       "      <th>Country Name</th>\n",
       "      <th>...</th>\n",
       "      <th>2012_gdp</th>\n",
       "      <th>2013_gdp</th>\n",
       "      <th>2014_gdp</th>\n",
       "      <th>2015_gdp</th>\n",
       "      <th>2016_gdp</th>\n",
       "      <th>2017_gdp</th>\n",
       "      <th>Unnamed: 62_gdp</th>\n",
       "      <th>Country</th>\n",
       "      <th>Guns per 100 inhabitants</th>\n",
       "      <th>Number of mass shootings (1983-2013)</th>\n",
       "    </tr>\n",
       "  </thead>\n",
       "  <tbody>\n",
       "    <tr>\n",
       "      <th>0</th>\n",
       "      <td>Australia</td>\n",
       "      <td>AU</td>\n",
       "      <td>NSO</td>\n",
       "      <td>11.5</td>\n",
       "      <td>30.0</td>\n",
       "      <td>0.14</td>\n",
       "      <td>42.0</td>\n",
       "      <td>15.0</td>\n",
       "      <td>3050000.0</td>\n",
       "      <td>Australia</td>\n",
       "      <td>...</td>\n",
       "      <td>1.543411e+12</td>\n",
       "      <td>1.573697e+12</td>\n",
       "      <td>1.464955e+12</td>\n",
       "      <td>1.349034e+12</td>\n",
       "      <td>1.208039e+12</td>\n",
       "      <td>1.323421e+12</td>\n",
       "      <td>NaN</td>\n",
       "      <td>Australia</td>\n",
       "      <td>15.0</td>\n",
       "      <td>4</td>\n",
       "    </tr>\n",
       "    <tr>\n",
       "      <th>1</th>\n",
       "      <td>Austria</td>\n",
       "      <td>AT</td>\n",
       "      <td>CTS</td>\n",
       "      <td>29.5</td>\n",
       "      <td>18.0</td>\n",
       "      <td>0.22</td>\n",
       "      <td>14.0</td>\n",
       "      <td>30.4</td>\n",
       "      <td>2500000.0</td>\n",
       "      <td>Austria</td>\n",
       "      <td>...</td>\n",
       "      <td>4.094252e+11</td>\n",
       "      <td>4.300687e+11</td>\n",
       "      <td>4.418854e+11</td>\n",
       "      <td>3.820659e+11</td>\n",
       "      <td>3.908000e+11</td>\n",
       "      <td>4.165957e+11</td>\n",
       "      <td>NaN</td>\n",
       "      <td>Austria</td>\n",
       "      <td>30.4</td>\n",
       "      <td>1</td>\n",
       "    </tr>\n",
       "    <tr>\n",
       "      <th>2</th>\n",
       "      <td>Belgium</td>\n",
       "      <td>BE</td>\n",
       "      <td>WHO-MDB</td>\n",
       "      <td>39.5</td>\n",
       "      <td>70.0</td>\n",
       "      <td>0.68</td>\n",
       "      <td>34.0</td>\n",
       "      <td>17.2</td>\n",
       "      <td>1800000.0</td>\n",
       "      <td>Belgium</td>\n",
       "      <td>...</td>\n",
       "      <td>4.978842e+11</td>\n",
       "      <td>5.209255e+11</td>\n",
       "      <td>5.307710e+11</td>\n",
       "      <td>4.550396e+11</td>\n",
       "      <td>4.675455e+11</td>\n",
       "      <td>4.926813e+11</td>\n",
       "      <td>NaN</td>\n",
       "      <td>Belgium</td>\n",
       "      <td>17.2</td>\n",
       "      <td>2</td>\n",
       "    </tr>\n",
       "    <tr>\n",
       "      <th>3</th>\n",
       "      <td>Canada</td>\n",
       "      <td>CA</td>\n",
       "      <td>CTS</td>\n",
       "      <td>32.0</td>\n",
       "      <td>173.0</td>\n",
       "      <td>0.51</td>\n",
       "      <td>13.0</td>\n",
       "      <td>30.8</td>\n",
       "      <td>9950000.0</td>\n",
       "      <td>Canada</td>\n",
       "      <td>...</td>\n",
       "      <td>1.824289e+12</td>\n",
       "      <td>1.842628e+12</td>\n",
       "      <td>1.799269e+12</td>\n",
       "      <td>1.559623e+12</td>\n",
       "      <td>1.535768e+12</td>\n",
       "      <td>1.653043e+12</td>\n",
       "      <td>NaN</td>\n",
       "      <td>Canada</td>\n",
       "      <td>30.8</td>\n",
       "      <td>4</td>\n",
       "    </tr>\n",
       "    <tr>\n",
       "      <th>4</th>\n",
       "      <td>Denmark</td>\n",
       "      <td>DK</td>\n",
       "      <td>CTS</td>\n",
       "      <td>31.9</td>\n",
       "      <td>15.0</td>\n",
       "      <td>0.27</td>\n",
       "      <td>54.0</td>\n",
       "      <td>12.0</td>\n",
       "      <td>650000.0</td>\n",
       "      <td>Denmark</td>\n",
       "      <td>...</td>\n",
       "      <td>3.271489e+11</td>\n",
       "      <td>3.435844e+11</td>\n",
       "      <td>3.529936e+11</td>\n",
       "      <td>3.012985e+11</td>\n",
       "      <td>3.068997e+11</td>\n",
       "      <td>3.248720e+11</td>\n",
       "      <td>NaN</td>\n",
       "      <td>Denmark</td>\n",
       "      <td>12.0</td>\n",
       "      <td>0</td>\n",
       "    </tr>\n",
       "  </tbody>\n",
       "</table>\n",
       "<p>5 rows × 138 columns</p>\n",
       "</div>"
      ],
      "text/plain": [
       "  Country/Territory ISO code   Source  % of homicides by firearm  \\\n",
       "0         Australia       AU      NSO                       11.5   \n",
       "1           Austria       AT      CTS                       29.5   \n",
       "2           Belgium       BE  WHO-MDB                       39.5   \n",
       "3            Canada       CA      CTS                       32.0   \n",
       "4           Denmark       DK      CTS                       31.9   \n",
       "\n",
       "   Number of homicides by firearm  Homicide by firearm rate per 100,000 pop  \\\n",
       "0                            30.0                                      0.14   \n",
       "1                            18.0                                      0.22   \n",
       "2                            70.0                                      0.68   \n",
       "3                           173.0                                      0.51   \n",
       "4                            15.0                                      0.27   \n",
       "\n",
       "   Rank by rate of ownership  Average firearms per 100 people  \\\n",
       "0                       42.0                             15.0   \n",
       "1                       14.0                             30.4   \n",
       "2                       34.0                             17.2   \n",
       "3                       13.0                             30.8   \n",
       "4                       54.0                             12.0   \n",
       "\n",
       "   Average total all civilian firearms Country Name  \\\n",
       "0                            3050000.0    Australia   \n",
       "1                            2500000.0      Austria   \n",
       "2                            1800000.0      Belgium   \n",
       "3                            9950000.0       Canada   \n",
       "4                             650000.0      Denmark   \n",
       "\n",
       "                   ...                       2012_gdp      2013_gdp  \\\n",
       "0                  ...                   1.543411e+12  1.573697e+12   \n",
       "1                  ...                   4.094252e+11  4.300687e+11   \n",
       "2                  ...                   4.978842e+11  5.209255e+11   \n",
       "3                  ...                   1.824289e+12  1.842628e+12   \n",
       "4                  ...                   3.271489e+11  3.435844e+11   \n",
       "\n",
       "       2014_gdp      2015_gdp      2016_gdp      2017_gdp  Unnamed: 62_gdp  \\\n",
       "0  1.464955e+12  1.349034e+12  1.208039e+12  1.323421e+12              NaN   \n",
       "1  4.418854e+11  3.820659e+11  3.908000e+11  4.165957e+11              NaN   \n",
       "2  5.307710e+11  4.550396e+11  4.675455e+11  4.926813e+11              NaN   \n",
       "3  1.799269e+12  1.559623e+12  1.535768e+12  1.653043e+12              NaN   \n",
       "4  3.529936e+11  3.012985e+11  3.068997e+11  3.248720e+11              NaN   \n",
       "\n",
       "     Country  Guns per 100 inhabitants  Number of mass shootings (1983-2013)  \n",
       "0  Australia                      15.0                                     4  \n",
       "1    Austria                      30.4                                     1  \n",
       "2    Belgium                      17.2                                     2  \n",
       "3     Canada                      30.8                                     4  \n",
       "4    Denmark                      12.0                                     0  \n",
       "\n",
       "[5 rows x 138 columns]"
      ]
     },
     "execution_count": 102,
     "metadata": {},
     "output_type": "execute_result"
    }
   ],
   "source": [
    "df_ = df_.merge(ms, right_on=\"Country\", left_on=\"Country/Territory\")\n",
    "df_.head()"
   ]
  },
  {
   "cell_type": "code",
   "execution_count": 118,
   "metadata": {},
   "outputs": [
    {
     "data": {
      "text/plain": [
       "{'2012': 'pop',\n",
       " '2012_gdp': 'gdp',\n",
       " 'Average total all civilian firearms': 'Average total all civilian firearms',\n",
       " 'Country Name': 'Country Name',\n",
       " 'Guns per 100 inhabitants': 'Guns/100 inhabitants',\n",
       " 'Number of homicides by firearm': 'Number of homicides by firearm',\n",
       " 'Number of mass shootings (1983-2013)': 'Number of mass shootings'}"
      ]
     },
     "execution_count": 118,
     "metadata": {},
     "output_type": "execute_result"
    }
   ],
   "source": [
    "_d = {\"Country/Territory\": False, \"ISO code\": False, \"Source\": False, \"% of homicides by firearm\": False, \"Number of homicides by firearm\": \"Number of homicides by firearm\", \"Homicide by firearm rate per 100,000 pop\": False, \"Rank by rate of ownership\": False, \"Average firearms per 100 people\": False, \"Average total all civilian firearms\": \"Average total all civilian firearms\", \"Country Name\": \"Country Name\", \"Country Code\": False, \"Indicator Name\": False, \"Indicator Code\": False, \"1960\": False, \"1961\": False, \"1962\": False, \"1963\": False, \"1964\": False, \"1965\": False, \"1966\": False, \"1967\": False, \"1968\": False, \"1969\": False, \"1970\": False, \"1971\": False, \"1972\": False, \"1973\": False, \"1974\": False, \"1975\": False, \"1976\": False, \"1977\": False, \"1978\": False, \"1979\": False, \"1980\": False, \"1981\": False, \"1982\": False, \"1983\": False, \"1984\": False, \"1985\": False, \"1986\": False, \"1987\": False, \"1988\": False, \"1989\": False, \"1990\": False, \"1991\": False, \"1992\": False, \"1993\": False, \"1994\": False, \"1995\": False, \"1996\": False, \"1997\": False, \"1998\": False, \"1999\": False, \"2000\": False, \"2001\": False, \"2002\": False, \"2003\": False, \"2004\": False, \"2005\": False, \"2006\": False, \"2007\": False, \"2008\": False, \"2009\": False, \"2010\": False, \"2011\": False, \"2012\": 'pop', \"2013\": False, \"2014\": False, \"2015\": False, \"2016\": False, \"2017\": False, \"Unnamed: 62\": False, \"Country Name_gdp\": False, \"Country Code_gdp\": False, \"Indicator Name_gdp\": False, \"Indicator Code_gdp\": False, \"1960_gdp\": False, \"1961_gdp\": False, \"1962_gdp\": False, \"1963_gdp\": False, \"1964_gdp\": False, \"1965_gdp\": False, \"1966_gdp\": False, \"1967_gdp\": False, \"1968_gdp\": False, \"1969_gdp\": False, \"1970_gdp\": False, \"1971_gdp\": False, \"1972_gdp\": False, \"1973_gdp\": False, \"1974_gdp\": False, \"1975_gdp\": False, \"1976_gdp\": False, \"1977_gdp\": False, \"1978_gdp\": False, \"1979_gdp\": False, \"1980_gdp\": False, \"1981_gdp\": False, \"1982_gdp\": False, \"1983_gdp\": False, \"1984_gdp\": False, \"1985_gdp\": False, \"1986_gdp\": False, \"1987_gdp\": False, \"1988_gdp\": False, \"1989_gdp\": False, \"1990_gdp\": False, \"1991_gdp\": False, \"1992_gdp\": False, \"1993_gdp\": False, \"1994_gdp\": False, \"1995_gdp\": False, \"1996_gdp\": False, \"1997_gdp\": False, \"1998_gdp\": False, \"1999_gdp\": False, \"2000_gdp\": False, \"2001_gdp\": False, \"2002_gdp\": False, \"2003_gdp\": False, \"2004_gdp\": False, \"2005_gdp\": False, \"2006_gdp\": False, \"2007_gdp\": False, \"2008_gdp\": False, \"2009_gdp\": False, \"2010_gdp\": False, \"2011_gdp\": False, \"2012_gdp\": 'gdp', \"2013_gdp\": False, \"2014_gdp\": False, \"2015_gdp\": False, \"2016_gdp\": False, \"2017_gdp\": False, \"Unnamed: 62_gdp\": False, \"Country\": False, \"Guns per 100 inhabitants\": \"Guns/100 inhabitants\", \"Number of mass shootings (1983-2013)\": \"Number of mass shootings\"}\n",
    "dels = [k for k, v in _d.items() if not v]\n",
    "renames = {k: v for k, v in _d.items() if v}"
   ]
  },
  {
   "cell_type": "code",
   "execution_count": 119,
   "metadata": {},
   "outputs": [
    {
     "data": {
      "text/html": [
       "<div>\n",
       "<style scoped>\n",
       "    .dataframe tbody tr th:only-of-type {\n",
       "        vertical-align: middle;\n",
       "    }\n",
       "\n",
       "    .dataframe tbody tr th {\n",
       "        vertical-align: top;\n",
       "    }\n",
       "\n",
       "    .dataframe thead th {\n",
       "        text-align: right;\n",
       "    }\n",
       "</style>\n",
       "<table border=\"1\" class=\"dataframe\">\n",
       "  <thead>\n",
       "    <tr style=\"text-align: right;\">\n",
       "      <th></th>\n",
       "      <th>Number of homicides by firearm</th>\n",
       "      <th>Average total all civilian firearms</th>\n",
       "      <th>Country Name</th>\n",
       "      <th>pop</th>\n",
       "      <th>gdp</th>\n",
       "      <th>Guns/100 inhabitants</th>\n",
       "      <th>Number of mass shootings</th>\n",
       "    </tr>\n",
       "  </thead>\n",
       "  <tbody>\n",
       "    <tr>\n",
       "      <th>0</th>\n",
       "      <td>30.0</td>\n",
       "      <td>3050000.0</td>\n",
       "      <td>Australia</td>\n",
       "      <td>22742475.0</td>\n",
       "      <td>1.543411e+12</td>\n",
       "      <td>15.0</td>\n",
       "      <td>4</td>\n",
       "    </tr>\n",
       "    <tr>\n",
       "      <th>1</th>\n",
       "      <td>18.0</td>\n",
       "      <td>2500000.0</td>\n",
       "      <td>Austria</td>\n",
       "      <td>8429991.0</td>\n",
       "      <td>4.094252e+11</td>\n",
       "      <td>30.4</td>\n",
       "      <td>1</td>\n",
       "    </tr>\n",
       "    <tr>\n",
       "      <th>2</th>\n",
       "      <td>70.0</td>\n",
       "      <td>1800000.0</td>\n",
       "      <td>Belgium</td>\n",
       "      <td>11128246.0</td>\n",
       "      <td>4.978842e+11</td>\n",
       "      <td>17.2</td>\n",
       "      <td>2</td>\n",
       "    </tr>\n",
       "    <tr>\n",
       "      <th>3</th>\n",
       "      <td>173.0</td>\n",
       "      <td>9950000.0</td>\n",
       "      <td>Canada</td>\n",
       "      <td>34750545.0</td>\n",
       "      <td>1.824289e+12</td>\n",
       "      <td>30.8</td>\n",
       "      <td>4</td>\n",
       "    </tr>\n",
       "    <tr>\n",
       "      <th>4</th>\n",
       "      <td>15.0</td>\n",
       "      <td>650000.0</td>\n",
       "      <td>Denmark</td>\n",
       "      <td>5591572.0</td>\n",
       "      <td>3.271489e+11</td>\n",
       "      <td>12.0</td>\n",
       "      <td>0</td>\n",
       "    </tr>\n",
       "  </tbody>\n",
       "</table>\n",
       "</div>"
      ],
      "text/plain": [
       "   Number of homicides by firearm  Average total all civilian firearms  \\\n",
       "0                            30.0                            3050000.0   \n",
       "1                            18.0                            2500000.0   \n",
       "2                            70.0                            1800000.0   \n",
       "3                           173.0                            9950000.0   \n",
       "4                            15.0                             650000.0   \n",
       "\n",
       "  Country Name         pop           gdp  Guns/100 inhabitants  \\\n",
       "0    Australia  22742475.0  1.543411e+12                  15.0   \n",
       "1      Austria   8429991.0  4.094252e+11                  30.4   \n",
       "2      Belgium  11128246.0  4.978842e+11                  17.2   \n",
       "3       Canada  34750545.0  1.824289e+12                  30.8   \n",
       "4      Denmark   5591572.0  3.271489e+11                  12.0   \n",
       "\n",
       "   Number of mass shootings  \n",
       "0                         4  \n",
       "1                         1  \n",
       "2                         2  \n",
       "3                         4  \n",
       "4                         0  "
      ]
     },
     "execution_count": 119,
     "metadata": {},
     "output_type": "execute_result"
    }
   ],
   "source": [
    "df_.drop(dels, axis=1, inplace=True)\n",
    "df_.rename(renames, axis=1, inplace=True)\n",
    "df_.head()"
   ]
  },
  {
   "cell_type": "code",
   "execution_count": 121,
   "metadata": {},
   "outputs": [
    {
     "data": {
      "text/html": [
       "<div>\n",
       "<style scoped>\n",
       "    .dataframe tbody tr th:only-of-type {\n",
       "        vertical-align: middle;\n",
       "    }\n",
       "\n",
       "    .dataframe tbody tr th {\n",
       "        vertical-align: top;\n",
       "    }\n",
       "\n",
       "    .dataframe thead th {\n",
       "        text-align: right;\n",
       "    }\n",
       "</style>\n",
       "<table border=\"1\" class=\"dataframe\">\n",
       "  <thead>\n",
       "    <tr style=\"text-align: right;\">\n",
       "      <th></th>\n",
       "      <th>Country Name</th>\n",
       "      <th>Average total all civilian firearms</th>\n",
       "      <th>pop</th>\n",
       "      <th>gdp</th>\n",
       "      <th>Number of homicides by firearm</th>\n",
       "      <th>Guns/100 inhabitants</th>\n",
       "      <th>Number of mass shootings</th>\n",
       "    </tr>\n",
       "  </thead>\n",
       "  <tbody>\n",
       "    <tr>\n",
       "      <th>0</th>\n",
       "      <td>Australia</td>\n",
       "      <td>3050000.0</td>\n",
       "      <td>22742475.0</td>\n",
       "      <td>1.543411e+12</td>\n",
       "      <td>30.0</td>\n",
       "      <td>15.0</td>\n",
       "      <td>4</td>\n",
       "    </tr>\n",
       "    <tr>\n",
       "      <th>1</th>\n",
       "      <td>Austria</td>\n",
       "      <td>2500000.0</td>\n",
       "      <td>8429991.0</td>\n",
       "      <td>4.094252e+11</td>\n",
       "      <td>18.0</td>\n",
       "      <td>30.4</td>\n",
       "      <td>1</td>\n",
       "    </tr>\n",
       "    <tr>\n",
       "      <th>2</th>\n",
       "      <td>Belgium</td>\n",
       "      <td>1800000.0</td>\n",
       "      <td>11128246.0</td>\n",
       "      <td>4.978842e+11</td>\n",
       "      <td>70.0</td>\n",
       "      <td>17.2</td>\n",
       "      <td>2</td>\n",
       "    </tr>\n",
       "    <tr>\n",
       "      <th>3</th>\n",
       "      <td>Canada</td>\n",
       "      <td>9950000.0</td>\n",
       "      <td>34750545.0</td>\n",
       "      <td>1.824289e+12</td>\n",
       "      <td>173.0</td>\n",
       "      <td>30.8</td>\n",
       "      <td>4</td>\n",
       "    </tr>\n",
       "    <tr>\n",
       "      <th>4</th>\n",
       "      <td>Denmark</td>\n",
       "      <td>650000.0</td>\n",
       "      <td>5591572.0</td>\n",
       "      <td>3.271489e+11</td>\n",
       "      <td>15.0</td>\n",
       "      <td>12.0</td>\n",
       "      <td>0</td>\n",
       "    </tr>\n",
       "  </tbody>\n",
       "</table>\n",
       "</div>"
      ],
      "text/plain": [
       "  Country Name  Average total all civilian firearms         pop           gdp  \\\n",
       "0    Australia                            3050000.0  22742475.0  1.543411e+12   \n",
       "1      Austria                            2500000.0   8429991.0  4.094252e+11   \n",
       "2      Belgium                            1800000.0  11128246.0  4.978842e+11   \n",
       "3       Canada                            9950000.0  34750545.0  1.824289e+12   \n",
       "4      Denmark                             650000.0   5591572.0  3.271489e+11   \n",
       "\n",
       "   Number of homicides by firearm  Guns/100 inhabitants  \\\n",
       "0                            30.0                  15.0   \n",
       "1                            18.0                  30.4   \n",
       "2                            70.0                  17.2   \n",
       "3                           173.0                  30.8   \n",
       "4                            15.0                  12.0   \n",
       "\n",
       "   Number of mass shootings  \n",
       "0                         4  \n",
       "1                         1  \n",
       "2                         2  \n",
       "3                         4  \n",
       "4                         0  "
      ]
     },
     "execution_count": 121,
     "metadata": {},
     "output_type": "execute_result"
    }
   ],
   "source": [
    "df_ = df_[\n",
    "    [\n",
    "        \"Country Name\"\n",
    "        , \"Average total all civilian firearms\"\n",
    "        , \"pop\"\n",
    "        , \"gdp\"\n",
    "        , \"Number of homicides by firearm\"\n",
    "        , \"Guns/100 inhabitants\"\n",
    "        , \"Number of mass shootings\"\n",
    "    ]\n",
    "]\n",
    "df_.head()"
   ]
  },
  {
   "cell_type": "code",
   "execution_count": 4,
   "metadata": {
    "ExecuteTime": {
     "end_time": "2017-10-12T11:18:40.575581",
     "start_time": "2017-10-12T11:18:40.446116"
    },
    "run_control": {
     "frozen": false,
     "read_only": false
    }
   },
   "outputs": [
    {
     "name": "stdout",
     "output_type": "stream",
     "text": [
      "Populating the interactive namespace from numpy and matplotlib\n"
     ]
    },
    {
     "data": {
      "text/html": [
       "<div>\n",
       "<table border=\"1\" class=\"dataframe\">\n",
       "  <thead>\n",
       "    <tr style=\"text-align: right;\">\n",
       "      <th></th>\n",
       "      <th>Country Name</th>\n",
       "      <th>Average total all civilian firearms</th>\n",
       "      <th>pop</th>\n",
       "      <th>gdp</th>\n",
       "      <th>Number of homicides by firearm</th>\n",
       "      <th>Country</th>\n",
       "      <th>Guns/100 inhabitants</th>\n",
       "      <th>Number of mass shootings</th>\n",
       "    </tr>\n",
       "  </thead>\n",
       "  <tbody>\n",
       "    <tr>\n",
       "      <th>0</th>\n",
       "      <td>Australia</td>\n",
       "      <td>3050000.0</td>\n",
       "      <td>22728254.0</td>\n",
       "      <td>1.538194e+12</td>\n",
       "      <td>30.0</td>\n",
       "      <td>Australia</td>\n",
       "      <td>15.0</td>\n",
       "      <td>4</td>\n",
       "    </tr>\n",
       "    <tr>\n",
       "      <th>1</th>\n",
       "      <td>Austria</td>\n",
       "      <td>2500000.0</td>\n",
       "      <td>8429991.0</td>\n",
       "      <td>4.074516e+11</td>\n",
       "      <td>18.0</td>\n",
       "      <td>Austria</td>\n",
       "      <td>30.4</td>\n",
       "      <td>1</td>\n",
       "    </tr>\n",
       "    <tr>\n",
       "      <th>2</th>\n",
       "      <td>Canada</td>\n",
       "      <td>9950000.0</td>\n",
       "      <td>34750545.0</td>\n",
       "      <td>1.824289e+12</td>\n",
       "      <td>173.0</td>\n",
       "      <td>Canada</td>\n",
       "      <td>30.8</td>\n",
       "      <td>4</td>\n",
       "    </tr>\n",
       "    <tr>\n",
       "      <th>3</th>\n",
       "      <td>Denmark</td>\n",
       "      <td>650000.0</td>\n",
       "      <td>5591572.0</td>\n",
       "      <td>3.271489e+11</td>\n",
       "      <td>15.0</td>\n",
       "      <td>Denmark</td>\n",
       "      <td>12.0</td>\n",
       "      <td>0</td>\n",
       "    </tr>\n",
       "    <tr>\n",
       "      <th>4</th>\n",
       "      <td>Finland</td>\n",
       "      <td>2400000.0</td>\n",
       "      <td>5413971.0</td>\n",
       "      <td>2.567065e+11</td>\n",
       "      <td>24.0</td>\n",
       "      <td>Finland</td>\n",
       "      <td>45.3</td>\n",
       "      <td>2</td>\n",
       "    </tr>\n",
       "  </tbody>\n",
       "</table>\n",
       "</div>"
      ],
      "text/plain": [
       "  Country Name  Average total all civilian firearms         pop           gdp  \\\n",
       "0    Australia                            3050000.0  22728254.0  1.538194e+12   \n",
       "1      Austria                            2500000.0   8429991.0  4.074516e+11   \n",
       "2       Canada                            9950000.0  34750545.0  1.824289e+12   \n",
       "3      Denmark                             650000.0   5591572.0  3.271489e+11   \n",
       "4      Finland                            2400000.0   5413971.0  2.567065e+11   \n",
       "\n",
       "   Number of homicides by firearm    Country  Guns/100 inhabitants  \\\n",
       "0                            30.0  Australia                  15.0   \n",
       "1                            18.0    Austria                  30.4   \n",
       "2                           173.0     Canada                  30.8   \n",
       "3                            15.0    Denmark                  12.0   \n",
       "4                            24.0    Finland                  45.3   \n",
       "\n",
       "   Number of mass shootings  \n",
       "0                         4  \n",
       "1                         1  \n",
       "2                         4  \n",
       "3                         0  \n",
       "4                         2  "
      ]
     },
     "execution_count": 4,
     "metadata": {},
     "output_type": "execute_result"
    }
   ],
   "source": [
    "df_ = df_.merge(ms, right_on=\"Country\", left_on=\"Country Name\")\n",
    "df_.head()"
   ]
  },
  {
   "cell_type": "code",
   "execution_count": 123,
   "metadata": {},
   "outputs": [],
   "source": [
    "__INIT__DATA__ = deepcopy(df_)"
   ]
  },
  {
   "cell_type": "markdown",
   "metadata": {
    "run_control": {
     "frozen": false,
     "read_only": false
    }
   },
   "source": [
    "# exploration\n",
    "\n",
    "## plot mass shooting vs gdp in absolute numbers, and per person. Show the errorbars (y errors)\n",
    "\n",
    "Use Poisson statistics for the errorbars on the number of mass shootings (optional: include errors on the population, also as Poisson statistics)\n",
    "\n",
    "Are there any points that look like they may be outilers?\n"
   ]
  },
  {
   "cell_type": "code",
   "execution_count": 122,
   "metadata": {
    "ExecuteTime": {
     "end_time": "2017-10-12T11:24:38.210994",
     "start_time": "2017-10-12T11:24:37.927232"
    },
    "run_control": {
     "frozen": false,
     "read_only": false
    }
   },
   "outputs": [
    {
     "data": {
      "image/png": "[encoded data removed]",
      "text/plain": [
       "<Figure size 720x360 with 1 Axes>"
      ]
     },
     "metadata": {
      "needs_background": "light"
     },
     "output_type": "display_data"
    },
    {
     "name": "stdout",
     "output_type": "stream",
     "text": [
      "Number of mass shooting vs GDP, errors represent Poisson statistics.\n",
      "The datapoint to the top right of the plot is the USA, which has noth the highest GDP and the highest number of mass shootings\n"
     ]
    }
   ],
   "source": [
    "fig = pl.figure(figsize=(10,5)) \n",
    "ax = fig.add_subplot(111)\n",
    "\n",
    "scatter = ax.scatter(df_.gdp / 1e9, df_['Number of mass shootings'])\n",
    "ax.errorbar(df_.gdp / 1e9, df_['Number of mass shootings'], \n",
    "            yerr = np.sqrt(df_['Number of mass shootings'] * 1.0), fmt = '.')\n",
    "ax.set_xlabel(\"GDP (in billions)\")\n",
    "ax.set_ylabel(\"Number of mass shooting per person\")\n",
    "ax.set_ylim()\n",
    "pl.show()\n",
    "print (\"Number of mass shooting vs GDP, \" + \n",
    "       \"errors represent Poisson statistics.\\n\" + \n",
    "       \"The datapoint to the top right of the plot is the USA, \" + \n",
    "       \"which has noth the highest GDP and the highest number of mass shootings\")\n"
   ]
  },
  {
   "cell_type": "markdown",
   "metadata": {
    "run_control": {
     "frozen": false,
     "read_only": false
    }
   },
   "source": [
    "## plot the average number of civilian fire arms per person\n",
    "first without errors, then with errors. are there  points that look like outliers?"
   ]
  },
  {
   "cell_type": "code",
   "execution_count": 418,
   "metadata": {
    "ExecuteTime": {
     "end_time": "2017-10-12T07:17:52.778486",
     "start_time": "2017-10-12T07:17:52.768299"
    },
    "collapsed": true,
    "run_control": {
     "frozen": false,
     "read_only": false
    }
   },
   "outputs": [],
   "source": [
    "df_['shootingspp'] = df_[\"Number of mass shootings\"] / df_['pop'] * 1e3\n",
    "df_['shootingspp_err']"
   ]
  },
  {
   "cell_type": "code",
   "execution_count": 131,
   "metadata": {
    "ExecuteTime": {
     "end_time": "2017-10-12T07:17:52.778486",
     "start_time": "2017-10-12T07:17:52.768299"
    },
    "collapsed": true,
    "run_control": {
     "frozen": false,
     "read_only": false
    }
   },
   "outputs": [
    {
     "data": {
      "text/plain": [
       "(0     0.134110\n",
       " 1     0.296560\n",
       " 2     0.161751\n",
       " 3     0.286326\n",
       " 4     0.116246\n",
       " 5     0.443298\n",
       " 6     0.289370\n",
       " 7     0.310845\n",
       " 8     0.226347\n",
       " 9     0.056450\n",
       " 10    0.280622\n",
       " 11    0.078269\n",
       " 12    0.117569\n",
       " 13    0.005563\n",
       " 14    0.131840\n",
       " 15    0.209841\n",
       " 16    0.278964\n",
       " 17    0.013399\n",
       " 18    0.085593\n",
       " 19    0.096209\n",
       " 20    0.294137\n",
       " 21    0.425167\n",
       " 22    0.859891\n",
       " Name: avg_civ_fa_pp, dtype: float64, 0     0.000077\n",
       " 1     0.000188\n",
       " 2     0.000121\n",
       " 3     0.000091\n",
       " 4     0.000144\n",
       " 5     0.000286\n",
       " 6     0.000066\n",
       " 7     0.000062\n",
       " 8     0.000143\n",
       " 9     0.000075\n",
       " 10    0.000935\n",
       " 11    0.000130\n",
       " 12    0.000044\n",
       " 13    0.000007\n",
       " 14    0.000498\n",
       " 15    0.000218\n",
       " 16    0.000236\n",
       " 17    0.000019\n",
       " 18    0.000090\n",
       " 19    0.000045\n",
       " 20    0.000176\n",
       " 21    0.000231\n",
       " 22    0.000052\n",
       " Name: avg_civ_fa_pp_err, dtype: float64)"
      ]
     },
     "execution_count": 131,
     "metadata": {},
     "output_type": "execute_result"
    }
   ],
   "source": [
    "df_['avg_civ_fa_pp'] = df_[\"Average total all civilian firearms\"] / df_['pop']\n",
    "df_['avg_civ_fa_pp_err'] = 1.0 * np.sqrt(df_[\"Average total all civilian firearms\"]) / df_['pop']\n",
    "df_['avg_civ_fa_pp'], df_['avg_civ_fa_pp_err']"
   ]
  },
  {
   "cell_type": "markdown",
   "metadata": {},
   "source": [
    "#### Without Error"
   ]
  },
  {
   "cell_type": "code",
   "execution_count": 170,
   "metadata": {},
   "outputs": [
    {
     "data": {
      "image/png": "[encoded data removed]",
      "text/plain": [
       "<Figure size 720x360 with 1 Axes>"
      ]
     },
     "metadata": {
      "needs_background": "light"
     },
     "output_type": "display_data"
    },
    {
     "name": "stdout",
     "output_type": "stream",
     "text": [
      "average number of civilian fire arms per person vs GDP, The datapoint to the top right of the plot is the USA, which has noth the highest GDP and the highest average number of civilian fire arms per person\n"
     ]
    }
   ],
   "source": [
    "fig = pl.figure(figsize=(10,5)) \n",
    "ax = fig.add_subplot(111)\n",
    "\n",
    "scatter = ax.scatter(df_.gdp / 1e9, df_[\"avg_civ_fa_pp\"])\n",
    "ax.set_xlabel(\"GDP (in billions)\")\n",
    "ax.set_ylabel(\"average number of civilian fire arms per person\")\n",
    "[\n",
    "    plt.annotate(\n",
    "        s=df_['Country Name'].iloc[i]\n",
    "        , xy=(df_.gdp.iloc[i] / 1e9, df_['avg_civ_fa_pp'].iloc[i])\n",
    "        , horizontalalignment='center'\n",
    "    ) for i in range(df_.shape[0]) if i == df_[df_['Country Name'] == 'United States'].index[0]\n",
    "]\n",
    "ax.set_ylim()\n",
    "pl.show()\n",
    "print (\"average number of civilian fire arms per person vs GDP, \" + \n",
    "       \"The datapoint to the top right of the plot is the USA, \" + \n",
    "       \"which has noth the highest GDP and the highest average number of civilian fire arms per person\")\n"
   ]
  },
  {
   "cell_type": "markdown",
   "metadata": {},
   "source": [
    "#### With Error"
   ]
  },
  {
   "cell_type": "code",
   "execution_count": 171,
   "metadata": {},
   "outputs": [
    {
     "data": {
      "image/png": "[encoded data removed]",
      "text/plain": [
       "<Figure size 720x360 with 1 Axes>"
      ]
     },
     "metadata": {
      "needs_background": "light"
     },
     "output_type": "display_data"
    },
    {
     "name": "stdout",
     "output_type": "stream",
     "text": [
      "average number of civilian fire arms per person vs GDP, errors represent Poisson statistics.\n",
      "The datapoint to the top right of the plot is the USA, which has noth the highest GDP and the highest average number of civilian fire arms per person\n"
     ]
    }
   ],
   "source": [
    "fig = pl.figure(figsize=(10,5)) \n",
    "ax = fig.add_subplot(111)\n",
    "\n",
    "scatter = ax.scatter(df_.gdp / 1e9, df_[\"avg_civ_fa_pp\"])\n",
    "ax.errorbar(df_.gdp / 1e9, df_['avg_civ_fa_pp'], \n",
    "            yerr = df_['avg_civ_fa_pp_err'] * 1.0, fmt = '.')\n",
    "ax.set_xlabel(\"GDP (in billions)\")\n",
    "ax.set_ylabel(\"average number of civilian fire arms per person\")\n",
    "[\n",
    "    plt.annotate(\n",
    "        s=df_['Country Name'].iloc[i]\n",
    "        , xy=(df_.gdp.iloc[i] / 1e9, df_['avg_civ_fa_pp'].iloc[i])\n",
    "        , horizontalalignment='center'\n",
    "    ) for i in range(df_.shape[0]) if i == df_[df_['Country Name'] == 'United States'].index[0]\n",
    "]\n",
    "\n",
    "ax.set_ylim()\n",
    "pl.show()\n",
    "print (\"average number of civilian fire arms per person vs GDP, \" + \n",
    "       \"errors represent Poisson statistics.\\n\" + \n",
    "       \"The datapoint to the top right of the plot is the USA, \" + \n",
    "       \"which has noth the highest GDP and the highest average number of civilian fire arms per person\")\n"
   ]
  },
  {
   "cell_type": "markdown",
   "metadata": {
    "run_control": {
     "frozen": false,
     "read_only": false
    }
   },
   "source": [
    "## plot the average number of homicide by fire arms per person\n",
    "first as a histogram\n",
    "\n",
    "then against the country GDP, with statistical errors. are there  points that look like outliers?"
   ]
  },
  {
   "cell_type": "markdown",
   "metadata": {},
   "source": [
    "#### Histogram"
   ]
  },
  {
   "cell_type": "code",
   "execution_count": 173,
   "metadata": {
    "ExecuteTime": {
     "end_time": "2017-10-12T07:53:17.910541",
     "start_time": "2017-10-12T07:53:17.506477"
    },
    "run_control": {
     "frozen": false,
     "read_only": false
    }
   },
   "outputs": [
    {
     "data": {
      "image/png": "[encoded data removed]",
      "text/plain": [
       "<Figure size 432x288 with 1 Axes>"
      ]
     },
     "metadata": {
      "needs_background": "light"
     },
     "output_type": "display_data"
    }
   ],
   "source": [
    "fig, ax = plt.subplots()\n",
    "ax.hist(df_['Number of homicides by firearm'] / df_['pop'] * 1e4)\n",
    "ax.set_xlabel('homicides by firearm per 10000 persons');\n"
   ]
  },
  {
   "cell_type": "code",
   "execution_count": 156,
   "metadata": {},
   "outputs": [
    {
     "data": {
      "text/plain": [
       "22"
      ]
     },
     "execution_count": 156,
     "metadata": {},
     "output_type": "execute_result"
    }
   ],
   "source": [
    "df_[df_['Country Name'] == 'United States'].index[0]"
   ]
  },
  {
   "cell_type": "markdown",
   "metadata": {},
   "source": [
    "#### With Error"
   ]
  },
  {
   "cell_type": "code",
   "execution_count": 175,
   "metadata": {},
   "outputs": [
    {
     "data": {
      "image/png": "[encoded data removed]",
      "text/plain": [
       "<Figure size 720x360 with 1 Axes>"
      ]
     },
     "metadata": {
      "needs_background": "light"
     },
     "output_type": "display_data"
    },
    {
     "name": "stdout",
     "output_type": "stream",
     "text": [
      "average number of homicide by fire arms per person vs GDP, errors represent Poisson statistics.\n",
      "The datapoint to the rightmost of the plot is the USA, which has the the highest GDP and the highest average number of civilian fire arms per person\n"
     ]
    }
   ],
   "source": [
    "fig = pl.figure(figsize=(10,5)) \n",
    "ax = fig.add_subplot(111)\n",
    "\n",
    "scatter = ax.scatter(df_.gdp / 1e9, df_['hc_fa_pp'])\n",
    "ax.errorbar(df_.gdp / 1e9, df_['hc_fa_pp']  * 1e4, \n",
    "            yerr = np.sqrt(df_['hc_fa_pp'] * 1e4), fmt = '.') # np.sqrt(1e2) 10.0\n",
    "\n",
    "[\n",
    "    plt.annotate(\n",
    "        s=df_['Country Name'].iloc[i]\n",
    "        , xy=(df_.gdp.iloc[i] / 1e9, df_['hc_fa_pp'].iloc[i] * 1e4)\n",
    "        , horizontalalignment='center'\n",
    "    ) for i in range(df_.shape[0]) if i == df_[df_['Country Name'] == 'United States'].index[0]\n",
    "]\n",
    "\n",
    "ax.set_xlabel(\"GDP (in billions)\")\n",
    "ax.set_ylabel(\"average number of homicide by fire arms per person\")\n",
    "ax.set_ylim()\n",
    "pl.show()\n",
    "print (\"average number of homicide by fire arms per 10000 persons vs GDP, \" + \n",
    "       \"errors represent Poisson statistics.\\n\" + \n",
    "       \"The datapoint to the rightmost of the plot is the USA, \" + \n",
    "       \"which has the the highest GDP and the highest average number of civilian fire arms per person\")\n"
   ]
  },
  {
   "cell_type": "markdown",
   "metadata": {
    "run_control": {
     "frozen": false,
     "read_only": false
    }
   },
   "source": [
    "## plot the number of  homicides by fire arm against the number of civilian firearms. plot the  US in a different color\n",
    "with and without errorbars\n"
   ]
  },
  {
   "cell_type": "markdown",
   "metadata": {},
   "source": [
    "#### Without Error"
   ]
  },
  {
   "cell_type": "code",
   "execution_count": 169,
   "metadata": {},
   "outputs": [
    {
     "data": {
      "image/png": "[encoded data removed]",
      "text/plain": [
       "<Figure size 720x360 with 1 Axes>"
      ]
     },
     "metadata": {
      "needs_background": "light"
     },
     "output_type": "display_data"
    },
    {
     "name": "stdout",
     "output_type": "stream",
     "text": [
      "average number of homicide by fire arms per 100 persons vs GDP, The datapoint to the rightmost of the plot is the USA, which has the the highest GDP and the highest average number of civilian fire arms per person\n"
     ]
    }
   ],
   "source": [
    "fig = pl.figure(figsize=(10,5)) \n",
    "ax = fig.add_subplot(111)\n",
    "\n",
    "scatter = ax.scatter(df_.gdp / 1e9, df_['hc_fa_pp'])\n",
    "\n",
    "[\n",
    "    plt.annotate(\n",
    "        s=df_['Country Name'].iloc[i]\n",
    "        , xy=(df_.gdp.iloc[i] / 1e9, df_['hc_fa_pp'].iloc[i])\n",
    "        , horizontalalignment='center'\n",
    "    ) for i in range(df_.shape[0]) if i == df_[df_['Country Name'] == 'United States'].index[0]\n",
    "]\n",
    "\n",
    "ax.set_xlabel(\"GDP (in billions)\")\n",
    "ax.set_ylabel(\"average number of homicide by fire arms per 100 persons\")\n",
    "ax.set_ylim()\n",
    "pl.show()\n",
    "print (\"average number of homicide by fire arms per 100 persons vs GDP, \" + \n",
    "       \"The datapoint to the rightmost of the plot is the USA, \" + \n",
    "       \"which has the the highest GDP and the highest average number of civilian fire arms per person\")\n"
   ]
  },
  {
   "cell_type": "markdown",
   "metadata": {},
   "source": [
    "#### With Error"
   ]
  },
  {
   "cell_type": "code",
   "execution_count": 164,
   "metadata": {},
   "outputs": [
    {
     "data": {
      "image/png": "[encoded data removed]",
      "text/plain": [
       "<Figure size 720x360 with 1 Axes>"
      ]
     },
     "metadata": {
      "needs_background": "light"
     },
     "output_type": "display_data"
    },
    {
     "name": "stdout",
     "output_type": "stream",
     "text": [
      "average number of homicide by fire arms per person vs GDP, errors represent Poisson statistics.\n",
      "The datapoint to the rightmost of the plot is the USA, which has the the highest GDP and the highest average number of civilian fire arms per person\n"
     ]
    }
   ],
   "source": [
    "fig = pl.figure(figsize=(10,5)) \n",
    "ax = fig.add_subplot(111)\n",
    "\n",
    "scatter = ax.scatter(df_.gdp / 1e9, df_['hc_fa_pp'])\n",
    "ax.errorbar(df_.gdp / 1e9, df_['hc_fa_pp']  * 1e2, \n",
    "            yerr = np.sqrt(df_['hc_fa_pp']) * 10.0, fmt = '.') # np.sqrt(1e2) 10.0\n",
    "\n",
    "[\n",
    "    plt.annotate(\n",
    "        s=df_['Country Name'].iloc[i]\n",
    "        , xy=(df_.gdp.iloc[i] / 1e9, df_['hc_fa_pp'].iloc[i] * 1e2)\n",
    "        , horizontalalignment='center'\n",
    "    ) for i in range(df_.shape[0]) if i == df_[df_['Country Name'] == 'United States'].index[0]\n",
    "]\n",
    "\n",
    "ax.set_xlabel(\"GDP (in billions)\")\n",
    "ax.set_ylabel(\"average number of homicide by fire arms per person\")\n",
    "ax.set_ylim()\n",
    "pl.show()\n",
    "print (\"average number of homicide by fire arms per person vs GDP, \" + \n",
    "       \"errors represent Poisson statistics.\\n\" + \n",
    "       \"The datapoint to the rightmost of the plot is the USA, \" + \n",
    "       \"which has the the highest GDP and the highest average number of civilian fire arms per person\")\n"
   ]
  },
  {
   "cell_type": "markdown",
   "metadata": {
    "run_control": {
     "frozen": false,
     "read_only": false
    }
   },
   "source": [
    "## plot the number of  mass shootings against the number of civilian firearms. plot the  US in a different color\n",
    "with and without errorbars\n"
   ]
  },
  {
   "cell_type": "markdown",
   "metadata": {},
   "source": [
    "#### Without Error"
   ]
  },
  {
   "cell_type": "code",
   "execution_count": 181,
   "metadata": {},
   "outputs": [
    {
     "data": {
      "image/png": "[encoded data removed]",
      "text/plain": [
       "<Figure size 720x360 with 1 Axes>"
      ]
     },
     "metadata": {
      "needs_background": "light"
     },
     "output_type": "display_data"
    },
    {
     "name": "stdout",
     "output_type": "stream",
     "text": [
      "Number of mass shootings vs. Average total all civilian firearms, \n"
     ]
    }
   ],
   "source": [
    "fig = pl.figure(figsize=(10,5)) \n",
    "ax = fig.add_subplot(111)\n",
    "_c = pd.Series(np.zeros(df_.shape[0]))\n",
    "_c.iloc[df_[df_['Country Name'] == 'United States'].index[0]] = 1\n",
    "\n",
    "scatter = ax.scatter(\n",
    "    df_['Average total all civilian firearms']\n",
    "    , df_['Number of mass shootings']\n",
    "    , c=_c\n",
    ")\n",
    "# ax.errorbar(\n",
    "#     df_['Average total all civilian firearms']\n",
    "#     , df_['Number of mass shootings']\n",
    "#     , yerr = np.sqrt(df_['Number of mass shootings'])\n",
    "#     , fmt = '.'\n",
    "# )\n",
    "\n",
    "[\n",
    "    plt.annotate(\n",
    "        s=df_['Country Name'].iloc[i]\n",
    "        , xy=(df_['Average total all civilian firearms'].iloc[i], df_['Number of mass shootings'].iloc[i])\n",
    "        , horizontalalignment='center'\n",
    "    ) for i in range(df_.shape[0]) if i == df_[df_['Country Name'] == 'United States'].index[0]\n",
    "]\n",
    "\n",
    "ax.set_xlabel(\"Average total all civilian firearms\")\n",
    "ax.set_ylabel(\"Number of mass shootings\")\n",
    "ax.set_ylim()\n",
    "pl.show()\n",
    "print (\"Number of mass shootings vs. Average total all civilian firearms, \")\n"
   ]
  },
  {
   "cell_type": "markdown",
   "metadata": {},
   "source": [
    "#### With Error"
   ]
  },
  {
   "cell_type": "code",
   "execution_count": 185,
   "metadata": {},
   "outputs": [
    {
     "data": {
      "image/png": "[encoded data removed]",
      "text/plain": [
       "<Figure size 720x360 with 1 Axes>"
      ]
     },
     "metadata": {
      "needs_background": "light"
     },
     "output_type": "display_data"
    },
    {
     "name": "stdout",
     "output_type": "stream",
     "text": [
      "Number of mass shootings vs. Average total all civilian firearms, \n"
     ]
    }
   ],
   "source": [
    "fig = pl.figure(figsize=(10,5)) \n",
    "ax = fig.add_subplot(111)\n",
    "_c = pd.Series(np.zeros(df_.shape[0]))\n",
    "_c.iloc[df_[df_['Country Name'] == 'United States'].index[0]] = 1\n",
    "\n",
    "scatter = ax.scatter(\n",
    "    df_['Average total all civilian firearms']\n",
    "    , df_['Number of mass shootings']\n",
    "    , c=_c\n",
    ")\n",
    "ax.errorbar(\n",
    "    df_['Average total all civilian firearms']\n",
    "    , df_['Number of mass shootings']\n",
    "    , yerr = np.sqrt(df_['Number of mass shootings'])\n",
    "    , fmt = '.'\n",
    ")\n",
    "\n",
    "[\n",
    "    plt.annotate(\n",
    "        s=df_['Country Name'].iloc[i]\n",
    "        , xy=(df_['Average total all civilian firearms'].iloc[i], df_['Number of mass shootings'].iloc[i])\n",
    "        , horizontalalignment='center'\n",
    "    ) for i in range(df_.shape[0]) if i == df_[df_['Country Name'] == 'United States'].index[0]\n",
    "]\n",
    "\n",
    "ax.set_xlabel(\"Average total all civilian firearms\")\n",
    "ax.set_ylabel(\"Number of mass shootings\")\n",
    "ax.set_ylim()\n",
    "pl.show()\n",
    "print (\"Number of mass shootings vs. Average total all civilian firearms, \")\n"
   ]
  },
  {
   "cell_type": "markdown",
   "metadata": {
    "run_control": {
     "frozen": false,
     "read_only": false
    }
   },
   "source": [
    "# Modeling\n",
    "\n",
    "## fit a line to the Number of mass shootings  per person as a function of Average total all civilian firearms per person. \n",
    "Before you do it it is a good idea to make sure that both quantities are roughly of the same order of magnitude (unity). (You can simply divide by the order of magnitude of the mean of the sample to obtain this). Use\n",
    "\n",
    "    - statsmodels OLS\n",
    "    - statsmodels WLS\n",
    "    - seaborn\n",
    "    - choose one of\n",
    "        -- creating a function that calculates the residuals and minimizing that function\n",
    "        -- analytical solution http://mathworld.wolfram.com/LeastSquaresFitting.html\n",
    "        -- numpy.polyfit() - https://docs.scipy.org/doc/numpy-1.13.0/reference/generated/numpy.polyfit.html\n",
    "    \n",
    "\n",
    "WLS: that is the weighted square fit. The statsmodel package WLS function allows you to take the uncertainties of each data point into account when you fit your model. It takes the parameter weights, which is the inverse of your errors:\n",
    "weights = 1.0/df.yerror\n",
    "Notice that \n",
    "    a - sqrt(0) = 0\n",
    "    b - 1/0 = infinity\n",
    "    c - you cannot have weight that are infinity in your fit. Please come up with a solution and justify it.\n",
    "\n",
    "\n",
    "the latter three you can learn about in this example: https://github.com/fedhere/PUI2017_fb55/blob/master/Lab5_fb55/genderIncomeBias.ipynb\n",
    "Since we did not discuss these, I will add some notes to the repo in the afternoon.\n",
    "\n",
    "Use the seaborn python package built in regression function  to plot the regression confidence intervals. \n",
    "\n",
    "import seaborn  as sns\n",
    "sns.regplot(x=\"x\", y=\"y\", data=df);\n",
    "\n",
    "\n"
   ]
  },
  {
   "cell_type": "markdown",
   "metadata": {
    "run_control": {
     "frozen": false,
     "read_only": false
    }
   },
   "source": [
    "## Outlier removal:\n",
    "The concept of outlier is actually rather sophisticated: a point can be an outlier in a context but not in another. If you want to remove outliers and try different fits, here is some info on how to remove data efficiently from a dataset \n",
    "    https://gist.github.com/fedhere/89db40a3c9a28335bf5a35d52a52c595"
   ]
  },
  {
   "cell_type": "code",
   "execution_count": 213,
   "metadata": {},
   "outputs": [],
   "source": [
    "import statsmodels as sm\n",
    "import statsmodels.formula.api as smf\n",
    "import statsmodels.api as sma\n",
    "from statsmodels.regression.linear_model import WLS"
   ]
  },
  {
   "cell_type": "markdown",
   "metadata": {},
   "source": [
    "#### Removing United States because it is an outlier"
   ]
  },
  {
   "cell_type": "code",
   "execution_count": 233,
   "metadata": {},
   "outputs": [
    {
     "data": {
      "text/html": [
       "<div>\n",
       "<style scoped>\n",
       "    .dataframe tbody tr th:only-of-type {\n",
       "        vertical-align: middle;\n",
       "    }\n",
       "\n",
       "    .dataframe tbody tr th {\n",
       "        vertical-align: top;\n",
       "    }\n",
       "\n",
       "    .dataframe thead th {\n",
       "        text-align: right;\n",
       "    }\n",
       "</style>\n",
       "<table border=\"1\" class=\"dataframe\">\n",
       "  <thead>\n",
       "    <tr style=\"text-align: right;\">\n",
       "      <th></th>\n",
       "      <th>avg_tot_civ_fa</th>\n",
       "      <th>no_mass_shooting</th>\n",
       "    </tr>\n",
       "  </thead>\n",
       "  <tbody>\n",
       "    <tr>\n",
       "      <th>0</th>\n",
       "      <td>3050000.0</td>\n",
       "      <td>4</td>\n",
       "    </tr>\n",
       "    <tr>\n",
       "      <th>1</th>\n",
       "      <td>2500000.0</td>\n",
       "      <td>1</td>\n",
       "    </tr>\n",
       "    <tr>\n",
       "      <th>2</th>\n",
       "      <td>1800000.0</td>\n",
       "      <td>2</td>\n",
       "    </tr>\n",
       "    <tr>\n",
       "      <th>3</th>\n",
       "      <td>9950000.0</td>\n",
       "      <td>4</td>\n",
       "    </tr>\n",
       "    <tr>\n",
       "      <th>4</th>\n",
       "      <td>650000.0</td>\n",
       "      <td>0</td>\n",
       "    </tr>\n",
       "  </tbody>\n",
       "</table>\n",
       "</div>"
      ],
      "text/plain": [
       "   avg_tot_civ_fa  no_mass_shooting\n",
       "0       3050000.0                 4\n",
       "1       2500000.0                 1\n",
       "2       1800000.0                 2\n",
       "3       9950000.0                 4\n",
       "4        650000.0                 0"
      ]
     },
     "execution_count": 233,
     "metadata": {},
     "output_type": "execute_result"
    }
   ],
   "source": [
    "plot_data = df_[df_.index != (df_[df_['Country Name'] == 'United States'].index[0])]\n",
    "plot_data = plot_data[['Average total all civilian firearms', 'Number of mass shootings']]\n",
    "plot_data.rename(\n",
    "    dict(\n",
    "        zip(\n",
    "            ['Average total all civilian firearms', 'Number of mass shootings']\n",
    "            , ['avg_tot_civ_fa', 'no_mass_shooting']\n",
    "        )\n",
    "    )\n",
    "    , axis=1\n",
    "    , inplace=True\n",
    ")\n",
    "\n",
    "\n",
    "plot_data.head()"
   ]
  },
  {
   "cell_type": "markdown",
   "metadata": {},
   "source": [
    "#### statsmodel.OLS"
   ]
  },
  {
   "cell_type": "code",
   "execution_count": 234,
   "metadata": {},
   "outputs": [
    {
     "data": {
      "text/html": [
       "<table class=\"simpletable\">\n",
       "<caption>OLS Regression Results</caption>\n",
       "<tr>\n",
       "  <th>Dep. Variable:</th>    <td>no_mass_shooting</td> <th>  R-squared:         </th> <td>   0.791</td>\n",
       "</tr>\n",
       "<tr>\n",
       "  <th>Model:</th>                   <td>OLS</td>       <th>  Adj. R-squared:    </th> <td>   0.782</td>\n",
       "</tr>\n",
       "<tr>\n",
       "  <th>Method:</th>             <td>Least Squares</td>  <th>  F-statistic:       </th> <td>   79.69</td>\n",
       "</tr>\n",
       "<tr>\n",
       "  <th>Date:</th>             <td>Wed, 14 Nov 2018</td> <th>  Prob (F-statistic):</th> <td>1.36e-08</td>\n",
       "</tr>\n",
       "<tr>\n",
       "  <th>Time:</th>                 <td>11:27:02</td>     <th>  Log-Likelihood:    </th> <td> -34.792</td>\n",
       "</tr>\n",
       "<tr>\n",
       "  <th>No. Observations:</th>      <td>    22</td>      <th>  AIC:               </th> <td>   71.58</td>\n",
       "</tr>\n",
       "<tr>\n",
       "  <th>Df Residuals:</th>          <td>    21</td>      <th>  BIC:               </th> <td>   72.68</td>\n",
       "</tr>\n",
       "<tr>\n",
       "  <th>Df Model:</th>              <td>     1</td>      <th>                     </th>     <td> </td>   \n",
       "</tr>\n",
       "<tr>\n",
       "  <th>Covariance Type:</th>      <td>nonrobust</td>    <th>                     </th>     <td> </td>   \n",
       "</tr>\n",
       "</table>\n",
       "<table class=\"simpletable\">\n",
       "<tr>\n",
       "         <td></td>           <th>coef</th>     <th>std err</th>      <th>t</th>      <th>P>|t|</th>  <th>[0.025</th>    <th>0.975]</th>  \n",
       "</tr>\n",
       "<tr>\n",
       "  <th>avg_tot_civ_fa</th> <td> 3.091e-07</td> <td> 3.46e-08</td> <td>    8.927</td> <td> 0.000</td> <td> 2.37e-07</td> <td> 3.81e-07</td>\n",
       "</tr>\n",
       "</table>\n",
       "<table class=\"simpletable\">\n",
       "<tr>\n",
       "  <th>Omnibus:</th>       <td> 3.096</td> <th>  Durbin-Watson:     </th> <td>   1.332</td>\n",
       "</tr>\n",
       "<tr>\n",
       "  <th>Prob(Omnibus):</th> <td> 0.213</td> <th>  Jarque-Bera (JB):  </th> <td>   1.419</td>\n",
       "</tr>\n",
       "<tr>\n",
       "  <th>Skew:</th>          <td> 0.475</td> <th>  Prob(JB):          </th> <td>   0.492</td>\n",
       "</tr>\n",
       "<tr>\n",
       "  <th>Kurtosis:</th>      <td> 3.803</td> <th>  Cond. No.          </th> <td>    1.00</td>\n",
       "</tr>\n",
       "</table><br/><br/>Warnings:<br/>[1] Standard Errors assume that the covariance matrix of the errors is correctly specified."
      ],
      "text/plain": [
       "<class 'statsmodels.iolib.summary.Summary'>\n",
       "\"\"\"\n",
       "                            OLS Regression Results                            \n",
       "==============================================================================\n",
       "Dep. Variable:       no_mass_shooting   R-squared:                       0.791\n",
       "Model:                            OLS   Adj. R-squared:                  0.782\n",
       "Method:                 Least Squares   F-statistic:                     79.69\n",
       "Date:                Wed, 14 Nov 2018   Prob (F-statistic):           1.36e-08\n",
       "Time:                        11:27:02   Log-Likelihood:                -34.792\n",
       "No. Observations:                  22   AIC:                             71.58\n",
       "Df Residuals:                      21   BIC:                             72.68\n",
       "Df Model:                           1                                         \n",
       "Covariance Type:            nonrobust                                         \n",
       "==================================================================================\n",
       "                     coef    std err          t      P>|t|      [0.025      0.975]\n",
       "----------------------------------------------------------------------------------\n",
       "avg_tot_civ_fa  3.091e-07   3.46e-08      8.927      0.000    2.37e-07    3.81e-07\n",
       "==============================================================================\n",
       "Omnibus:                        3.096   Durbin-Watson:                   1.332\n",
       "Prob(Omnibus):                  0.213   Jarque-Bera (JB):                1.419\n",
       "Skew:                           0.475   Prob(JB):                        0.492\n",
       "Kurtosis:                       3.803   Cond. No.                         1.00\n",
       "==============================================================================\n",
       "\n",
       "Warnings:\n",
       "[1] Standard Errors assume that the covariance matrix of the errors is correctly specified.\n",
       "\"\"\""
      ]
     },
     "execution_count": 234,
     "metadata": {},
     "output_type": "execute_result"
    }
   ],
   "source": [
    "res = smf.ols(formula='no_mass_shooting~avg_tot_civ_fa-1', data=plot_data).fit()\n",
    "res.summary()"
   ]
  },
  {
   "cell_type": "code",
   "execution_count": 238,
   "metadata": {},
   "outputs": [],
   "source": [
    "plot_data['pred_no_mass_shooting_ols'] = res.predict(plot_data['avg_tot_civ_fa']) "
   ]
  },
  {
   "cell_type": "code",
   "execution_count": 260,
   "metadata": {},
   "outputs": [
    {
     "data": {
      "image/png": "[encoded data removed]",
      "text/plain": [
       "<Figure size 432x288 with 1 Axes>"
      ]
     },
     "metadata": {
      "needs_background": "light"
     },
     "output_type": "display_data"
    },
    {
     "name": "stdout",
     "output_type": "stream",
     "text": [
      "\n",
      "United States is removed from the data because it is an outlier, as exploration stage revealed.\n",
      "Regression line is calculated with OLS method.\n",
      "R-squared is 0.79\n",
      "\n"
     ]
    }
   ],
   "source": [
    "plt.plot(\n",
    "    plot_data['avg_tot_civ_fa']\n",
    "    , plot_data['no_mass_shooting']\n",
    "    , '.r'\n",
    ") #plot the data\n",
    "\n",
    "plt.plot(\n",
    "    plot_data['avg_tot_civ_fa']\n",
    "    , plot_data['pred_no_mass_shooting_ols']\n",
    "    , 'b'\n",
    ") #plot the regression\n",
    "ax = plt.gca()\n",
    "ax.set_title(\"Number of mass shootings vs. Average total all civilian firearms\")\n",
    "ax.set_xlabel(\"Average total all civilian firearms\")\n",
    "ax.set_ylabel(\"Number of mass shootings\")\n",
    "ax.set_ylim()\n",
    "plt.show()\n",
    "cmt = \"\"\"\n",
    "United States is removed from the data because it is an outlier, as exploration stage revealed.\n",
    "Regression line is calculated with OLS method.\n",
    "R-squared is 0.79\n",
    "\"\"\"\n",
    "print(cmt)"
   ]
  },
  {
   "cell_type": "markdown",
   "metadata": {},
   "source": [
    "#### statsmodel.WLS"
   ]
  },
  {
   "cell_type": "code",
   "execution_count": 263,
   "metadata": {},
   "outputs": [
    {
     "data": {
      "text/html": [
       "<table class=\"simpletable\">\n",
       "<caption>WLS Regression Results</caption>\n",
       "<tr>\n",
       "  <th>Dep. Variable:</th>    <td>no_mass_shooting</td> <th>  R-squared:         </th> <td>   0.865</td>\n",
       "</tr>\n",
       "<tr>\n",
       "  <th>Model:</th>                   <td>WLS</td>       <th>  Adj. R-squared:    </th> <td>   0.858</td>\n",
       "</tr>\n",
       "<tr>\n",
       "  <th>Method:</th>             <td>Least Squares</td>  <th>  F-statistic:       </th> <td>   134.2</td>\n",
       "</tr>\n",
       "<tr>\n",
       "  <th>Date:</th>             <td>Wed, 14 Nov 2018</td> <th>  Prob (F-statistic):</th> <td>1.39e-10</td>\n",
       "</tr>\n",
       "<tr>\n",
       "  <th>Time:</th>                 <td>11:43:42</td>     <th>  Log-Likelihood:    </th> <td> -82.831</td>\n",
       "</tr>\n",
       "<tr>\n",
       "  <th>No. Observations:</th>      <td>    22</td>      <th>  AIC:               </th> <td>   167.7</td>\n",
       "</tr>\n",
       "<tr>\n",
       "  <th>Df Residuals:</th>          <td>    21</td>      <th>  BIC:               </th> <td>   168.8</td>\n",
       "</tr>\n",
       "<tr>\n",
       "  <th>Df Model:</th>              <td>     1</td>      <th>                     </th>     <td> </td>   \n",
       "</tr>\n",
       "<tr>\n",
       "  <th>Covariance Type:</th>      <td>nonrobust</td>    <th>                     </th>     <td> </td>   \n",
       "</tr>\n",
       "</table>\n",
       "<table class=\"simpletable\">\n",
       "<tr>\n",
       "         <td></td>           <th>coef</th>     <th>std err</th>      <th>t</th>      <th>P>|t|</th>  <th>[0.025</th>    <th>0.975]</th>  \n",
       "</tr>\n",
       "<tr>\n",
       "  <th>avg_tot_civ_fa</th> <td> 3.149e-07</td> <td> 2.72e-08</td> <td>   11.586</td> <td> 0.000</td> <td> 2.58e-07</td> <td> 3.71e-07</td>\n",
       "</tr>\n",
       "</table>\n",
       "<table class=\"simpletable\">\n",
       "<tr>\n",
       "  <th>Omnibus:</th>       <td>13.084</td> <th>  Durbin-Watson:     </th> <td>   1.278</td>\n",
       "</tr>\n",
       "<tr>\n",
       "  <th>Prob(Omnibus):</th> <td> 0.001</td> <th>  Jarque-Bera (JB):  </th> <td>  11.526</td>\n",
       "</tr>\n",
       "<tr>\n",
       "  <th>Skew:</th>          <td> 1.449</td> <th>  Prob(JB):          </th> <td> 0.00314</td>\n",
       "</tr>\n",
       "<tr>\n",
       "  <th>Kurtosis:</th>      <td> 5.044</td> <th>  Cond. No.          </th> <td>    1.00</td>\n",
       "</tr>\n",
       "</table><br/><br/>Warnings:<br/>[1] Standard Errors assume that the covariance matrix of the errors is correctly specified."
      ],
      "text/plain": [
       "<class 'statsmodels.iolib.summary.Summary'>\n",
       "\"\"\"\n",
       "                            WLS Regression Results                            \n",
       "==============================================================================\n",
       "Dep. Variable:       no_mass_shooting   R-squared:                       0.865\n",
       "Model:                            WLS   Adj. R-squared:                  0.858\n",
       "Method:                 Least Squares   F-statistic:                     134.2\n",
       "Date:                Wed, 14 Nov 2018   Prob (F-statistic):           1.39e-10\n",
       "Time:                        11:43:42   Log-Likelihood:                -82.831\n",
       "No. Observations:                  22   AIC:                             167.7\n",
       "Df Residuals:                      21   BIC:                             168.8\n",
       "Df Model:                           1                                         \n",
       "Covariance Type:            nonrobust                                         \n",
       "==================================================================================\n",
       "                     coef    std err          t      P>|t|      [0.025      0.975]\n",
       "----------------------------------------------------------------------------------\n",
       "avg_tot_civ_fa  3.149e-07   2.72e-08     11.586      0.000    2.58e-07    3.71e-07\n",
       "==============================================================================\n",
       "Omnibus:                       13.084   Durbin-Watson:                   1.278\n",
       "Prob(Omnibus):                  0.001   Jarque-Bera (JB):               11.526\n",
       "Skew:                           1.449   Prob(JB):                      0.00314\n",
       "Kurtosis:                       5.044   Cond. No.                         1.00\n",
       "==============================================================================\n",
       "\n",
       "Warnings:\n",
       "[1] Standard Errors assume that the covariance matrix of the errors is correctly specified.\n",
       "\"\"\""
      ]
     },
     "execution_count": 263,
     "metadata": {},
     "output_type": "execute_result"
    }
   ],
   "source": [
    "\"\"\"\n",
    "It takes the parameter weights, which is the inverse of your errors: weights = 1.0/df.yerror \n",
    "Notice that a - sqrt(0) = 0 b - 1/0 = infinity c - \n",
    "you cannot have weight that are infinity in your fit. \n",
    "Please come up with a solution and justify it.\"\"\"\n",
    "_w = np.sqrt(plot_data['no_mass_shooting'].replace(0.0, 1e-9))\n",
    "res = WLS(\n",
    "    plot_data['no_mass_shooting']\n",
    "    , plot_data['avg_tot_civ_fa']\n",
    "    , weights=_w\n",
    "    , missing='none'\n",
    "    , hasconst=None\n",
    ").fit()\n",
    "res.summary()"
   ]
  },
  {
   "cell_type": "code",
   "execution_count": 264,
   "metadata": {},
   "outputs": [],
   "source": [
    "plot_data['pred_no_mass_shooting_wls'] = res.predict(plot_data['avg_tot_civ_fa']) "
   ]
  },
  {
   "cell_type": "code",
   "execution_count": 265,
   "metadata": {},
   "outputs": [
    {
     "data": {
      "image/png": "[encoded data removed]",
      "text/plain": [
       "<Figure size 432x288 with 1 Axes>"
      ]
     },
     "metadata": {
      "needs_background": "light"
     },
     "output_type": "display_data"
    },
    {
     "name": "stdout",
     "output_type": "stream",
     "text": [
      "\n",
      "United States is removed from the data because it is an outlier, as exploration stage revealed.\n",
      "Regression line is calculated with WLS method, where weighting is calculated using Poisson Error, square root of the value of dependent variable.\n",
      "R-squared is 0.86, which is 7% improvement in explaining the total variance of data from OLS model.\n",
      "\n"
     ]
    }
   ],
   "source": [
    "plt.plot(\n",
    "    plot_data['avg_tot_civ_fa']\n",
    "    , plot_data['no_mass_shooting']\n",
    "    , '.r'\n",
    ") #plot the data\n",
    "\n",
    "plt.plot(\n",
    "    plot_data['avg_tot_civ_fa']\n",
    "    , plot_data['pred_no_mass_shooting_wls']\n",
    "    , 'b'\n",
    ") #plot the regression\n",
    "ax = plt.gca()\n",
    "ax.set_title(\"Number of mass shootings vs. Average total all civilian firearms\")\n",
    "ax.set_xlabel(\"Average total all civilian firearms\")\n",
    "ax.set_ylabel(\"Number of mass shootings\")\n",
    "ax.set_ylim()\n",
    "plt.show()\n",
    "cmt = \"\"\"\n",
    "United States is removed from the data because it is an outlier, as exploration stage revealed.\n",
    "Regression line is calculated with WLS method, where weighting is calculated using Poisson Error, square root of the value of dependent variable.\n",
    "R-squared is 0.86, which is 7% improvement in explaining the total variance of data from OLS model.\n",
    "\"\"\"\n",
    "print(cmt)"
   ]
  },
  {
   "cell_type": "markdown",
   "metadata": {},
   "source": [
    "#### Seaborn Regplot"
   ]
  },
  {
   "cell_type": "code",
   "execution_count": null,
   "metadata": {},
   "outputs": [],
   "source": [
    "sns.regplot(\n",
    "    x=plot_data['avg_tot_civ_fa']\n",
    "    , y=plot_data['no_mass_shooting']\n",
    "    , marker='.'\n",
    "    , data=plot_data\n",
    "    , ci=95\n",
    ")\n",
    "ax = plt.gca()\n",
    "ax.set_title(\"Number of mass shootings vs. Average total all civilian firearms\")\n",
    "ax.set_xlabel(\"Average total all civilian firearms\")\n",
    "ax.set_ylabel(\"Number of mass shootings\")\n",
    "ax.set_ylim()\n",
    "plt.show()\n",
    "cmt = \"\"\"\n",
    "United States is removed from the data because it is an outlier, as exploration stage revealed.\n",
    "Regression line is calculated with Seaborn Regplot method.\n",
    "The blue region shows the confidence interval whose conditonal probability is P(Y|X=x)\n",
    "\"\"\"\n",
    "print(cmt)"
   ]
  },
  {
   "cell_type": "markdown",
   "metadata": {
    "ExecuteTime": {
     "end_time": "2017-10-12T16:21:08.019663",
     "start_time": "2017-10-12T16:21:08.010876"
    },
    "run_control": {
     "frozen": false,
     "read_only": false
    }
   },
   "source": [
    "## Extra credit: calculate the confidence interval by hand and also plot them \n",
    "you can use pylab.fill_between(x, yfit - ci, yfit + ci, alpha=0.5)"
   ]
  },
  {
   "cell_type": "markdown",
   "metadata": {
    "run_control": {
     "frozen": false,
     "read_only": false
    }
   },
   "source": [
    "**Confidence intervals: **\n",
    "there are three type of intervals in a linear regression, plot any one of them all three if you want - how do they compare to the seaborn plot?:\n",
    "\n",
    "1) Confidence intervals for the parameters slope and intercept\n",
    "\n",
    "2) Confidence interval for the average y value\n",
    "\n",
    "3) Prediction interval for a single y value"
   ]
  },
  {
   "cell_type": "markdown",
   "metadata": {
    "run_control": {
     "frozen": false,
     "read_only": false
    }
   },
   "source": [
    "1) __confidence interval of the  model parameters slope and intercept:__\n",
    "define sigma as the sum of the residuals over the square root of number n of observations. \n",
    "\n",
    "sigma: σ̂ =sqrt(Sum((Yoberved_i−Ypredicted_i)^2)/n)\n",
    "\n",
    "where the sum is over all observations\n",
    "\n",
    "Define t_alpha/2,n-2 the t statistics at (1-alpha/2) for a t distribution with n-2 degrees of freedom (you can calculate it with scipy\n",
    "tp = sp.stats.t.ppf(0.975, n-2)\n",
    "\n"
   ]
  },
  {
   "cell_type": "code",
   "execution_count": 29,
   "metadata": {
    "ExecuteTime": {
     "end_time": "2017-10-12T15:42:26.836222",
     "start_time": "2017-10-12T15:42:26.819963"
    },
    "run_control": {
     "frozen": false,
     "read_only": false
    }
   },
   "outputs": [
    {
     "data": {
      "image/png": "[encoded data removed]",
      "text/plain": [
       "<IPython.core.display.Image object>"
      ]
     },
     "execution_count": 29,
     "metadata": {},
     "output_type": "execute_result"
    }
   ],
   "source": [
    "from IPython.display import Image\n",
    "Image(filename=\"../Lab5_fb55/confidence_intervals_regression.png\")"
   ]
  },
  {
   "cell_type": "code",
   "execution_count": 30,
   "metadata": {
    "ExecuteTime": {
     "end_time": "2017-10-12T15:54:20.748008",
     "start_time": "2017-10-12T15:54:20.736381"
    },
    "run_control": {
     "frozen": false,
     "read_only": false
    }
   },
   "outputs": [
    {
     "data": {
      "image/png": "[encoded data removed]",
      "text/plain": [
       "<IPython.core.display.Image object>"
      ]
     },
     "execution_count": 30,
     "metadata": {},
     "output_type": "execute_result"
    }
   ],
   "source": [
    "from IPython.display import Image\n",
    "Image(filename=\"../Lab5_fb55/confidence_intervals_regression2.png\")"
   ]
  },
  {
   "cell_type": "markdown",
   "metadata": {
    "run_control": {
     "frozen": false,
     "read_only": false
    }
   },
   "source": [
    "[proof](https://onlinecourses.science.psu.edu/stat414/node/280)"
   ]
  },
  {
   "cell_type": "markdown",
   "metadata": {
    "run_control": {
     "frozen": false,
     "read_only": false
    }
   },
   "source": [
    "2) **A confidence interval for E(y | x) , the expected (average) value of y for a given x_**\n",
    "\n",
    "define s: residual standard error sy = sqrt(Sum((y_observed-y_predicted)^2)/(n-2))\n",
    "\n",
    "(note: n-2 is the degrees of freedom of the problem: observations - number of parameters - 1)\n",
    "\n",
    "the confidence interval for a given y(x*) is: \n",
    "\n",
    "y_predicted(x*) +/- t_(alpha/2)(n-2) * sy * sqrt( 1/n + (x* - mean(x)^2) / sum((x* - mean(x)^2)"
   ]
  },
  {
   "cell_type": "code",
   "execution_count": 33,
   "metadata": {
    "ExecuteTime": {
     "end_time": "2017-10-12T16:09:14.173143",
     "start_time": "2017-10-12T16:09:14.161088"
    },
    "run_control": {
     "frozen": false,
     "read_only": false
    }
   },
   "outputs": [
    {
     "data": {
      "image/png": "[encoded data removed]",
      "text/plain": [
       "<IPython.core.display.Image object>"
      ]
     },
     "execution_count": 33,
     "metadata": {},
     "output_type": "execute_result"
    }
   ],
   "source": [
    "from IPython.display import Image\n",
    "Image(filename=\"../Lab5_fb55/ciY.png\")"
   ]
  },
  {
   "cell_type": "markdown",
   "metadata": {
    "run_control": {
     "frozen": false,
     "read_only": false
    }
   },
   "source": [
    "3) **Confidence intervals for average y (predicted) values**\n",
    "\n",
    "y_predicted(x*) +/- t_(n-2) * sy * sqrt( 1 + 1/n + (x* - mean(x)^2) / sum((x* - mean(x)^2)\n",
    "\n",
    "very similar, but note the +1 in the square root"
   ]
  },
  {
   "cell_type": "code",
   "execution_count": 32,
   "metadata": {
    "ExecuteTime": {
     "end_time": "2017-10-12T16:08:46.077157",
     "start_time": "2017-10-12T16:08:46.067407"
    },
    "run_control": {
     "frozen": false,
     "read_only": false
    }
   },
   "outputs": [
    {
     "data": {
      "image/png": "[encoded data removed]",
      "text/plain": [
       "<IPython.core.display.Image object>"
      ]
     },
     "execution_count": 32,
     "metadata": {},
     "output_type": "execute_result"
    }
   ],
   "source": [
    "from IPython.display import Image\n",
    "Image(filename=\"../Lab5_fb55/ciYaverage.png\")"
   ]
  },
  {
   "cell_type": "code",
   "execution_count": 66,
   "metadata": {
    "ExecuteTime": {
     "end_time": "2017-10-12T16:36:39.238967",
     "start_time": "2017-10-12T16:36:38.688004"
    },
    "run_control": {
     "frozen": false,
     "read_only": false
    }
   },
   "outputs": [
    {
     "data": {
      "image/png": "[encoded data removed]",
      "text/plain": [
       "<matplotlib.figure.Figure at 0x115a9c290>"
      ]
     },
     "metadata": {},
     "output_type": "display_data"
    }
   ],
   "source": [
    "pl.figure()\n",
    "import seaborn  as sns\n",
    "sns.regplot(x=\"x\", y=\"y\", data=df_);\n",
    "\n",
    "pl.ylabel(\"Mass shootings\")\n",
    "pl.xlabel(\"Fire arms\");"
   ]
  },
  {
   "cell_type": "markdown",
   "metadata": {
    "run_control": {
     "frozen": false,
     "read_only": false
    }
   },
   "source": [
    "## Use the stsatsmodels.gaphics package to plot the influence plot. \n",
    "Read the package documentation to learn how to read this plot and extract the countries with the highest influence\n",
    "\n",
    "This is the topic of this week's assigned reading, so make sure you do the reading before you do this step. It will help you interpret the plot."
   ]
  },
  {
   "cell_type": "code",
   "execution_count": 362,
   "metadata": {
    "ExecuteTime": {
     "end_time": "2017-10-11T07:46:21.766085",
     "start_time": "2017-10-11T07:46:21.412498"
    },
    "run_control": {
     "frozen": false,
     "read_only": false
    }
   },
   "outputs": [
    {
     "data": {
      "image/png": "[encoded data removed]",
      "text/plain": [
       "<matplotlib.figure.Figure at 0x118ff7ad0>"
      ]
     },
     "metadata": {},
     "output_type": "display_data"
    }
   ],
   "source": [
    "sm.graphics.influence_plot(modelOLS, alpha  = 0.05, criterion=\"cooks\");"
   ]
  },
  {
   "cell_type": "markdown",
   "metadata": {
    "run_control": {
     "frozen": false,
     "read_only": false
    }
   },
   "source": [
    "## Extra credit: calculate from scratch the stanrdardized residuals and the H leverage for the WLS model and discuss if there are any differences"
   ]
  },
  {
   "cell_type": "markdown",
   "metadata": {
    "run_control": {
     "frozen": false,
     "read_only": false
    }
   },
   "source": [
    "## Discuss your findings"
   ]
  },
  {
   "cell_type": "code",
   "execution_count": null,
   "metadata": {},
   "outputs": [],
   "source": []
  }
 ],
 "metadata": {
  "anaconda-cloud": {},
  "kernelspec": {
   "display_name": "tf",
   "language": "python",
   "name": "tf"
  },
  "language_info": {
   "codemirror_mode": {
    "name": "ipython",
    "version": 3
   },
   "file_extension": ".py",
   "mimetype": "text/x-python",
   "name": "python",
   "nbconvert_exporter": "python",
   "pygments_lexer": "ipython3",
   "version": "3.5.5"
  },
  "latex_envs": {
   "LaTeX_envs_menu_present": true,
   "bibliofile": "biblio.bib",
   "cite_by": "apalike",
   "current_citInitial": 1,
   "eqLabelWithNumbers": true,
   "eqNumInitial": 1,
   "hotkeys": {
    "equation": "Ctrl-E",
    "itemize": "Ctrl-I"
   },
   "labels_anchors": false,
   "latex_user_defs": false,
   "report_style_numbering": false,
   "user_envs_cfg": false
  },
  "toc": {
   "colors": {
    "hover_highlight": "#DAA520",
    "running_highlight": "#FF0000",
    "selected_highlight": "#FFD700"
   },
   "moveMenuLeft": true,
   "nav_menu": {
    "height": "13px",
    "width": "251px"
   },
   "navigate_menu": true,
   "number_sections": true,
   "sideBar": true,
   "threshold": 4,
   "toc_cell": true,
   "toc_section_display": "block",
   "toc_window_display": true
  }
 },
 "nbformat": 4,
 "nbformat_minor": 2
}
