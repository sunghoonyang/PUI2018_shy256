{
 "cells": [
  {
   "cell_type": "markdown",
   "metadata": {
    "run_control": {
     "frozen": false,
     "read_only": false
    }
   },
   "source": [
    "**exercises with statsmodels OLS and WLS**\n",
    "*created by fbb November 2018*\n"
   ]
  },
  {
   "cell_type": "code",
   "execution_count": 3,
   "metadata": {},
   "outputs": [
    {
     "name": "stderr",
     "output_type": "stream",
     "text": [
      "/nfshome/shy256/.conda/envs/tf/lib/python3.5/importlib/_bootstrap.py:222: RuntimeWarning: numpy.dtype size changed, may indicate binary incompatibility. Expected 96, got 88\n",
      "  return f(*args, **kwds)\n"
     ]
    }
   ],
   "source": [
    "from __future__ import print_function\n",
    "# this is me\n",
    "__author__ = \"Sung Hoon Yang, CUSP NYU 2018\"\n",
    "\n",
    "# limit the number of same warnings to once\n",
    "import warnings\n",
    "warnings.filterwarnings(action='once')\n",
    "\n",
    "## bread and butter\n",
    "import sys\n",
    "import numpy as np\n",
    "import pandas as pd\n",
    "import matplotlib\n",
    "font = {'weight' : 'bold',\n",
    "        'size'   : 88}\n",
    "\n",
    "matplotlib.rc('font', **font)\n",
    "import matplotlib.pyplot as plt\n",
    "import pylab as pl\n",
    "import seaborn as sns\n",
    "import os\n",
    "\"\"\"\n",
    "Set up PUIDATA env var\n",
    "\"\"\"\n",
    "os.environ[\"PUIDATA\"] = \"%s/fall18/PUI/PUIDATA\"% os.getenv(\"HOME\")\n",
    "os.environ[\"PUI2018\"] = \"%s/fall18/PUI/PUI2018\"% os.getenv(\"HOME\")\n",
    "%matplotlib inline\n",
    "np.random.seed(999)\n",
    "\n",
    "# Utilities\n",
    "sys.path.insert(0, '/nfshome/shy256/util')\n",
    "from puma_to_name import PUMA_TO_NAME\n",
    "from pprint import pprint\n",
    "import re\n",
    "from datetime import datetime, timedelta\n",
    "from dateutil.relativedelta import relativedelta\n",
    "from copy import deepcopy\n",
    "import geopandas as gpd"
   ]
  },
  {
   "cell_type": "code",
   "execution_count": 5,
   "metadata": {
    "ExecuteTime": {
     "end_time": "2018-11-08T18:05:35.078740Z",
     "start_time": "2018-11-08T18:05:35.037891Z"
    },
    "run_control": {
     "frozen": false,
     "read_only": false
    }
   },
   "outputs": [
    {
     "name": "stdout",
     "output_type": "stream",
     "text": [
      "Populating the interactive namespace from numpy and matplotlib\n"
     ]
    },
    {
     "name": "stderr",
     "output_type": "stream",
     "text": [
      "/nfshome/shy256/.conda/envs/tf/lib/python3.5/site-packages/IPython/core/magics/pylab.py:160: UserWarning: pylab import has clobbered these variables: ['datetime']\n",
      "`%matplotlib` prevents importing * from pylab and numpy\n",
      "  \"\\n`%matplotlib` prevents importing * from pylab and numpy\"\n"
     ]
    }
   ],
   "source": [
    "from __future__ import print_function, division\n",
    "import pylab as pl\n",
    "\n",
    "import os\n",
    "import json\n",
    "\n",
    "import statsmodels.api as sm\n",
    "import statsmodels.formula.api as smf\n",
    "\n",
    "%pylab inline"
   ]
  },
  {
   "cell_type": "code",
   "execution_count": 2,
   "metadata": {
    "ExecuteTime": {
     "end_time": "2018-11-08T18:05:35.950830Z",
     "start_time": "2018-11-08T18:05:35.933414Z"
    },
    "run_control": {
     "frozen": false,
     "read_only": false
    }
   },
   "outputs": [],
   "source": [
    "def errors(x):\n",
    "    return np.sqrt(x)\n",
    "    \n",
    "\n",
    "def line(a, x, b=0, errors=None):\n",
    "    '''\n",
    "    creates a line from parameters and exogenous variable\n",
    "    a: slope\n",
    "    x: exogenous variable\n",
    "    b: intercept - default 0\n",
    "    errors: add uncertainties (sqrt(N) - default True)\n",
    "    '''\n",
    "    np.random.randn(123)\n",
    "    if errors is None:\n",
    "        return a*x + b \n",
    "    else:\n",
    "        return a*x + b + np.random.randn(len(x)) * errors(x)\n",
    "    \n"
   ]
  },
  {
   "cell_type": "markdown",
   "metadata": {
    "run_control": {
     "frozen": false,
     "read_only": false
    }
   },
   "source": [
    "# 1. create a line with a chosen slope and intercept = 0 and plot it with uncertainties as errorbars\n",
    "\n",
    "use the functions created above"
   ]
  },
  {
   "cell_type": "code",
   "execution_count": 60,
   "metadata": {
    "ExecuteTime": {
     "end_time": "2018-11-08T18:05:47.132879Z",
     "start_time": "2018-11-08T18:05:46.952667Z"
    },
    "run_control": {
     "frozen": false,
     "read_only": false
    }
   },
   "outputs": [
    {
     "data": {
      "text/plain": [
       "0     6.421409\n",
       "1    10.033530\n",
       "2    31.936643\n",
       "3    30.159866\n",
       "4    32.346900\n",
       "5    35.737271\n",
       "6    59.197564\n",
       "7    64.157067\n",
       "8    71.451282\n",
       "9    88.179205\n",
       "dtype: float64"
      ]
     },
     "execution_count": 60,
     "metadata": {},
     "output_type": "execute_result"
    }
   ],
   "source": [
    "x = list(map(lambda x: x*10, range(1, 11)))\n",
    "x = pd.Series(x)\n",
    "a=0.8\n",
    "\n",
    "y = line(a, x, errors=errors)\n",
    "y"
   ]
  },
  {
   "cell_type": "code",
   "execution_count": 61,
   "metadata": {},
   "outputs": [
    {
     "data": {
      "image/png": "[encoded data removed]",
      "text/plain": [
       "<Figure size 432x288 with 1 Axes>"
      ]
     },
     "metadata": {
      "needs_background": "light"
     },
     "output_type": "display_data"
    }
   ],
   "source": [
    "plt.scatter(x, y)\n",
    "plt.errorbar(x, y, yerr=[np.sqrt(_x) for _x in x], fmt='none')\n",
    "plt.grid()\n",
    "plt.xlabel('exogenous')\n",
    "plt.ylabel('endogenous')\n",
    "plt.show()"
   ]
  },
  {
   "cell_type": "markdown",
   "metadata": {
    "run_control": {
     "frozen": false,
     "read_only": false
    }
   },
   "source": [
    "# 2. print y, x, and the result of applying statsmodels.api.add_constant() to x"
   ]
  },
  {
   "cell_type": "code",
   "execution_count": 62,
   "metadata": {},
   "outputs": [
    {
     "name": "stdout",
     "output_type": "stream",
     "text": [
      "\n",
      "Y: \n",
      "0     6.421409\n",
      "1    10.033530\n",
      "2    31.936643\n",
      "3    30.159866\n",
      "4    32.346900\n",
      "5    35.737271\n",
      "6    59.197564\n",
      "7    64.157067\n",
      "8    71.451282\n",
      "9    88.179205\n",
      "dtype: float64\n",
      "\n",
      "X: \n",
      "0     10\n",
      "1     20\n",
      "2     30\n",
      "3     40\n",
      "4     50\n",
      "5     60\n",
      "6     70\n",
      "7     80\n",
      "8     90\n",
      "9    100\n",
      "dtype: int64\n",
      "\n",
      "X with Constant: \n",
      "   const    0\n",
      "0    1.0   10\n",
      "1    1.0   20\n",
      "2    1.0   30\n",
      "3    1.0   40\n",
      "4    1.0   50\n",
      "5    1.0   60\n",
      "6    1.0   70\n",
      "7    1.0   80\n",
      "8    1.0   90\n",
      "9    1.0  100\n"
     ]
    }
   ],
   "source": [
    "x_const = sm.add_constant(x)\n",
    "print('\\nY: ')\n",
    "pprint(y) \n",
    "print('\\nX: ')\n",
    "pprint(x)\n",
    "print('\\nX with Constant: ')\n",
    "pprint(x_const)"
   ]
  },
  {
   "cell_type": "markdown",
   "metadata": {
    "run_control": {
     "frozen": false,
     "read_only": false
    }
   },
   "source": [
    "# 3. use statsmodels.api.OLS to fit x and y \n",
    "- a. *the wrong way*: by passing x as exogenous variable\n",
    "- b. *the right way*: by passing statsmodels.api.add_constant(x) as exogenous variable\n",
    "\n",
    "# and print the model summary for each and discuss the differences"
   ]
  },
  {
   "cell_type": "markdown",
   "metadata": {},
   "source": [
    "#### a: wrong way"
   ]
  },
  {
   "cell_type": "code",
   "execution_count": 63,
   "metadata": {},
   "outputs": [
    {
     "name": "stdout",
     "output_type": "stream",
     "text": [
      "                            OLS Regression Results                            \n",
      "==============================================================================\n",
      "Dep. Variable:                      y   R-squared:                       0.984\n",
      "Model:                            OLS   Adj. R-squared:                  0.983\n",
      "Method:                 Least Squares   F-statistic:                     564.5\n",
      "Date:                Sun, 11 Nov 2018   Prob (F-statistic):           1.98e-09\n",
      "Time:                        14:55:15   Log-Likelihood:                -32.516\n",
      "No. Observations:                  10   AIC:                             67.03\n",
      "Df Residuals:                       9   BIC:                             67.33\n",
      "Df Model:                           1                                         \n",
      "Covariance Type:            nonrobust                                         \n",
      "==============================================================================\n",
      "                 coef    std err          t      P>|t|      [0.025      0.975]\n",
      "------------------------------------------------------------------------------\n",
      "x1             0.7978      0.034     23.760      0.000       0.722       0.874\n",
      "==============================================================================\n",
      "Omnibus:                        0.050   Durbin-Watson:                   1.762\n",
      "Prob(Omnibus):                  0.975   Jarque-Bera (JB):                0.264\n",
      "Skew:                          -0.097   Prob(JB):                        0.877\n",
      "Kurtosis:                       2.229   Cond. No.                         1.00\n",
      "==============================================================================\n",
      "\n",
      "Warnings:\n",
      "[1] Standard Errors assume that the covariance matrix of the errors is correctly specified.\n"
     ]
    }
   ],
   "source": [
    "ols_a = sm.OLS(y, x)\n",
    "res_a = ols_a.fit()\n",
    "print(res_a.summary())"
   ]
  },
  {
   "cell_type": "markdown",
   "metadata": {},
   "source": [
    "#### b: right way"
   ]
  },
  {
   "cell_type": "code",
   "execution_count": 64,
   "metadata": {},
   "outputs": [
    {
     "name": "stdout",
     "output_type": "stream",
     "text": [
      "                            OLS Regression Results                            \n",
      "==============================================================================\n",
      "Dep. Variable:                      y   R-squared:                       0.945\n",
      "Model:                            OLS   Adj. R-squared:                  0.939\n",
      "Method:                 Least Squares   F-statistic:                     138.6\n",
      "Date:                Sun, 11 Nov 2018   Prob (F-statistic):           2.48e-06\n",
      "Time:                        14:55:24   Log-Likelihood:                -31.986\n",
      "No. Observations:                  10   AIC:                             67.97\n",
      "Df Residuals:                       8   BIC:                             68.58\n",
      "Df Model:                           1                                         \n",
      "Covariance Type:            nonrobust                                         \n",
      "==============================================================================\n",
      "                 coef    std err          t      P>|t|      [0.025      0.975]\n",
      "------------------------------------------------------------------------------\n",
      "const         -4.2829      4.527     -0.946      0.372     -14.723       6.157\n",
      "0              0.8590      0.073     11.773      0.000       0.691       1.027\n",
      "==============================================================================\n",
      "Omnibus:                        0.345   Durbin-Watson:                   1.935\n",
      "Prob(Omnibus):                  0.842   Jarque-Bera (JB):                0.084\n",
      "Skew:                          -0.162   Prob(JB):                        0.959\n",
      "Kurtosis:                       2.689   Cond. No.                         134.\n",
      "==============================================================================\n",
      "\n",
      "Warnings:\n",
      "[1] Standard Errors assume that the covariance matrix of the errors is correctly specified.\n"
     ]
    }
   ],
   "source": [
    "ols_b = sm.OLS(y, x_const)\n",
    "res_b = ols_b.fit()\n",
    "print(res_b.summary())"
   ]
  },
  {
   "cell_type": "markdown",
   "metadata": {},
   "source": [
    "1. $R^2$ is lower for the OLS linear regression with a constant (bivariate has lower $R^2$ than univariate linear regression)\n",
    "2. 95% confidence interval/standard error for the coefficient of x for the ols model (a) is much tighter than that of (b). The intercept prediction exhibits even wider confidence interval, which mars its useability. \n",
    "3. t-statistics are high for both models' exogenous variable. This makes sense because both are very close to the actual slope of 0.8\n"
   ]
  },
  {
   "cell_type": "markdown",
   "metadata": {
    "run_control": {
     "frozen": false,
     "read_only": false
    }
   },
   "source": [
    "# 4. plot the data (as points) and both statsmodels fits"
   ]
  },
  {
   "cell_type": "code",
   "execution_count": 69,
   "metadata": {},
   "outputs": [
    {
     "data": {
      "text/html": [
       "<div>\n",
       "<style scoped>\n",
       "    .dataframe tbody tr th:only-of-type {\n",
       "        vertical-align: middle;\n",
       "    }\n",
       "\n",
       "    .dataframe tbody tr th {\n",
       "        vertical-align: top;\n",
       "    }\n",
       "\n",
       "    .dataframe thead th {\n",
       "        text-align: right;\n",
       "    }\n",
       "</style>\n",
       "<table border=\"1\" class=\"dataframe\">\n",
       "  <thead>\n",
       "    <tr style=\"text-align: right;\">\n",
       "      <th></th>\n",
       "      <th>x</th>\n",
       "      <th>y</th>\n",
       "      <th>ypred_a</th>\n",
       "      <th>ypred_b</th>\n",
       "    </tr>\n",
       "  </thead>\n",
       "  <tbody>\n",
       "    <tr>\n",
       "      <th>0</th>\n",
       "      <td>10</td>\n",
       "      <td>6.421409</td>\n",
       "      <td>7.978153</td>\n",
       "      <td>4.307073</td>\n",
       "    </tr>\n",
       "    <tr>\n",
       "      <th>1</th>\n",
       "      <td>20</td>\n",
       "      <td>10.033530</td>\n",
       "      <td>15.956307</td>\n",
       "      <td>12.897073</td>\n",
       "    </tr>\n",
       "    <tr>\n",
       "      <th>2</th>\n",
       "      <td>30</td>\n",
       "      <td>31.936643</td>\n",
       "      <td>23.934460</td>\n",
       "      <td>21.487073</td>\n",
       "    </tr>\n",
       "    <tr>\n",
       "      <th>3</th>\n",
       "      <td>40</td>\n",
       "      <td>30.159866</td>\n",
       "      <td>31.912614</td>\n",
       "      <td>30.077073</td>\n",
       "    </tr>\n",
       "    <tr>\n",
       "      <th>4</th>\n",
       "      <td>50</td>\n",
       "      <td>32.346900</td>\n",
       "      <td>39.890767</td>\n",
       "      <td>38.667074</td>\n",
       "    </tr>\n",
       "  </tbody>\n",
       "</table>\n",
       "</div>"
      ],
      "text/plain": [
       "    x          y    ypred_a    ypred_b\n",
       "0  10   6.421409   7.978153   4.307073\n",
       "1  20  10.033530  15.956307  12.897073\n",
       "2  30  31.936643  23.934460  21.487073\n",
       "3  40  30.159866  31.912614  30.077073\n",
       "4  50  32.346900  39.890767  38.667074"
      ]
     },
     "execution_count": 69,
     "metadata": {},
     "output_type": "execute_result"
    }
   ],
   "source": [
    "_df = pd.DataFrame(data={'x': x, 'y': y})\n",
    "_df['ypred_a'] = res_a.predict()\n",
    "_df['ypred_b'] = res_b.predict()\n",
    "_df.head()"
   ]
  },
  {
   "cell_type": "code",
   "execution_count": 72,
   "metadata": {},
   "outputs": [
    {
     "data": {
      "image/png": "[encoded data removed]",
      "text/plain": [
       "<Figure size 432x288 with 1 Axes>"
      ]
     },
     "metadata": {
      "needs_background": "light"
     },
     "output_type": "display_data"
    }
   ],
   "source": [
    "plt.scatter(x, y)\n",
    "plt.plot(_df.x,_df.ypred_a, 'b', label='w/out constant') \n",
    "plt.plot(_df.x,_df.ypred_b, 'r', label='w/ constant') \n",
    "plt.legend()\n",
    "plt.xlabel('exogenous')\n",
    "plt.ylabel('endogenous')\n",
    "plt.title('Exogenous var. with OLS result with and without y-intercept')\n",
    "plt.show()"
   ]
  },
  {
   "cell_type": "markdown",
   "metadata": {
    "run_control": {
     "frozen": false,
     "read_only": false
    }
   },
   "source": [
    "# 5. create a line with a chosen slope and a chosen intercept >=100*slope and plot it with uncertainties as errorbars"
   ]
  },
  {
   "cell_type": "code",
   "execution_count": 85,
   "metadata": {},
   "outputs": [
    {
     "name": "stdout",
     "output_type": "stream",
     "text": [
      "slope and y-intercept\n",
      "0.8 | 81.0\n",
      "Endogenous Variable Values\n"
     ]
    },
    {
     "data": {
      "text/plain": [
       "0     89.843256\n",
       "1     97.185768\n",
       "2    102.310933\n",
       "3    105.474034\n",
       "4    115.375098\n",
       "5    138.053998\n",
       "6    125.379274\n",
       "7    120.412196\n",
       "8    143.708368\n",
       "9    170.408237\n",
       "dtype: float64"
      ]
     },
     "execution_count": 85,
     "metadata": {},
     "output_type": "execute_result"
    }
   ],
   "source": [
    "a = 0.8\n",
    "b = 100 * a + 1\n",
    "print('slope and y-intercept')\n",
    "print(a, '|', icpt)\n",
    "y = line(a, x, b, errors=errors)\n",
    "print('Endogenous Variable Values')\n",
    "y"
   ]
  },
  {
   "cell_type": "code",
   "execution_count": 86,
   "metadata": {},
   "outputs": [
    {
     "data": {
      "image/png": "[encoded data removed]",
      "text/plain": [
       "<Figure size 432x288 with 1 Axes>"
      ]
     },
     "metadata": {
      "needs_background": "light"
     },
     "output_type": "display_data"
    }
   ],
   "source": [
    "plt.scatter(x, y)\n",
    "plt.errorbar(x, y, yerr=[np.sqrt(_x) for _x in x], fmt='none')\n",
    "plt.grid()\n",
    "plt.xlabel('exogenous')\n",
    "plt.ylabel('endogenous')\n",
    "plt.show()"
   ]
  },
  {
   "cell_type": "markdown",
   "metadata": {
    "run_control": {
     "frozen": false,
     "read_only": false
    }
   },
   "source": [
    "# 6. repeat step 3"
   ]
  },
  {
   "cell_type": "markdown",
   "metadata": {},
   "source": [
    "#### a: wrong way"
   ]
  },
  {
   "cell_type": "code",
   "execution_count": 87,
   "metadata": {},
   "outputs": [
    {
     "name": "stdout",
     "output_type": "stream",
     "text": [
      "                            OLS Regression Results                            \n",
      "==============================================================================\n",
      "Dep. Variable:                      y   R-squared:                       0.903\n",
      "Model:                            OLS   Adj. R-squared:                  0.893\n",
      "Method:                 Least Squares   F-statistic:                     84.24\n",
      "Date:                Sun, 11 Nov 2018   Prob (F-statistic):           7.27e-06\n",
      "Time:                        15:06:38   Log-Likelihood:                -50.625\n",
      "No. Observations:                  10   AIC:                             103.2\n",
      "Df Residuals:                       9   BIC:                             103.6\n",
      "Df Model:                           1                                         \n",
      "Covariance Type:            nonrobust                                         \n",
      "==============================================================================\n",
      "                 coef    std err          t      P>|t|      [0.025      0.975]\n",
      "------------------------------------------------------------------------------\n",
      "x1             1.8848      0.205      9.178      0.000       1.420       2.349\n",
      "==============================================================================\n",
      "Omnibus:                        1.533   Durbin-Watson:                   0.158\n",
      "Prob(Omnibus):                  0.465   Jarque-Bera (JB):                0.741\n",
      "Skew:                           0.035   Prob(JB):                        0.690\n",
      "Kurtosis:                       1.668   Cond. No.                         1.00\n",
      "==============================================================================\n",
      "\n",
      "Warnings:\n",
      "[1] Standard Errors assume that the covariance matrix of the errors is correctly specified.\n"
     ]
    },
    {
     "name": "stderr",
     "output_type": "stream",
     "text": [
      "/nfshome/shy256/.conda/envs/tf/lib/python3.5/site-packages/scipy/stats/stats.py:1394: UserWarning: kurtosistest only valid for n>=20 ... continuing anyway, n=10\n",
      "  \"anyway, n=%i\" % int(n))\n"
     ]
    }
   ],
   "source": [
    "ols_a = sm.OLS(y, x)\n",
    "res_a = ols_a.fit()\n",
    "print(res_a.summary())"
   ]
  },
  {
   "cell_type": "markdown",
   "metadata": {},
   "source": [
    "#### b: right way"
   ]
  },
  {
   "cell_type": "code",
   "execution_count": 88,
   "metadata": {},
   "outputs": [
    {
     "name": "stdout",
     "output_type": "stream",
     "text": [
      "                            OLS Regression Results                            \n",
      "==============================================================================\n",
      "Dep. Variable:                      y   R-squared:                       0.836\n",
      "Model:                            OLS   Adj. R-squared:                  0.816\n",
      "Method:                 Least Squares   F-statistic:                     40.81\n",
      "Date:                Sun, 11 Nov 2018   Prob (F-statistic):           0.000212\n",
      "Time:                        15:06:51   Log-Likelihood:                -36.629\n",
      "No. Observations:                  10   AIC:                             77.26\n",
      "Df Residuals:                       8   BIC:                             77.86\n",
      "Df Model:                           1                                         \n",
      "Covariance Type:            nonrobust                                         \n",
      "==============================================================================\n",
      "                 coef    std err          t      P>|t|      [0.025      0.975]\n",
      "------------------------------------------------------------------------------\n",
      "const         80.0270      7.203     11.110      0.000      63.417      96.637\n",
      "0              0.7416      0.116      6.388      0.000       0.474       1.009\n",
      "==============================================================================\n",
      "Omnibus:                        0.683   Durbin-Watson:                   1.623\n",
      "Prob(Omnibus):                  0.711   Jarque-Bera (JB):                0.005\n",
      "Skew:                          -0.050   Prob(JB):                        0.998\n",
      "Kurtosis:                       2.956   Cond. No.                         134.\n",
      "==============================================================================\n",
      "\n",
      "Warnings:\n",
      "[1] Standard Errors assume that the covariance matrix of the errors is correctly specified.\n"
     ]
    }
   ],
   "source": [
    "ols_b = sm.OLS(y, x_const)\n",
    "res_b = ols_b.fit()\n",
    "print(res_b.summary())"
   ]
  },
  {
   "cell_type": "markdown",
   "metadata": {},
   "source": [
    "1. $R^2$ is lower for the OLS linear regression with a constant (bivariate has lower $R^2$ than univariate linear regression)\n",
    "2. 95% confidence interval/standard error for the coefficient of x for the ols model (a) is much tighter than that of (b). \n",
    "3. t-statistics are high for both models' exogenous variable. This makes sense because both are very close to the actual slope of 0.8\n",
    "4. **UNLIKE** Step 3, the intercept prediction exhibits a tighter confidence interval. the standard error shows improvement, as the std err is much smaller compared to the mean value of the coefficient with this (slope, intercept) pair.\n"
   ]
  },
  {
   "cell_type": "markdown",
   "metadata": {
    "run_control": {
     "frozen": false,
     "read_only": false
    }
   },
   "source": [
    "# 7. now fit the data with WLS weighted least square, a linear fit that takes into account the uncertainties by \"down-weighting\" (considering less important) observations with large uncertainties"
   ]
  },
  {
   "cell_type": "markdown",
   "metadata": {
    "ExecuteTime": {
     "end_time": "2018-11-08T17:02:55.249878Z",
     "start_time": "2018-11-08T17:02:55.203641Z"
    },
    "run_control": {
     "frozen": false,
     "read_only": false
    }
   },
   "source": [
    "you should at this point ask: how can I create weights from my uncertainties? The answer, as often is the case, is not unique. But a rule of thumb is that the weights would be the _inverse_ (remember: larger error must mean smaller weight) of the variance, with is the standard deviation square. Look at the error() function I create and design your weights array according to this rule"
   ]
  },
  {
   "cell_type": "code",
   "execution_count": 89,
   "metadata": {
    "ExecuteTime": {
     "end_time": "2018-11-08T17:14:01.661927Z",
     "start_time": "2018-11-08T17:14:01.633175Z"
    },
    "run_control": {
     "frozen": false,
     "read_only": false
    }
   },
   "outputs": [],
   "source": [
    "from statsmodels.regression.linear_model import WLS"
   ]
  },
  {
   "cell_type": "code",
   "execution_count": 99,
   "metadata": {},
   "outputs": [
    {
     "data": {
      "text/plain": [
       "50.4823524652655"
      ]
     },
     "execution_count": 99,
     "metadata": {},
     "output_type": "execute_result"
    }
   ],
   "source": [
    "w = errors(x_const).mean() ** 2\n",
    "w = w.values[1]\n",
    "w"
   ]
  },
  {
   "cell_type": "code",
   "execution_count": 100,
   "metadata": {},
   "outputs": [
    {
     "data": {
      "text/plain": [
       "0.019808902540507642"
      ]
     },
     "execution_count": 100,
     "metadata": {},
     "output_type": "execute_result"
    }
   ],
   "source": [
    "1.0/w"
   ]
  },
  {
   "cell_type": "code",
   "execution_count": 101,
   "metadata": {},
   "outputs": [
    {
     "data": {
      "text/html": [
       "<table class=\"simpletable\">\n",
       "<caption>WLS Regression Results</caption>\n",
       "<tr>\n",
       "  <th>Dep. Variable:</th>            <td>y</td>        <th>  R-squared:         </th> <td>   0.836</td>\n",
       "</tr>\n",
       "<tr>\n",
       "  <th>Model:</th>                   <td>WLS</td>       <th>  Adj. R-squared:    </th> <td>   0.816</td>\n",
       "</tr>\n",
       "<tr>\n",
       "  <th>Method:</th>             <td>Least Squares</td>  <th>  F-statistic:       </th> <td>   40.81</td>\n",
       "</tr>\n",
       "<tr>\n",
       "  <th>Date:</th>             <td>Sun, 11 Nov 2018</td> <th>  Prob (F-statistic):</th> <td>0.000212</td>\n",
       "</tr>\n",
       "<tr>\n",
       "  <th>Time:</th>                 <td>15:55:48</td>     <th>  Log-Likelihood:    </th> <td> -36.629</td>\n",
       "</tr>\n",
       "<tr>\n",
       "  <th>No. Observations:</th>      <td>    10</td>      <th>  AIC:               </th> <td>   77.26</td>\n",
       "</tr>\n",
       "<tr>\n",
       "  <th>Df Residuals:</th>          <td>     8</td>      <th>  BIC:               </th> <td>   77.86</td>\n",
       "</tr>\n",
       "<tr>\n",
       "  <th>Df Model:</th>              <td>     1</td>      <th>                     </th>     <td> </td>   \n",
       "</tr>\n",
       "<tr>\n",
       "  <th>Covariance Type:</th>      <td>nonrobust</td>    <th>                     </th>     <td> </td>   \n",
       "</tr>\n",
       "</table>\n",
       "<table class=\"simpletable\">\n",
       "<tr>\n",
       "    <td></td>       <th>coef</th>     <th>std err</th>      <th>t</th>      <th>P>|t|</th>  <th>[0.025</th>    <th>0.975]</th>  \n",
       "</tr>\n",
       "<tr>\n",
       "  <th>const</th> <td>   80.0270</td> <td>    7.203</td> <td>   11.110</td> <td> 0.000</td> <td>   63.417</td> <td>   96.637</td>\n",
       "</tr>\n",
       "<tr>\n",
       "  <th>0</th>     <td>    0.7416</td> <td>    0.116</td> <td>    6.388</td> <td> 0.000</td> <td>    0.474</td> <td>    1.009</td>\n",
       "</tr>\n",
       "</table>\n",
       "<table class=\"simpletable\">\n",
       "<tr>\n",
       "  <th>Omnibus:</th>       <td> 0.683</td> <th>  Durbin-Watson:     </th> <td>   1.623</td>\n",
       "</tr>\n",
       "<tr>\n",
       "  <th>Prob(Omnibus):</th> <td> 0.711</td> <th>  Jarque-Bera (JB):  </th> <td>   0.005</td>\n",
       "</tr>\n",
       "<tr>\n",
       "  <th>Skew:</th>          <td>-0.050</td> <th>  Prob(JB):          </th> <td>   0.998</td>\n",
       "</tr>\n",
       "<tr>\n",
       "  <th>Kurtosis:</th>      <td> 2.956</td> <th>  Cond. No.          </th> <td>    134.</td>\n",
       "</tr>\n",
       "</table><br/><br/>Warnings:<br/>[1] Standard Errors assume that the covariance matrix of the errors is correctly specified."
      ],
      "text/plain": [
       "<class 'statsmodels.iolib.summary.Summary'>\n",
       "\"\"\"\n",
       "                            WLS Regression Results                            \n",
       "==============================================================================\n",
       "Dep. Variable:                      y   R-squared:                       0.836\n",
       "Model:                            WLS   Adj. R-squared:                  0.816\n",
       "Method:                 Least Squares   F-statistic:                     40.81\n",
       "Date:                Sun, 11 Nov 2018   Prob (F-statistic):           0.000212\n",
       "Time:                        15:55:48   Log-Likelihood:                -36.629\n",
       "No. Observations:                  10   AIC:                             77.26\n",
       "Df Residuals:                       8   BIC:                             77.86\n",
       "Df Model:                           1                                         \n",
       "Covariance Type:            nonrobust                                         \n",
       "==============================================================================\n",
       "                 coef    std err          t      P>|t|      [0.025      0.975]\n",
       "------------------------------------------------------------------------------\n",
       "const         80.0270      7.203     11.110      0.000      63.417      96.637\n",
       "0              0.7416      0.116      6.388      0.000       0.474       1.009\n",
       "==============================================================================\n",
       "Omnibus:                        0.683   Durbin-Watson:                   1.623\n",
       "Prob(Omnibus):                  0.711   Jarque-Bera (JB):                0.005\n",
       "Skew:                          -0.050   Prob(JB):                        0.998\n",
       "Kurtosis:                       2.956   Cond. No.                         134.\n",
       "==============================================================================\n",
       "\n",
       "Warnings:\n",
       "[1] Standard Errors assume that the covariance matrix of the errors is correctly specified.\n",
       "\"\"\""
      ]
     },
     "execution_count": 101,
     "metadata": {},
     "output_type": "execute_result"
    }
   ],
   "source": [
    "model = WLS(y, x_const, weights=1.0/w).fit()\n",
    "model.summary()"
   ]
  },
  {
   "cell_type": "markdown",
   "metadata": {},
   "source": [
    "# Note: you can also use other statsmodels functions, for example statsmodels.formula.api which allows to pass an equation\n",
    "again, make sure that your formula supports an intercept (no deliverable for this portion, it's up to you to explore the use of this function)"
   ]
  },
  {
   "cell_type": "code",
   "execution_count": 113,
   "metadata": {
    "ExecuteTime": {
     "end_time": "2018-11-08T17:43:22.172119Z",
     "start_time": "2018-11-08T17:43:21.914280Z"
    }
   },
   "outputs": [
    {
     "data": {
      "image/png": "[encoded data removed]",
      "text/plain": [
       "<Figure size 432x288 with 1 Axes>"
      ]
     },
     "metadata": {
      "needs_background": "light"
     },
     "output_type": "display_data"
    }
   ],
   "source": [
    "# statsmodels.formula.api accepts dictionaris, pandas dataframes, and python rec arrays as input: \n",
    "# all data types that host data paired with labels\n",
    "smfmodel = smf.ols('y ~ x + const', data={'x':x, 'y':y, 'const':np.ones(len(x))}).fit()\n",
    "pl.errorbar(x, y, yerr=errors(x), fmt='.')\n",
    "pl.plot(x, smfmodel.fittedvalues, 'b-', label=\"smf.ols\")\n",
    "pl.plot(x, model.fittedvalues, 'g+', label=\"sm.WLS\")\n",
    "pl.plot(x, res_b.fittedvalues, 'r--', label=\"sm.ols\")\n",
    "pl.xlabel(\"exogenous\")\n",
    "pl.ylabel(\"endogenous\")\n",
    "pl.legend();"
   ]
  },
  {
   "cell_type": "code",
   "execution_count": null,
   "metadata": {},
   "outputs": [],
   "source": [
    "## End of Notebook"
   ]
  }
 ],
 "metadata": {
  "kernelspec": {
   "display_name": "tf",
   "language": "python",
   "name": "tf"
  },
  "language_info": {
   "codemirror_mode": {
    "name": "ipython",
    "version": 3
   },
   "file_extension": ".py",
   "mimetype": "text/x-python",
   "name": "python",
   "nbconvert_exporter": "python",
   "pygments_lexer": "ipython3",
   "version": "3.5.5"
  },
  "toc": {
   "colors": {
    "hover_highlight": "#DAA520",
    "running_highlight": "#FF0000",
    "selected_highlight": "#FFD700"
   },
   "moveMenuLeft": true,
   "nav_menu": {
    "height": "12px",
    "width": "252px"
   },
   "navigate_menu": true,
   "number_sections": true,
   "sideBar": true,
   "threshold": 4,
   "toc_cell": false,
   "toc_section_display": "block",
   "toc_window_display": false
  }
 },
 "nbformat": 4,
 "nbformat_minor": 2
}
