{
 "cells": [
  {
   "cell_type": "markdown",
   "metadata": {
    "run_control": {
     "frozen": false,
     "read_only": false
    }
   },
   "source": [
    "# TIME SERIES ANALYSIS\n",
    "\n",
    "# Goal: Find outliers, trends and periodicity in the MTA turnstyle data\n",
    "    \n",
    "\n",
    "## DATA:\n",
    "MTA subway fares. It is a complete dataset of\n",
    "rides logged by card swipes for 600 Manhattan stations.\n",
    "\n",
    "The data was organized  by Sina Kashuk at CUSP.\n",
    "\n",
    "It contains 23 different subway card types \n",
    "(e.g. monthly pass, daily pass, Act for Disability pass…) as follows:\n"
   ]
  },
  {
   "cell_type": "markdown",
   "metadata": {},
   "source": [
    "# Task 4:\n",
    "**Several stations show a prominent annual periodicity. Identify the 4 **stations** (indentify them by the index of their location in the data cube) that show the most prominent periodic trend on an annual period (52 weeks). (Can you figure out what the periodic peak in rides is due to?)**\n",
    "\n",
    "\n",
    "# Task 5: Extra Credit\n",
    "**Cluster the time series, i.e. identify groups of time series that look similar among each other, using the features you engineered:**\n",
    "- are there distinct clusters?\n",
    "- do they reflect the card type or station? \n",
    "\n",
    "To do this correctly you should whiten the data: each of your 4 features (column if you think about this as a table) should be standardized: \n",
    "subtract the mean for taht feature across the sample for each feature and divide the resulting feature vectore by its standard deviation\n",
    "\n",
    "feature = (feature - feature.mean() ) / feature.std()\n",
    "\n",
    "each \"feature\" vectors that results from the operation above should be 7667 long (or whatever the number of clean observcations you were left with)\n",
    "\n",
    "Note: if you wanted to cluster on all the time stamps, like you build the second model last week, you should standardize each observation (row) instead: \n",
    "\n",
    "observation = (observation -observation.mean()) / observation.std()\n",
    "each of these \"observation\" vectors should be 194 long (or whatever the number of clean observcations you were left with)\n"
   ]
  },
  {
   "cell_type": "code",
   "execution_count": 1,
   "metadata": {
    "ExecuteTime": {
     "end_time": "2018-11-29T19:12:12.847626Z",
     "start_time": "2018-11-29T19:12:11.947437Z"
    },
    "run_control": {
     "frozen": false,
     "read_only": false
    }
   },
   "outputs": [
    {
     "name": "stderr",
     "output_type": "stream",
     "text": [
      "/nfshome/shy256/.conda/envs/tf/lib/python3.5/importlib/_bootstrap.py:222: RuntimeWarning: numpy.dtype size changed, may indicate binary incompatibility. Expected 96, got 88\n",
      "  return f(*args, **kwds)\n",
      "/nfshome/shy256/.conda/envs/tf/lib/python3.5/importlib/_bootstrap.py:222: RuntimeWarning: numpy.dtype size changed, may indicate binary incompatibility. Expected 96, got 88\n",
      "  return f(*args, **kwds)\n",
      "/nfshome/shy256/.conda/envs/tf/lib/python3.5/importlib/_bootstrap.py:222: RuntimeWarning: numpy.dtype size changed, may indicate binary incompatibility. Expected 96, got 88\n",
      "  return f(*args, **kwds)\n",
      "/nfshome/shy256/.conda/envs/tf/lib/python3.5/importlib/_bootstrap.py:222: RuntimeWarning: numpy.dtype size changed, may indicate binary incompatibility. Expected 96, got 88\n",
      "  return f(*args, **kwds)\n",
      "/nfshome/shy256/.conda/envs/tf/lib/python3.5/importlib/_bootstrap.py:222: RuntimeWarning: numpy.dtype size changed, may indicate binary incompatibility. Expected 96, got 88\n",
      "  return f(*args, **kwds)\n",
      "/nfshome/shy256/.conda/envs/tf/lib/python3.5/site-packages/sklearn/ensemble/weight_boosting.py:29: DeprecationWarning: numpy.core.umath_tests is an internal NumPy module and should not be imported. It will be removed in a future NumPy release.\n",
      "  from numpy.core.umath_tests import inner1d\n",
      "/nfshome/shy256/.conda/envs/tf/lib/python3.5/importlib/_bootstrap.py:222: RuntimeWarning: numpy.dtype size changed, may indicate binary incompatibility. Expected 96, got 88\n",
      "  return f(*args, **kwds)\n"
     ]
    },
    {
     "name": "stdout",
     "output_type": "stream",
     "text": [
      "Populating the interactive namespace from numpy and matplotlib\n"
     ]
    },
    {
     "data": {
      "image/png": "[encoded data removed]",
      "text/plain": [
       "<IPython.core.display.Image object>"
      ]
     },
     "execution_count": 1,
     "metadata": {},
     "output_type": "execute_result"
    }
   ],
   "source": [
    "from __future__ import print_function, division\n",
    "import pylab as pl\n",
    "import numpy as np\n",
    "import pandas as pd\n",
    "\n",
    "from sklearn.ensemble  import RandomForestClassifier as rfc\n",
    "from sklearn.model_selection import train_test_split\n",
    "from sklearn.metrics import confusion_matrix\n",
    "from sklearn.metrics import classification_report\n",
    "import statsmodels.api as sm\n",
    "\n",
    "%pylab inline\n",
    "\n",
    "from IPython.display import Image\n",
    "from IPython.display import clear_output\n",
    "pl.rcParams['font.size'] = 20\n",
    "Image(filename = \"../HW11_shy256/Ridetypes.png\")"
   ]
  },
  {
   "cell_type": "code",
   "execution_count": 2,
   "metadata": {},
   "outputs": [
    {
     "name": "stderr",
     "output_type": "stream",
     "text": [
      "/nfshome/shy256/.conda/envs/tf/lib/python3.5/importlib/_bootstrap.py:222: RuntimeWarning: numpy.dtype size changed, may indicate binary incompatibility. Expected 96, got 88\n",
      "  return f(*args, **kwds)\n",
      "/nfshome/shy256/.conda/envs/tf/lib/python3.5/site-packages/sklearn/cross_validation.py:41: DeprecationWarning: This module was deprecated in version 0.18 in favor of the model_selection module into which all the refactored classes and functions are moved. Also note that the interface of the new CV iterators are different from that of this module. This module will be removed in 0.20.\n",
      "  \"This module will be removed in 0.20.\", DeprecationWarning)\n"
     ]
    }
   ],
   "source": [
    "# this is me\n",
    "__author__ = \"Sung Hoon Yang, CUSP NYU 2018\"\n",
    "\n",
    "# limit the number of same warnings to once\n",
    "import warnings\n",
    "# To ignore some warnings\n",
    "import warnings\n",
    "warnings.filterwarnings(action='once')\n",
    "warnings.simplefilter(action='ignore', category=FutureWarning)\n",
    "warnings.simplefilter(action='ignore', category=UserWarning)\n",
    "\n",
    "# Built-ins\n",
    "import os\n",
    "import sys\n",
    "import math\n",
    "\n",
    "# Basic\n",
    "import numpy as np\n",
    "import pandas as pd\n",
    "import matplotlib\n",
    "import geopandas as gpd\n",
    "font = {'family':'normal','weight':'bold','size':88};matplotlib.rc('font', **font);\n",
    "import matplotlib.pyplot as plt\n",
    "import seaborn as sns\n",
    "np.random.seed(999)\n",
    "%matplotlib inline\n",
    "\n",
    "# Processing \n",
    "from sklearn.preprocessing import MinMaxScaler\n",
    "\n",
    "# Stat\n",
    "from scipy import stats\n",
    "import statsmodels as sm\n",
    "import statsmodels.formula.api as smf\n",
    "import statsmodels.api as sma\n",
    "from statsmodels.regression.linear_model import WLS\n",
    "from statsmodels.tools.tools import add_constant\n",
    "\n",
    "# Regularization using Ridge, Lasso\n",
    "from sklearn import linear_model\n",
    "\n",
    "# PCA module\n",
    "from sklearn.decomposition import PCA\n",
    "from sklearn.cross_validation import train_test_split\n",
    "from mpl_toolkits.mplot3d import Axes3D\n",
    "from sklearn import preprocessing\n",
    "\n",
    "# Time Series AutoRegression\n",
    "from pandas.plotting import lag_plot\n",
    "from pandas.plotting import autocorrelation_plot\n",
    "from sklearn.metrics import mean_squared_error\n",
    "from statsmodels.graphics.tsaplots import plot_acf\n",
    "from statsmodels.tsa.ar_model import AR\n",
    "\n",
    "# Clustering\n",
    "from scipy.spatial.distance import cdist, pdist # used by k-means elbow method\n",
    "from sklearn.cluster import KMeans\n",
    "sys.path.insert(0, '/nfshome/shy256/fall18/appliedDataScience/hw5')\n",
    "from elbow import elbow # Copied from Session 9 Notebook, and stored in above path under name elbow.py\n",
    "from sklearn.metrics import silhouette_samples, silhouette_score\n",
    "from sklearn.mixture import GaussianMixture\n",
    "from sklearn.cluster import DBSCAN\n",
    "\n",
    "# Classification\n",
    "from sklearn.linear_model import LogisticRegression\n",
    "from sklearn import svm\n",
    "from sklearn.metrics import confusion_matrix\n",
    "\n",
    "# Misc. Utilities\n",
    "import re\n",
    "from datetime import datetime\n",
    "from copy import deepcopy\n",
    "from tabulate import tabulate"
   ]
  },
  {
   "cell_type": "markdown",
   "metadata": {
    "run_control": {
     "frozen": false,
     "read_only": false
    }
   },
   "source": [
    "This is the information I recieved about the data: \"each time series (per station, per ticket type) contains\n",
    "the number of swipes per week for 194 weeks \n",
    "from 05/19/2010 to 02/19/2014. \"\n",
    "\n",
    "The data are available to you as a python data cube here:\n",
    "\n",
    "you can load it as \n",
    "\n",
    "np.load(“MTA_Fare.npy\") and \n",
    "\n",
    "\n",
    "you will end up with a python numpy array of \n",
    "shape (600,23,194)\n",
    "\n",
    "** note that the missing values are inputted as -1**\n",
    "\n",
    "if you want to do things like algebra (summing time series for example) you need to take care of that! if you replace the -1 entries with NaN remember to use functions that can deal with nans:\n",
    "np.nanmean\n",
    "np.nansum..."
   ]
  },
  {
   "cell_type": "markdown",
   "metadata": {
    "run_control": {
     "frozen": false,
     "read_only": false
    }
   },
   "source": [
    "# HINTS: \n",
    "\n",
    "## notes and hints: \n",
    "\n",
    "   1) you could coerce the data into a pandas dataframe, but the data is truly a \"datacube\": a 3D dataset, and flattening it into a pandas dataframe will make it far more difficult to manipulate. I strongly recommand you keep it as a numpy array\n",
    "    \n",
    "   2) note that the missing values are inputted as -1. if you want to do things like algebra (summing time series for example) you need to take care of that. If you replace the -1 entries with NaN, you may need to use functions that explicitly know how to deal with NaN: for example, to sum use the np.nansum etc\n",
    "```\n",
    "np.nanmean(mtarides)\n",
    "np.nansum(mtarides)\n",
    "```\n",
    "as opposed to just \n",
    "```\n",
    "np.mean(mtarides)\n",
    "np.sum(mtarides)\n",
    "```\n",
    " \n",
    "## There are 600 stations, 23 card types. The trick to do this homework succesfully is to \"collaps\" (by averaging, or summing, depending on the question) the appropriate dimension in different parts of the homework: when you need to work at the station level (if I ask \"which station is the one that...\"), collaps the card type, when you need to work on the card type, collapse the stations. \n",
    "\n",
    "When I ask you \"which station ...\", you can sum or average over the ridership types for all station and reduce your data by a factor 23. When I ask you \"which rideship type ...\" you can sum or average over the stations and reduce your data by a factor 600! (or even better you could take a weighted average - *np.average(....weight=...)* -. The sum and average functions take an *axis* argument, which allows you to control which axis of the cube gets averaged. The dimension of the resulting object will allow you to check that you averaged over the right axis.\n",
    "\n",
    "\n",
    "# Possibly useful functions\n",
    "\n",
    "You are already familiar with and have already used  most of the functions I needed to perform this exercise. Here are some reminders and on few functions and methods that you may not have encountered yet which may be useful. You do not have to use them: there are many ways to do things and you do not have to solve this problem like I did, but here they are in case you need some help:\n",
    "\n",
    "* the numpy function np.where() returns the index where a condition is true. It is slow and inefficient but very intuitive and convenient\n",
    "\n",
    "\n",
    "* the nupy functions np.nansum(), np.sum(), np.nanmean() etc take an array and the axis along which to sum as inputs. If you want to sum over stations, or over rides, you can use these passing the appropriate axis number: axis=1 axis=2...\n",
    "\n",
    "\n",
    "*  the array methods \n",
    "```\n",
    "np.array.flatten()\n",
    "np.array.reshape()\n",
    "```\n",
    "     allow you to manipulate the shape of an array, for example if you want to run analysis on each individual time series, each station and each ridership type, which I recommand if you want to work on clustering for extra credit (resulting into 600*23=13800 time series) you can flatten the array as\n",
    "     \n",
    "```\n",
    "mtaarray.flatten()\n",
    "```\n",
    "\n",
    "    which returns the flatten array:\n",
    "\n",
    "```\n",
    "mtaRides = np.load(\"MTA_Fare.npy\")\n",
    "\n",
    "mtaRides.shape\n",
    "Out[10]: (600, 23, 194)\n",
    "\n",
    "mtaRides.flatten().shape\n",
    "Out[11]: (2677200,)\n",
    "````"
   ]
  },
  {
   "cell_type": "markdown",
   "metadata": {
    "ExecuteTime": {
     "end_time": "2018-11-29T19:44:58.918841Z",
     "start_time": "2018-11-29T19:44:58.906154Z"
    },
    "run_control": {
     "frozen": false,
     "marked": false,
     "read_only": false
    }
   },
   "source": [
    "# read in data as instructed above"
   ]
  },
  {
   "cell_type": "code",
   "execution_count": 3,
   "metadata": {},
   "outputs": [
    {
     "data": {
      "text/plain": [
       "array([[[56961, 64703, 68002, ..., 36527, 33929, 36824],\n",
       "        [ 1732,  2083,  2107, ...,  1264,  1172,  1238],\n",
       "        [  203,   276,   245, ...,   186,   167,   167],\n",
       "        ...,\n",
       "        [    0,     0,     0, ...,     0,     0,     0],\n",
       "        [    0,     0,     0, ...,     0,     0,     0],\n",
       "        [   -1,    -1,    -1, ...,  1121,  1377,   712]],\n",
       "\n",
       "       [[16210, 20179, 21769, ...,    -1,    -1,    -1],\n",
       "        [  503,   647,   665, ...,    -1,    -1,    -1],\n",
       "        [   41,    43,    44, ...,    -1,    -1,    -1],\n",
       "        ...,\n",
       "        [    0,     0,     0, ...,    -1,    -1,    -1],\n",
       "        [    0,     0,     0, ...,    -1,    -1,    -1],\n",
       "        [   -1,    -1,    -1, ...,    -1,    -1,    -1]],\n",
       "\n",
       "       [[ 3292,  3429,  3629, ...,  3746,  3406,  3217],\n",
       "        [  110,    92,   102, ...,   212,   209,   211],\n",
       "        [    7,     6,    13, ...,    26,    20,    22],\n",
       "        ...,\n",
       "        [    0,     0,     0, ...,     0,     0,     0],\n",
       "        [    0,     0,     0, ...,     0,     0,     0],\n",
       "        [   -1,    -1,    -1, ...,   573,   761,   288]],\n",
       "\n",
       "       ...,\n",
       "\n",
       "       [[   -1,    -1,    -1, ...,    -1,    -1,    -1],\n",
       "        [   -1,    -1,    -1, ...,    -1,    -1,    -1],\n",
       "        [   -1,    -1,    -1, ...,    -1,    -1,    -1],\n",
       "        ...,\n",
       "        [   -1,    -1,    -1, ...,    -1,    -1,    -1],\n",
       "        [   -1,    -1,    -1, ...,    -1,    -1,    -1],\n",
       "        [   -1,    -1,    -1, ...,    -1,    -1,    -1]],\n",
       "\n",
       "       [[   -1,    -1,    -1, ...,    -1,    -1,    -1],\n",
       "        [   -1,    -1,    -1, ...,    -1,    -1,    -1],\n",
       "        [   -1,    -1,    -1, ...,    -1,    -1,    -1],\n",
       "        ...,\n",
       "        [   -1,    -1,    -1, ...,    -1,    -1,    -1],\n",
       "        [   -1,    -1,    -1, ...,    -1,    -1,    -1],\n",
       "        [   -1,    -1,    -1, ...,    -1,    -1,    -1]],\n",
       "\n",
       "       [[   -1,    -1,    -1, ...,    -1,    -1,    -1],\n",
       "        [   -1,    -1,    -1, ...,    -1,    -1,    -1],\n",
       "        [   -1,    -1,    -1, ...,    -1,    -1,    -1],\n",
       "        ...,\n",
       "        [   -1,    -1,    -1, ...,    -1,    -1,    -1],\n",
       "        [   -1,    -1,    -1, ...,    -1,    -1,    -1],\n",
       "        [   -1,    -1,    -1, ...,    -1,    -1,    -1]]], dtype=int32)"
      ]
     },
     "execution_count": 3,
     "metadata": {},
     "output_type": "execute_result"
    }
   ],
   "source": [
    "MTA_Fare = np.load(\"../HW11_shy256/MTA_Fare.npy\")\n",
    "MTA_Fare #.[MTA_Fare < 0.0] = np.nan"
   ]
  },
  {
   "cell_type": "code",
   "execution_count": 4,
   "metadata": {},
   "outputs": [],
   "source": [
    "MTA_Fare = MTA_Fare.astype(float)\n",
    "MTA_Fare[MTA_Fare < 0.0] = np.nan\n",
    "mta = MTA_Fare"
   ]
  },
  {
   "cell_type": "code",
   "execution_count": 5,
   "metadata": {
    "ExecuteTime": {
     "end_time": "2018-11-29T19:08:39.025813Z",
     "start_time": "2018-11-29T19:08:38.994634Z"
    },
    "run_control": {
     "frozen": false,
     "read_only": false
    }
   },
   "outputs": [
    {
     "name": "stdout",
     "output_type": "stream",
     "text": [
      "MTA array shape: (600, 23, 194)\n",
      "MTA array shape summed over all ride types: (600, 194)\n"
     ]
    }
   ],
   "source": [
    "print (\"MTA array shape:\", mta.shape)\n",
    "print (\"MTA array shape summed over all ride types:\", np.nansum(mta,axis=1).shape)"
   ]
  },
  {
   "cell_type": "markdown",
   "metadata": {
    "run_control": {
     "frozen": false,
     "read_only": false
    }
   },
   "source": [
    "create a \"ride types\" list based on the metadata I was given"
   ]
  },
  {
   "cell_type": "code",
   "execution_count": 6,
   "metadata": {
    "ExecuteTime": {
     "end_time": "2018-11-29T19:20:41.401337Z",
     "start_time": "2018-11-29T19:20:41.395266Z"
    },
    "run_control": {
     "frozen": false,
     "read_only": false
    }
   },
   "outputs": [
    {
     "name": "stdout",
     "output_type": "stream",
     "text": [
      "number of ride types 23\n"
     ]
    }
   ],
   "source": [
    "#ridership type list\n",
    "ridetype = np.array(['10t', '14d', '1d', '2t', '30d', '7d', 'ada', 'afas', 'exp','ez',\n",
    "            'ff','mc','mr','month','rfm','rr','sen','spec','tcmc','t',\n",
    "            'umlim','xbus','stud'])\n",
    "print(\"number of ride types\", len(ridetype))"
   ]
  },
  {
   "cell_type": "markdown",
   "metadata": {
    "run_control": {
     "frozen": false,
     "read_only": false
    }
   },
   "source": [
    "You need to create a date range to plot properly. \n",
    "After that I create a date range (for example with pd.date_range())\n",
    "in a log plot to enhance the visibility along the y axis (np.log10(weightedrides[i]))\n",
    "all time series, each station each ride type, look like this (pretty ugly)"
   ]
  },
  {
   "cell_type": "code",
   "execution_count": 7,
   "metadata": {
    "ExecuteTime": {
     "end_time": "2018-11-29T17:26:15.794333Z",
     "start_time": "2018-11-29T17:23:42.598919Z"
    },
    "run_control": {
     "frozen": false,
     "read_only": false
    }
   },
   "outputs": [],
   "source": [
    "# plot the data in natural space\n",
    "# then plot the  data in log space (may take a while to plot because of the very inefficient double for loop - \n",
    "# the counter needs to get to 23)\n",
    "di = pd.date_range(start='20100521', periods=194, freq='W')"
   ]
  },
  {
   "cell_type": "code",
   "execution_count": null,
   "metadata": {},
   "outputs": [
    {
     "name": "stderr",
     "output_type": "stream",
     "text": [
      "/nfshome/shy256/.conda/envs/tf/lib/python3.5/site-packages/ipykernel_launcher.py:5: RuntimeWarning: divide by zero encountered in log10\n",
      "  \"\"\"\n"
     ]
    },
    {
     "data": {
      "text/plain": [
       "Text(0,0.5,'swipes ($log_{10}$)')"
      ]
     },
     "execution_count": 8,
     "metadata": {},
     "output_type": "execute_result"
    }
   ],
   "source": [
    "fig = plt.figure(figsize=(16, 12))\n",
    "ax = plt.gca()\n",
    "for i in range(mta.shape[0]):\n",
    "    for j in range(mta.shape[1]):\n",
    "        plt.plot(di, np.log10(mta[i][j]))\n",
    "ax.set_title('time series for all ride types and all stations in semi-log space')\n",
    "ax.set_xlabel('weeks since 05/21/2010')\n",
    "ax.set_ylabel('swipes ($log_{10}$)')\n"
   ]
  },
  {
   "cell_type": "markdown",
   "metadata": {
    "run_control": {
     "frozen": false,
     "read_only": false
    }
   },
   "source": [
    "#### Figure 2: time series for all ride types and all stations in semi-log space"
   ]
  },
  {
   "cell_type": "markdown",
   "metadata": {},
   "source": [
    "# 4. Fourier transform\n",
    "from the numpy package you will nees only the \n",
    "np.fft.rfft() to take the fourier transform\n",
    "\n",
    "and\n",
    "\n",
    "np.fft.rfftfreq() to create a meaningful x axis \n"
   ]
  },
  {
   "cell_type": "markdown",
   "metadata": {},
   "source": [
    "# Task 4:\n",
    "**Several stations show a prominent annual periodicity. Identify the 4 **stations** (indentify them by the index of their location in the data cube) that show the most prominent periodic trend on an annual period (52 weeks). (Can you figure out what the periodic peak in rides is due to?)**"
   ]
  },
  {
   "cell_type": "code",
   "execution_count": 48,
   "metadata": {},
   "outputs": [
    {
     "data": {
      "text/plain": [
       "(600, 52)"
      ]
     },
     "execution_count": 48,
     "metadata": {},
     "output_type": "execute_result"
    }
   ],
   "source": [
    "st = np.nansum(mta, axis=1)\n",
    "st = st[0:600, :52] # 52 weeks\n",
    "st.shape"
   ]
  },
  {
   "cell_type": "code",
   "execution_count": 69,
   "metadata": {},
   "outputs": [
    {
     "data": {
      "text/plain": [
       "DatetimeIndex(['2010-05-23', '2010-05-30', '2010-06-06', '2010-06-13',\n",
       "               '2010-06-20', '2010-06-27', '2010-07-04', '2010-07-11',\n",
       "               '2010-07-18', '2010-07-25', '2010-08-01', '2010-08-08',\n",
       "               '2010-08-15', '2010-08-22', '2010-08-29', '2010-09-05',\n",
       "               '2010-09-12', '2010-09-19', '2010-09-26', '2010-10-03',\n",
       "               '2010-10-10', '2010-10-17', '2010-10-24', '2010-10-31',\n",
       "               '2010-11-07', '2010-11-14', '2010-11-21', '2010-11-28',\n",
       "               '2010-12-05', '2010-12-12', '2010-12-19', '2010-12-26',\n",
       "               '2011-01-02', '2011-01-09', '2011-01-16', '2011-01-23',\n",
       "               '2011-01-30', '2011-02-06', '2011-02-13', '2011-02-20',\n",
       "               '2011-02-27', '2011-03-06', '2011-03-13', '2011-03-20',\n",
       "               '2011-03-27', '2011-04-03', '2011-04-10', '2011-04-17',\n",
       "               '2011-04-24', '2011-05-01', '2011-05-08', '2011-05-15'],\n",
       "              dtype='datetime64[ns]', freq='W-SUN')"
      ]
     },
     "execution_count": 69,
     "metadata": {},
     "output_type": "execute_result"
    }
   ],
   "source": [
    "di[:52]"
   ]
  },
  {
   "cell_type": "code",
   "execution_count": 83,
   "metadata": {},
   "outputs": [],
   "source": [
    "df_st = pd.DataFrame(st.T, index=di[:52]).T"
   ]
  },
  {
   "cell_type": "code",
   "execution_count": 84,
   "metadata": {},
   "outputs": [
    {
     "data": {
      "text/html": [
       "<div>\n",
       "<style scoped>\n",
       "    .dataframe tbody tr th:only-of-type {\n",
       "        vertical-align: middle;\n",
       "    }\n",
       "\n",
       "    .dataframe tbody tr th {\n",
       "        vertical-align: top;\n",
       "    }\n",
       "\n",
       "    .dataframe thead th {\n",
       "        text-align: right;\n",
       "    }\n",
       "</style>\n",
       "<table border=\"1\" class=\"dataframe\">\n",
       "  <thead>\n",
       "    <tr style=\"text-align: right;\">\n",
       "      <th></th>\n",
       "      <th>2010-05-23 00:00:00</th>\n",
       "      <th>2010-05-30 00:00:00</th>\n",
       "      <th>2010-06-06 00:00:00</th>\n",
       "      <th>2010-06-13 00:00:00</th>\n",
       "      <th>2010-06-20 00:00:00</th>\n",
       "      <th>2010-06-27 00:00:00</th>\n",
       "      <th>2010-07-04 00:00:00</th>\n",
       "      <th>2010-07-11 00:00:00</th>\n",
       "      <th>2010-07-18 00:00:00</th>\n",
       "      <th>2010-07-25 00:00:00</th>\n",
       "      <th>...</th>\n",
       "      <th>2011-03-13 00:00:00</th>\n",
       "      <th>2011-03-20 00:00:00</th>\n",
       "      <th>2011-03-27 00:00:00</th>\n",
       "      <th>2011-04-03 00:00:00</th>\n",
       "      <th>2011-04-10 00:00:00</th>\n",
       "      <th>2011-04-17 00:00:00</th>\n",
       "      <th>2011-04-24 00:00:00</th>\n",
       "      <th>2011-05-01 00:00:00</th>\n",
       "      <th>2011-05-08 00:00:00</th>\n",
       "      <th>2011-05-15 00:00:00</th>\n",
       "    </tr>\n",
       "  </thead>\n",
       "  <tbody>\n",
       "    <tr>\n",
       "      <th>0</th>\n",
       "      <td>False</td>\n",
       "      <td>False</td>\n",
       "      <td>False</td>\n",
       "      <td>False</td>\n",
       "      <td>False</td>\n",
       "      <td>False</td>\n",
       "      <td>False</td>\n",
       "      <td>False</td>\n",
       "      <td>False</td>\n",
       "      <td>False</td>\n",
       "      <td>...</td>\n",
       "      <td>False</td>\n",
       "      <td>False</td>\n",
       "      <td>False</td>\n",
       "      <td>False</td>\n",
       "      <td>False</td>\n",
       "      <td>False</td>\n",
       "      <td>False</td>\n",
       "      <td>False</td>\n",
       "      <td>False</td>\n",
       "      <td>False</td>\n",
       "    </tr>\n",
       "    <tr>\n",
       "      <th>1</th>\n",
       "      <td>False</td>\n",
       "      <td>False</td>\n",
       "      <td>False</td>\n",
       "      <td>False</td>\n",
       "      <td>False</td>\n",
       "      <td>False</td>\n",
       "      <td>False</td>\n",
       "      <td>False</td>\n",
       "      <td>False</td>\n",
       "      <td>False</td>\n",
       "      <td>...</td>\n",
       "      <td>False</td>\n",
       "      <td>False</td>\n",
       "      <td>False</td>\n",
       "      <td>False</td>\n",
       "      <td>False</td>\n",
       "      <td>False</td>\n",
       "      <td>False</td>\n",
       "      <td>False</td>\n",
       "      <td>False</td>\n",
       "      <td>False</td>\n",
       "    </tr>\n",
       "    <tr>\n",
       "      <th>2</th>\n",
       "      <td>False</td>\n",
       "      <td>False</td>\n",
       "      <td>False</td>\n",
       "      <td>False</td>\n",
       "      <td>False</td>\n",
       "      <td>False</td>\n",
       "      <td>False</td>\n",
       "      <td>False</td>\n",
       "      <td>False</td>\n",
       "      <td>False</td>\n",
       "      <td>...</td>\n",
       "      <td>False</td>\n",
       "      <td>False</td>\n",
       "      <td>False</td>\n",
       "      <td>False</td>\n",
       "      <td>False</td>\n",
       "      <td>False</td>\n",
       "      <td>False</td>\n",
       "      <td>False</td>\n",
       "      <td>False</td>\n",
       "      <td>False</td>\n",
       "    </tr>\n",
       "    <tr>\n",
       "      <th>3</th>\n",
       "      <td>False</td>\n",
       "      <td>False</td>\n",
       "      <td>False</td>\n",
       "      <td>False</td>\n",
       "      <td>False</td>\n",
       "      <td>False</td>\n",
       "      <td>False</td>\n",
       "      <td>False</td>\n",
       "      <td>False</td>\n",
       "      <td>False</td>\n",
       "      <td>...</td>\n",
       "      <td>False</td>\n",
       "      <td>False</td>\n",
       "      <td>False</td>\n",
       "      <td>False</td>\n",
       "      <td>False</td>\n",
       "      <td>False</td>\n",
       "      <td>False</td>\n",
       "      <td>False</td>\n",
       "      <td>False</td>\n",
       "      <td>False</td>\n",
       "    </tr>\n",
       "    <tr>\n",
       "      <th>4</th>\n",
       "      <td>False</td>\n",
       "      <td>False</td>\n",
       "      <td>False</td>\n",
       "      <td>False</td>\n",
       "      <td>False</td>\n",
       "      <td>False</td>\n",
       "      <td>False</td>\n",
       "      <td>False</td>\n",
       "      <td>False</td>\n",
       "      <td>False</td>\n",
       "      <td>...</td>\n",
       "      <td>False</td>\n",
       "      <td>False</td>\n",
       "      <td>False</td>\n",
       "      <td>False</td>\n",
       "      <td>False</td>\n",
       "      <td>False</td>\n",
       "      <td>False</td>\n",
       "      <td>False</td>\n",
       "      <td>False</td>\n",
       "      <td>False</td>\n",
       "    </tr>\n",
       "  </tbody>\n",
       "</table>\n",
       "<p>5 rows × 52 columns</p>\n",
       "</div>"
      ],
      "text/plain": [
       "   2010-05-23  2010-05-30  2010-06-06  2010-06-13  2010-06-20  2010-06-27  \\\n",
       "0       False       False       False       False       False       False   \n",
       "1       False       False       False       False       False       False   \n",
       "2       False       False       False       False       False       False   \n",
       "3       False       False       False       False       False       False   \n",
       "4       False       False       False       False       False       False   \n",
       "\n",
       "   2010-07-04  2010-07-11  2010-07-18  2010-07-25     ...      2011-03-13  \\\n",
       "0       False       False       False       False     ...           False   \n",
       "1       False       False       False       False     ...           False   \n",
       "2       False       False       False       False     ...           False   \n",
       "3       False       False       False       False     ...           False   \n",
       "4       False       False       False       False     ...           False   \n",
       "\n",
       "   2011-03-20  2011-03-27  2011-04-03  2011-04-10  2011-04-17  2011-04-24  \\\n",
       "0       False       False       False       False       False       False   \n",
       "1       False       False       False       False       False       False   \n",
       "2       False       False       False       False       False       False   \n",
       "3       False       False       False       False       False       False   \n",
       "4       False       False       False       False       False       False   \n",
       "\n",
       "   2011-05-01  2011-05-08  2011-05-15  \n",
       "0       False       False       False  \n",
       "1       False       False       False  \n",
       "2       False       False       False  \n",
       "3       False       False       False  \n",
       "4       False       False       False  \n",
       "\n",
       "[5 rows x 52 columns]"
      ]
     },
     "execution_count": 84,
     "metadata": {},
     "output_type": "execute_result"
    }
   ],
   "source": [
    "drop_ind = df_st <= 0 \n",
    "drop_ind.head()"
   ]
  },
  {
   "cell_type": "code",
   "execution_count": 88,
   "metadata": {},
   "outputs": [],
   "source": [
    "df_st = df_st[~drop_ind.apply(lambda r: any(r[1]), axis=1)]\n",
    "st = np.array(df_st)"
   ]
  },
  {
   "cell_type": "code",
   "execution_count": 201,
   "metadata": {},
   "outputs": [],
   "source": [
    "# fig, ax = plt.subplots()\n",
    "\n",
    "# ax.stem(freqs, np.abs(X))\n",
    "# ax.set_xlabel('Frequency in Hertz [Hz]')\n",
    "# ax.set_ylabel('Frequency Domain (Spectrum) Magnitude')\n",
    "# ax.set_xlim(-f_s / 2, f_s / 2)\n",
    "# ax.set_ylim(-5, 110)\n",
    "# from scipy import fftpack\n",
    "\n",
    "def get_fft(i):\n",
    "    _s = np.log10(st[i])\n",
    "    _s[\n",
    "        (_s == np.inf)|\n",
    "        (_s == -np.inf)\n",
    "    ] = 0\n",
    "    inds = np.where(np.isnan(_s))\n",
    "    _s[inds] = np.nanmean(_s, axis=0) # nan to average value\n",
    "    sp = np.fft.rfft(_s)\n",
    "    freq = np.fft.rfftfreq(len(_s))\n",
    "    return _s, freq, sp\n",
    "\n"
   ]
  },
  {
   "cell_type": "code",
   "execution_count": 202,
   "metadata": {},
   "outputs": [
    {
     "data": {
      "text/plain": [
       "[<matplotlib.lines.Line2D at 0x7f0092db7b38>]"
      ]
     },
     "execution_count": 202,
     "metadata": {},
     "output_type": "execute_result"
    },
    {
     "data": {
      "image/png": "[encoded data removed]",
      "text/plain": [
       "<Figure size 432x288 with 2 Axes>"
      ]
     },
     "metadata": {
      "needs_background": "light"
     },
     "output_type": "display_data"
    }
   ],
   "source": [
    "i = 1\n",
    "_s, freq, sp = get_fft(i)\n",
    "fig, (ax0, ax1) = plt.subplots(1, 2)\n",
    "ax0.plot(freq, sp.real, freq, sp.imag)\n",
    "ax1.plot(di[:52], _s)"
   ]
  },
  {
   "cell_type": "code",
   "execution_count": 226,
   "metadata": {},
   "outputs": [
    {
     "name": "stderr",
     "output_type": "stream",
     "text": [
      "/nfshome/shy256/.conda/envs/tf/lib/python3.5/site-packages/ipykernel_launcher.py:11: RuntimeWarning: divide by zero encountered in log10\n",
      "  # This is added back by InteractiveShellApp.init_path()\n"
     ]
    }
   ],
   "source": [
    "std_real_rec = []\n",
    "std_imag_rec = []\n",
    "res_set = []\n",
    "for i in range(st.shape[0]):\n",
    "    _s, freq, sp = get_fft(i)\n",
    "    std_real_rec.append(np.abs(sp.real).sum())\n",
    "    std_imag_rec.append(np.abs(sp.imag).sum())    \n",
    "    res_set.append((_s, freq, np.abs((sp.real - sp.real.mean()) / sp.real.std())))"
   ]
  },
  {
   "cell_type": "code",
   "execution_count": 227,
   "metadata": {},
   "outputs": [
    {
     "data": {
      "text/html": [
       "<div>\n",
       "<style scoped>\n",
       "    .dataframe tbody tr th:only-of-type {\n",
       "        vertical-align: middle;\n",
       "    }\n",
       "\n",
       "    .dataframe tbody tr th {\n",
       "        vertical-align: top;\n",
       "    }\n",
       "\n",
       "    .dataframe thead th {\n",
       "        text-align: right;\n",
       "    }\n",
       "</style>\n",
       "<table border=\"1\" class=\"dataframe\">\n",
       "  <thead>\n",
       "    <tr style=\"text-align: right;\">\n",
       "      <th></th>\n",
       "      <th>std_imag</th>\n",
       "      <th>std_real</th>\n",
       "    </tr>\n",
       "  </thead>\n",
       "  <tbody>\n",
       "    <tr>\n",
       "      <th>0</th>\n",
       "      <td>3.599274</td>\n",
       "      <td>270.530498</td>\n",
       "    </tr>\n",
       "    <tr>\n",
       "      <th>1</th>\n",
       "      <td>6.800439</td>\n",
       "      <td>244.449757</td>\n",
       "    </tr>\n",
       "    <tr>\n",
       "      <th>2</th>\n",
       "      <td>2.799413</td>\n",
       "      <td>204.937576</td>\n",
       "    </tr>\n",
       "    <tr>\n",
       "      <th>3</th>\n",
       "      <td>2.446986</td>\n",
       "      <td>224.973110</td>\n",
       "    </tr>\n",
       "    <tr>\n",
       "      <th>4</th>\n",
       "      <td>2.542612</td>\n",
       "      <td>227.528259</td>\n",
       "    </tr>\n",
       "  </tbody>\n",
       "</table>\n",
       "</div>"
      ],
      "text/plain": [
       "   std_imag    std_real\n",
       "0  3.599274  270.530498\n",
       "1  6.800439  244.449757\n",
       "2  2.799413  204.937576\n",
       "3  2.446986  224.973110\n",
       "4  2.542612  227.528259"
      ]
     },
     "execution_count": 227,
     "metadata": {},
     "output_type": "execute_result"
    }
   ],
   "source": [
    "fft_res = pd.DataFrame(\n",
    "    data = {\n",
    "        'std_real': std_real_rec\n",
    "        , 'std_imag': std_imag_rec        \n",
    "    }\n",
    "    , index=df_st.index\n",
    ")\n",
    "fft_res.head()"
   ]
  },
  {
   "cell_type": "code",
   "execution_count": 228,
   "metadata": {},
   "outputs": [
    {
     "data": {
      "text/plain": [
       "(461, 2)"
      ]
     },
     "execution_count": 228,
     "metadata": {},
     "output_type": "execute_result"
    }
   ],
   "source": [
    "fft_res = fft_res[(fft_res.std_imag > 0) & (fft_res.std_real > 0)]\n",
    "fft_res.shape"
   ]
  },
  {
   "cell_type": "code",
   "execution_count": 229,
   "metadata": {},
   "outputs": [
    {
     "data": {
      "text/html": [
       "<div>\n",
       "<style scoped>\n",
       "    .dataframe tbody tr th:only-of-type {\n",
       "        vertical-align: middle;\n",
       "    }\n",
       "\n",
       "    .dataframe tbody tr th {\n",
       "        vertical-align: top;\n",
       "    }\n",
       "\n",
       "    .dataframe thead th {\n",
       "        text-align: right;\n",
       "    }\n",
       "</style>\n",
       "<table border=\"1\" class=\"dataframe\">\n",
       "  <thead>\n",
       "    <tr style=\"text-align: right;\">\n",
       "      <th></th>\n",
       "      <th>std_imag</th>\n",
       "      <th>std_real</th>\n",
       "    </tr>\n",
       "  </thead>\n",
       "  <tbody>\n",
       "    <tr>\n",
       "      <th>161</th>\n",
       "      <td>148.835774</td>\n",
       "      <td>307.111123</td>\n",
       "    </tr>\n",
       "    <tr>\n",
       "      <th>169</th>\n",
       "      <td>5.267722</td>\n",
       "      <td>304.835919</td>\n",
       "    </tr>\n",
       "    <tr>\n",
       "      <th>244</th>\n",
       "      <td>141.136873</td>\n",
       "      <td>297.212264</td>\n",
       "    </tr>\n",
       "    <tr>\n",
       "      <th>21</th>\n",
       "      <td>3.243745</td>\n",
       "      <td>294.609170</td>\n",
       "    </tr>\n",
       "    <tr>\n",
       "      <th>32</th>\n",
       "      <td>3.209236</td>\n",
       "      <td>293.433413</td>\n",
       "    </tr>\n",
       "  </tbody>\n",
       "</table>\n",
       "</div>"
      ],
      "text/plain": [
       "       std_imag    std_real\n",
       "161  148.835774  307.111123\n",
       "169    5.267722  304.835919\n",
       "244  141.136873  297.212264\n",
       "21     3.243745  294.609170\n",
       "32     3.209236  293.433413"
      ]
     },
     "execution_count": 229,
     "metadata": {},
     "output_type": "execute_result"
    }
   ],
   "source": [
    "fft_res.sort_values(by='std_real', axis=0, ascending=False)[:5]"
   ]
  },
  {
   "cell_type": "markdown",
   "metadata": {},
   "source": [
    "#### four time series with most prominent periodicity\n",
    "according to the sum of the absolute value of one-dimensional discrete Fourier Transform "
   ]
  },
  {
   "cell_type": "code",
   "execution_count": 234,
   "metadata": {},
   "outputs": [
    {
     "data": {
      "text/plain": [
       "[<matplotlib.lines.Line2D at 0x7f0092801a20>]"
      ]
     },
     "execution_count": 234,
     "metadata": {},
     "output_type": "execute_result"
    },
    {
     "data": {
      "image/png": "[encoded data removed]",
      "text/plain": [
       "<Figure size 432x288 with 2 Axes>"
      ]
     },
     "metadata": {
      "needs_background": "light"
     },
     "output_type": "display_data"
    }
   ],
   "source": [
    "i = 161\n",
    "\n",
    "_s, freq, sp = get_fft(i)\n",
    "fig, (ax0, ax1) = plt.subplots(1, 2)\n",
    "ax0.plot(freq, sp.real, freq, sp.imag)\n",
    "# ax0.plot(freq, sp.real)\n",
    "ax1.plot(di[:52], _s)\n"
   ]
  },
  {
   "cell_type": "code",
   "execution_count": 235,
   "metadata": {},
   "outputs": [
    {
     "data": {
      "text/plain": [
       "[<matplotlib.lines.Line2D at 0x7f00927e6898>]"
      ]
     },
     "execution_count": 235,
     "metadata": {},
     "output_type": "execute_result"
    },
    {
     "data": {
      "image/png": "[encoded data removed]",
      "text/plain": [
       "<Figure size 432x288 with 2 Axes>"
      ]
     },
     "metadata": {
      "needs_background": "light"
     },
     "output_type": "display_data"
    }
   ],
   "source": [
    "i = 169\n",
    "\n",
    "_s, freq, sp = get_fft(i)\n",
    "fig, (ax0, ax1) = plt.subplots(1, 2)\n",
    "ax0.plot(freq, sp.real, freq, sp.imag)\n",
    "# ax0.plot(freq, sp.real)\n",
    "ax1.plot(di[:52], _s)\n"
   ]
  },
  {
   "cell_type": "code",
   "execution_count": 236,
   "metadata": {},
   "outputs": [
    {
     "data": {
      "text/plain": [
       "[<matplotlib.lines.Line2D at 0x7f0092755898>]"
      ]
     },
     "execution_count": 236,
     "metadata": {},
     "output_type": "execute_result"
    },
    {
     "data": {
      "image/png": "[encoded data removed]",
      "text/plain": [
       "<Figure size 432x288 with 2 Axes>"
      ]
     },
     "metadata": {
      "needs_background": "light"
     },
     "output_type": "display_data"
    }
   ],
   "source": [
    "i = 244\n",
    "\n",
    "_s, freq, sp = get_fft(i)\n",
    "fig, (ax0, ax1) = plt.subplots(1, 2)\n",
    "ax0.plot(freq, sp.real, freq, sp.imag)\n",
    "# ax0.plot(freq, sp.real)\n",
    "ax1.plot(di[:52], _s)\n"
   ]
  },
  {
   "cell_type": "code",
   "execution_count": 237,
   "metadata": {},
   "outputs": [
    {
     "data": {
      "text/plain": [
       "[<matplotlib.lines.Line2D at 0x7f0092737b70>]"
      ]
     },
     "execution_count": 237,
     "metadata": {},
     "output_type": "execute_result"
    },
    {
     "data": {
      "image/png": "[encoded data removed]",
      "text/plain": [
       "<Figure size 432x288 with 2 Axes>"
      ]
     },
     "metadata": {
      "needs_background": "light"
     },
     "output_type": "display_data"
    }
   ],
   "source": [
    "i = 21\n",
    "\n",
    "_s, freq, sp = get_fft(i)\n",
    "fig, (ax0, ax1) = plt.subplots(1, 2)\n",
    "ax0.plot(freq, sp.real, freq, sp.imag)\n",
    "# ax0.plot(freq, sp.real)\n",
    "ax1.plot(di[:52], _s)\n"
   ]
  },
  {
   "cell_type": "code",
   "execution_count": null,
   "metadata": {},
   "outputs": [],
   "source": [
    "## End of Notebook"
   ]
  }
 ],
 "metadata": {
  "kernelspec": {
   "display_name": "tf",
   "language": "python",
   "name": "tf"
  },
  "language_info": {
   "codemirror_mode": {
    "name": "ipython",
    "version": 3
   },
   "file_extension": ".py",
   "mimetype": "text/x-python",
   "name": "python",
   "nbconvert_exporter": "python",
   "pygments_lexer": "ipython3",
   "version": "3.6.4"
  },
  "toc": {
   "colors": {
    "hover_highlight": "#DAA520",
    "running_highlight": "#FF0000",
    "selected_highlight": "#FFD700"
   },
   "moveMenuLeft": true,
   "nav_menu": {
    "height": "512px",
    "width": "252px"
   },
   "navigate_menu": true,
   "number_sections": false,
   "sideBar": true,
   "threshold": 4,
   "toc_cell": false,
   "toc_section_display": "block",
   "toc_window_display": false
  }
 },
 "nbformat": 4,
 "nbformat_minor": 2
}
